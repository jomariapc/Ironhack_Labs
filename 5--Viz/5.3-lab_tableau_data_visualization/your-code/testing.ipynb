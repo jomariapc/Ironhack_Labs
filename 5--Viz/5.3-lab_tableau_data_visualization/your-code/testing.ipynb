{
 "cells": [
  {
   "cell_type": "code",
   "execution_count": 2,
   "id": "bbc7831a-22a8-4109-8099-846086f3eb08",
   "metadata": {},
   "outputs": [],
   "source": [
    "import pandas as pd\n"
   ]
  },
  {
   "cell_type": "code",
   "execution_count": 11,
   "id": "66da3f8b-aaf5-4860-b26c-8c42dbfc7255",
   "metadata": {},
   "outputs": [
    {
     "data": {
      "text/plain": [
       "Index(['Year', 'Date', 'GameNumber', 'GameLocation', 'Team', 'TeamScore',\n",
       "       'Opponent', 'OppponentScore', 'Result', 'PassingAttempts',\n",
       "       'PassingCompletions', 'PassingInterceptions', 'PasserRating',\n",
       "       'PassingSacks', 'PassingSacksYardsLost', 'PassingTouchdowns',\n",
       "       'PassingYards', 'ReceivingReceptions', 'ReceivingTargets',\n",
       "       'ReceivingTouchdowns', 'ReceivingYards', 'RushingAttempts',\n",
       "       'RushingTouchdowns', 'RushingYards', 'DefenseTackes',\n",
       "       'DefenseTackleAssists', 'DefenseSacks', 'DefenseSafeties',\n",
       "       'DefenseInterceptions', 'DefenseInterceptionYards',\n",
       "       'DefenseInterceptionTouchdowns', 'KickReturnAttempts',\n",
       "       'KickReturnTouchdowns', 'KickReturnYards', 'PuntReturnAttempts',\n",
       "       'PuntReturnTouchdowns', 'PuntReturnYards', 'FieldGoalAttempts',\n",
       "       'FieldGoals', 'PuntingAttempts', 'PuntsBlocked', 'PuntingYards'],\n",
       "      dtype='object')"
      ]
     },
     "execution_count": 11,
     "metadata": {},
     "output_type": "execute_result"
    }
   ],
   "source": [
    "nfl = pd.read_csv('../data/nfl_football_team_stats.csv')\n",
    "\n",
    "nfl.columns"
   ]
  },
  {
   "cell_type": "code",
   "execution_count": 10,
   "id": "a85d393b-7c4f-4aff-a2d8-b0e026222fde",
   "metadata": {},
   "outputs": [
    {
     "data": {
      "text/plain": [
       "534"
      ]
     },
     "execution_count": 10,
     "metadata": {},
     "output_type": "execute_result"
    }
   ],
   "source": [
    "len(nfl[nfl.Year==2014])"
   ]
  },
  {
   "cell_type": "code",
   "execution_count": null,
   "id": "4bda8aa8-3b67-449b-a7eb-0dbb742993fc",
   "metadata": {},
   "outputs": [],
   "source": []
  },
  {
   "cell_type": "code",
   "execution_count": null,
   "id": "6ba8e1b4-d7fe-4a74-9b65-dfcaf504083b",
   "metadata": {},
   "outputs": [],
   "source": []
  }
 ],
 "metadata": {
  "kernelspec": {
   "display_name": "clase",
   "language": "python",
   "name": "python3"
  },
  "language_info": {
   "codemirror_mode": {
    "name": "ipython",
    "version": 3
   },
   "file_extension": ".py",
   "mimetype": "text/x-python",
   "name": "python",
   "nbconvert_exporter": "python",
   "pygments_lexer": "ipython3",
   "version": "3.10.13"
  }
 },
 "nbformat": 4,
 "nbformat_minor": 5
}
