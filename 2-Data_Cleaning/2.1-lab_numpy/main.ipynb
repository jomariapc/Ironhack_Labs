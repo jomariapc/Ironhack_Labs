{
 "cells": [
  {
   "cell_type": "code",
   "execution_count": 1,
   "id": "cf17906c-65a3-43a7-b5f2-e46a34500f5d",
   "metadata": {},
   "outputs": [],
   "source": [
    "#1. Import the NUMPY package under the name np.\n",
    "import numpy as np"
   ]
  },
  {
   "cell_type": "code",
   "execution_count": 2,
   "id": "e33dec54-2b8f-4ae4-8736-9861a85c5e06",
   "metadata": {},
   "outputs": [
    {
     "name": "stdout",
     "output_type": "stream",
     "text": [
      "Versión: 1.26.1\n",
      "Build Dependencies:\n",
      "  blas:\n",
      "    detection method: pkgconfig\n",
      "    found: true\n",
      "    include directory: /c/opt/64/include\n",
      "    lib directory: /c/opt/64/lib\n",
      "    name: openblas64\n",
      "    openblas configuration: USE_64BITINT=1 DYNAMIC_ARCH=1 DYNAMIC_OLDER= NO_CBLAS=\n",
      "      NO_LAPACK= NO_LAPACKE= NO_AFFINITY=1 USE_OPENMP= SKYLAKEX MAX_THREADS=2\n",
      "    pc file directory: C:/opt/64/lib/pkgconfig\n",
      "    version: 0.3.23.dev\n",
      "  lapack:\n",
      "    detection method: internal\n",
      "    found: true\n",
      "    include directory: unknown\n",
      "    lib directory: unknown\n",
      "    name: dep2209613275984\n",
      "    openblas configuration: unknown\n",
      "    pc file directory: unknown\n",
      "    version: 1.26.1\n",
      "Compilers:\n",
      "  c:\n",
      "    commands: cl\n",
      "    linker: link\n",
      "    name: msvc\n",
      "    version: 19.29.30152\n",
      "  c++:\n",
      "    commands: cl\n",
      "    linker: link\n",
      "    name: msvc\n",
      "    version: 19.29.30152\n",
      "  cython:\n",
      "    commands: cython\n",
      "    linker: cython\n",
      "    name: cython\n",
      "    version: 3.0.3\n",
      "Machine Information:\n",
      "  build:\n",
      "    cpu: x86_64\n",
      "    endian: little\n",
      "    family: x86_64\n",
      "    system: windows\n",
      "  host:\n",
      "    cpu: x86_64\n",
      "    endian: little\n",
      "    family: x86_64\n",
      "    system: windows\n",
      "Python Information:\n",
      "  path: C:\\Users\\runneradmin\\AppData\\Local\\Temp\\cibw-run-67h8h5ot\\cp310-win_amd64\\build\\venv\\Scripts\\python.exe\n",
      "  version: '3.10'\n",
      "SIMD Extensions:\n",
      "  baseline:\n",
      "  - SSE\n",
      "  - SSE2\n",
      "  - SSE3\n",
      "  found:\n",
      "  - SSSE3\n",
      "  - SSE41\n",
      "  - POPCNT\n",
      "  - SSE42\n",
      "  - AVX\n",
      "  - F16C\n",
      "  - FMA3\n",
      "  - AVX2\n",
      "  not found:\n",
      "  - AVX512F\n",
      "  - AVX512CD\n",
      "  - AVX512_SKX\n",
      "  - AVX512_CLX\n",
      "  - AVX512_CNL\n",
      "  - AVX512_ICL\n",
      "\n",
      "None\n"
     ]
    }
   ],
   "source": [
    "#2. Print the NUMPY version and the configuration.\n",
    "print(\"Versión:\", np.__version__)\n",
    "print(np.show_config())"
   ]
  },
  {
   "cell_type": "code",
   "execution_count": 3,
   "id": "7302a858-7f32-4c08-a5df-3c7a738ad10e",
   "metadata": {},
   "outputs": [],
   "source": [
    "#3. Generate a 2x3x5 3-dimensional array with random values. Assign the array to variable \"a\"\n",
    "# Challenge: there are at least three easy ways that use numpy to generate random arrays. How many ways can you find?\n",
    "a = np.random.randint(5, size=(2, 3,5))"
   ]
  },
  {
   "cell_type": "code",
   "execution_count": 4,
   "id": "78949821-273e-4cb4-842e-1d986f61594a",
   "metadata": {},
   "outputs": [
    {
     "data": {
      "text/plain": [
       "array([[[2, 1, 4, 2, 4],\n",
       "        [4, 1, 1, 2, 2],\n",
       "        [4, 0, 1, 1, 2]],\n",
       "\n",
       "       [[1, 3, 1, 0, 1],\n",
       "        [3, 3, 3, 1, 0],\n",
       "        [4, 2, 2, 1, 1]]])"
      ]
     },
     "execution_count": 4,
     "metadata": {},
     "output_type": "execute_result"
    }
   ],
   "source": [
    "#4. Print a.\n",
    "a"
   ]
  },
  {
   "cell_type": "code",
   "execution_count": 5,
   "id": "cb102fe8-2f16-4dd4-b744-1cb2149770b0",
   "metadata": {},
   "outputs": [
    {
     "data": {
      "text/plain": [
       "array([[[1, 1, 1],\n",
       "        [1, 1, 1]],\n",
       "\n",
       "       [[1, 1, 1],\n",
       "        [1, 1, 1]],\n",
       "\n",
       "       [[1, 1, 1],\n",
       "        [1, 1, 1]],\n",
       "\n",
       "       [[1, 1, 1],\n",
       "        [1, 1, 1]],\n",
       "\n",
       "       [[1, 1, 1],\n",
       "        [1, 1, 1]]])"
      ]
     },
     "execution_count": 5,
     "metadata": {},
     "output_type": "execute_result"
    }
   ],
   "source": [
    "#5. Create a 5x2x3 3-dimensional array with all values equaling 1.\n",
    "#Assign the array to variable \"b\"\n",
    "\n",
    "b= np.random.randint(1,2, size=(5, 2,3))\n",
    "\n",
    "b"
   ]
  },
  {
   "cell_type": "code",
   "execution_count": 6,
   "id": "8e86efc3-3588-454c-8bfb-2f0de2d325b0",
   "metadata": {},
   "outputs": [
    {
     "name": "stdout",
     "output_type": "stream",
     "text": [
      "a: 30 b: 30\n"
     ]
    }
   ],
   "source": [
    "#7. Do a and b have the same size? How do you prove that in Python code?\n",
    "print(\"a:\", a.size, \"b:\", b.size)"
   ]
  },
  {
   "cell_type": "code",
   "execution_count": 7,
   "id": "aa2c5b4b-3bc1-4fbc-9dda-f99dfe2bfe8f",
   "metadata": {},
   "outputs": [
    {
     "name": "stdout",
     "output_type": "stream",
     "text": [
      "No es posible sumar a y b porque a no tiene el mismo número de columnas, que b filas\n",
      "a shape: (2, 3, 5) b shape: (5, 2, 3)\n"
     ]
    }
   ],
   "source": [
    "#8. Are you able to add a and b? Why or why not?\n",
    "#print(a+b)\n",
    "#np.add(a, b) \n",
    "print(\"No es posible sumar a y b porque a no tiene el mismo número de columnas, que b filas\")\n",
    "print(\"a shape:\", a.shape, \"b shape:\", b.shape)"
   ]
  },
  {
   "cell_type": "code",
   "execution_count": 8,
   "id": "8aa54388-3148-4cf5-ad15-0f118c941120",
   "metadata": {},
   "outputs": [
    {
     "name": "stdout",
     "output_type": "stream",
     "text": [
      "[[[1 1 1 1 1]\n",
      "  [1 1 1 1 1]\n",
      "  [1 1 1 1 1]]\n",
      "\n",
      " [[1 1 1 1 1]\n",
      "  [1 1 1 1 1]\n",
      "  [1 1 1 1 1]]]\n"
     ]
    }
   ],
   "source": [
    "#9. Transpose b so that it has the same structure of a (i.e. become a 2x3x5 array). Assign the transposed array to varialbe \"c\".\n",
    "c= b.transpose((1,2,0))\n",
    "\n",
    "print(c)"
   ]
  },
  {
   "cell_type": "code",
   "execution_count": 9,
   "id": "0e05220d-e3a3-4760-a5d9-da2d8569f332",
   "metadata": {},
   "outputs": [
    {
     "name": "stdout",
     "output_type": "stream",
     "text": [
      "Funciona porque tienen el mismo shape. a shape:  (2, 3, 5) d shape: (2, 3, 5)\n"
     ]
    }
   ],
   "source": [
    "#10. Try to add a and c. Now it should work. Assign the sum to varialbe \"d\". But why does it work now?\n",
    "d= np.add(a, c) \n",
    "\n",
    "print(\"Funciona porque tienen el mismo shape. a shape: \", a.shape, \"d shape:\", d.shape)"
   ]
  },
  {
   "cell_type": "code",
   "execution_count": 10,
   "id": "921fb8a6-ec8b-461c-b468-e8350cc3b2e9",
   "metadata": {},
   "outputs": [
    {
     "name": "stdout",
     "output_type": "stream",
     "text": [
      "a: [[[2 1 4 2 4]\n",
      "  [4 1 1 2 2]\n",
      "  [4 0 1 1 2]]\n",
      "\n",
      " [[1 3 1 0 1]\n",
      "  [3 3 3 1 0]\n",
      "  [4 2 2 1 1]]] \n",
      "\n",
      " d: [[[3 2 5 3 5]\n",
      "  [5 2 2 3 3]\n",
      "  [5 1 2 2 3]]\n",
      "\n",
      " [[2 4 2 1 2]\n",
      "  [4 4 4 2 1]\n",
      "  [5 3 3 2 2]]]\n",
      "d es igual a +1\n"
     ]
    }
   ],
   "source": [
    "#11. Print a and d. Notice the difference and relation of the two array in terms of the values? Explain.\n",
    "print(\"a:\", a, \"\\n\\n\", \"d:\", d)\n",
    "print(\"d es igual a +1\")"
   ]
  },
  {
   "cell_type": "code",
   "execution_count": 11,
   "id": "2b5fb205-ebf4-472d-bf7c-9eb521761241",
   "metadata": {},
   "outputs": [
    {
     "name": "stdout",
     "output_type": "stream",
     "text": [
      "[[[2 1 4 2 4]\n",
      "  [4 1 1 2 2]\n",
      "  [4 0 1 1 2]]\n",
      "\n",
      " [[1 3 1 0 1]\n",
      "  [3 3 3 1 0]\n",
      "  [4 2 2 1 1]]]\n"
     ]
    }
   ],
   "source": [
    "#12. Multiply a and c. Assign the result to e.\n",
    "e= np.multiply(a, c)\n",
    "\n",
    "print(e)"
   ]
  },
  {
   "cell_type": "code",
   "execution_count": 12,
   "id": "711e31e6-dd8c-495b-b775-0a82ee5ea806",
   "metadata": {},
   "outputs": [
    {
     "name": "stdout",
     "output_type": "stream",
     "text": [
      "Si, porque e es la multiplicación por 0 de todos los valores de a\n"
     ]
    }
   ],
   "source": [
    "#13. Does e equal to a? Why or why not?\n",
    "print(\"Si, porque e es la multiplicación por 0 de todos los valores de a\")"
   ]
  },
  {
   "cell_type": "code",
   "execution_count": 13,
   "id": "c4c87055-cdb3-4be7-9885-90a11c0fd2d1",
   "metadata": {},
   "outputs": [],
   "source": [
    "#14. Identify the max, min, and mean values in d. Assign those values to variables \"d_max\", \"d_min\", and \"d_mean\"\n",
    "d_max= d.max()\n",
    "d_min= d.min()\n",
    "d_mean=d.mean()"
   ]
  },
  {
   "cell_type": "code",
   "execution_count": 14,
   "id": "e892ef5e-c238-4e08-90f8-48797197f1c6",
   "metadata": {},
   "outputs": [
    {
     "name": "stdout",
     "output_type": "stream",
     "text": [
      "(2, 3, 5)\n"
     ]
    }
   ],
   "source": [
    "#15. Now we want to label the values in d. First create an empty array \"f\" with the same shape (i.e. 2x3x5) as d using `np.empty`.\n",
    "f=np.empty([2, 3,5], dtype=int)\n",
    "\n",
    "print(f.shape)"
   ]
  },
  {
   "cell_type": "code",
   "execution_count": 15,
   "id": "9ce74e8c-4fdc-4ea5-9958-a59284b9b914",
   "metadata": {},
   "outputs": [
    {
     "data": {
      "text/plain": [
       "\"\\n#16. Populate the values in f. For each value in d, if it's larger than d_min but smaller than d_mean, assign 25 to the corresponding value in f.\\nIf a value in d is larger than d_mean but smaller than d_max, assign 75 to the corresponding value in f.\\nIf a value equals to d_mean, assign 50 to the corresponding value in f.\\nAssign 0 to the corresponding value(s) in f for d_min in d.\\nAssign 100 to the corresponding value(s) in f for d_max in d.\\nIn the end, f should have only the following values: 0, 25, 50, 75, and 100.\\nNote: you don't have to use Numpy in this question.\\n\""
      ]
     },
     "execution_count": 15,
     "metadata": {},
     "output_type": "execute_result"
    }
   ],
   "source": [
    "\"\"\"\n",
    "#16. Populate the values in f. For each value in d, if it's larger than d_min but smaller than d_mean, assign 25 to the corresponding value in f.\n",
    "If a value in d is larger than d_mean but smaller than d_max, assign 75 to the corresponding value in f.\n",
    "If a value equals to d_mean, assign 50 to the corresponding value in f.\n",
    "Assign 0 to the corresponding value(s) in f for d_min in d.\n",
    "Assign 100 to the corresponding value(s) in f for d_max in d.\n",
    "In the end, f should have only the following values: 0, 25, 50, 75, and 100.\n",
    "Note: you don't have to use Numpy in this question.\n",
    "\"\"\""
   ]
  },
  {
   "cell_type": "code",
   "execution_count": 33,
   "id": "31d7d41a-2eaa-4d90-af82-43759537d45e",
   "metadata": {},
   "outputs": [],
   "source": [
    "f=np.where(((d > d_min) & (d<d_mean)), 25, np.where((d > d_mean) & (d<d_max), 75, np.where(d == d_mean, 50, np.where(d == d_max, 100, 0))))"
   ]
  },
  {
   "cell_type": "code",
   "execution_count": null,
   "id": "bf2f19e2-bab7-4e6e-8cfc-3dda13df7450",
   "metadata": {},
   "outputs": [],
   "source": [
    "\"\"\"f[(d > d_min) & (d<d_mean)]=25\n",
    "\n",
    "f[(d > d_mean) & (d<d_max)]=75\n",
    "\n",
    "f[d == d_mean]=50\n",
    "\n",
    "f[d == d_max]=100\n",
    "\n",
    "f[d == d_min]=0\n",
    "\"\"\""
   ]
  },
  {
   "cell_type": "code",
   "execution_count": null,
   "id": "7f076eed-1983-4d07-8edf-a31d528e4db4",
   "metadata": {},
   "outputs": [],
   "source": [
    "\"\"\"\n",
    "#17. Print d and f. Do you have your expected f?\n",
    "For instance, if your d is:\n",
    "array([[[1.85836099, 1.67064465, 1.62576044, 1.40243961, 1.88454931],\n",
    "        [1.75354326, 1.69403643, 1.36729252, 1.61415071, 1.12104981],\n",
    "        [1.72201435, 1.1862918 , 1.87078449, 1.7726778 , 1.88180042]],\n",
    "\n",
    "       [[1.44747908, 1.31673383, 1.02000951, 1.52218947, 1.97066381],\n",
    "        [1.79129243, 1.74983003, 1.96028037, 1.85166831, 1.65450881],\n",
    "        [1.18068344, 1.9587381 , 1.00656599, 1.93402165, 1.73514584]]])\n",
    "\n",
    "Your f should be:\n",
    "array([[[ 75.,  75.,  75.,  25.,  75.],\n",
    "        [ 75.,  75.,  25.,  25.,  25.],\n",
    "        [ 75.,  25.,  75.,  75.,  75.]],\n",
    "\n",
    "       [[ 25.,  25.,  25.,  25., 100.],\n",
    "        [ 75.,  75.,  75.,  75.,  75.],\n",
    "        [ 25.,  75.,   0.,  75.,  75.]]])\n",
    "\"\"\""
   ]
  },
  {
   "cell_type": "code",
   "execution_count": 34,
   "id": "6ef4fa69-e0cc-4d16-bbbe-0ec900e49329",
   "metadata": {},
   "outputs": [
    {
     "name": "stdout",
     "output_type": "stream",
     "text": [
      "[[[3 2 5 3 5]\n",
      "  [5 2 2 3 3]\n",
      "  [5 1 2 2 3]]\n",
      "\n",
      " [[2 4 2 1 2]\n",
      "  [4 4 4 2 1]\n",
      "  [5 3 3 2 2]]]\n",
      "[[[ 75  25 100  75 100]\n",
      "  [100  25  25  75  75]\n",
      "  [100   0  25  25  75]]\n",
      "\n",
      " [[ 25  75  25   0  25]\n",
      "  [ 75  75  75  25   0]\n",
      "  [100  75  75  25  25]]]\n"
     ]
    }
   ],
   "source": [
    "print(d)\n",
    "print(f)"
   ]
  },
  {
   "cell_type": "code",
   "execution_count": null,
   "id": "da1584cd-f2d3-47d8-8ab8-833b6ddfde55",
   "metadata": {},
   "outputs": [],
   "source": [
    "\"\"\"\n",
    "#18. Bonus question: instead of using numbers (i.e. 0, 25, 50, 75, and 100), how to use string values \n",
    "(\"A\", \"B\", \"C\", \"D\", and \"E\") to label the array elements? You are expecting the result to be:\n",
    "array([[[ 'D',  'D',  'D',  'B',  'D'],\n",
    "        [ 'D',  'D',  'B',  'B',  'B'],\n",
    "        [ 'D',  'B',  'D',  'D',  'D']],\n",
    "\n",
    "       [[ 'B',  'B',  'B',  'B',  'E'],\n",
    "        [ 'D',  'D',  'D',  'D',  'D'],\n",
    "        [ 'B',  'D',   'A',  'D', 'D']]])\n",
    "Again, you don't need Numpy in this question.\n",
    "\"\"\""
   ]
  }
 ],
 "metadata": {
  "kernelspec": {
   "display_name": "clase",
   "language": "python",
   "name": "clase"
  },
  "language_info": {
   "codemirror_mode": {
    "name": "ipython",
    "version": 3
   },
   "file_extension": ".py",
   "mimetype": "text/x-python",
   "name": "python",
   "nbconvert_exporter": "python",
   "pygments_lexer": "ipython3",
   "version": "3.10.13"
  }
 },
 "nbformat": 4,
 "nbformat_minor": 5
}
