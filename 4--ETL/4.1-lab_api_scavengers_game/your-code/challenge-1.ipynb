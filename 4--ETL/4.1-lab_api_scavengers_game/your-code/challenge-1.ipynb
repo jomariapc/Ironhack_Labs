{
 "cells": [
  {
   "cell_type": "code",
   "execution_count": 37,
   "metadata": {},
   "outputs": [],
   "source": [
    "import json\n",
    "import requests"
   ]
  },
  {
   "cell_type": "markdown",
   "metadata": {},
   "source": [
    "Only if you're using your environmental variable eith the `.env` file, import/install the following modules. Otherwise it is not necessary:\n",
    "\n",
    "https://pypi.org/project/python-dotenv/"
   ]
  },
  {
   "cell_type": "code",
   "execution_count": 16,
   "metadata": {},
   "outputs": [],
   "source": [
    "import os\n",
    "from dotenv import load_dotenv"
   ]
  },
  {
   "cell_type": "code",
   "execution_count": 17,
   "metadata": {},
   "outputs": [],
   "source": [
    "# %pip install python-dotenv"
   ]
  },
  {
   "cell_type": "code",
   "execution_count": 18,
   "metadata": {},
   "outputs": [
    {
     "data": {
      "text/plain": [
       "False"
      ]
     },
     "execution_count": 18,
     "metadata": {},
     "output_type": "execute_result"
    }
   ],
   "source": [
    "load_dotenv()"
   ]
  },
  {
   "cell_type": "code",
   "execution_count": 19,
   "metadata": {},
   "outputs": [],
   "source": [
    "github = os.getenv(\"token\")"
   ]
  },
  {
   "cell_type": "markdown",
   "metadata": {},
   "source": [
    "# Challenge 1: Fork Languages\n",
    "\n",
    "You will find out how many programming languages are used among all the forks created from the main lab repo of your bootcamp. Assuming the main lab repo is ironhack-datalabs/datamad1020-rev, you will:\n",
    "\n",
    "1. Obtain the full list of forks created from the main lab repo via Github API.\n",
    "\n",
    "2. Loop the JSON response to find out the language attribute of each fork. Use an array to store the language attributes of each fork.\n",
    "\n",
    "Hint: Each language should appear only once in your array.\n",
    "\n",
    "3. Print the language array. It should be something like:\n",
    "\n",
    "[\"Python\", \"Jupyter Notebook\", \"HTML\"]\n"
   ]
  },
  {
   "cell_type": "markdown",
   "metadata": {},
   "source": [
    "**HINT:**: Create a list with every **language_url** you find in every fork "
   ]
  },
  {
   "cell_type": "markdown",
   "metadata": {},
   "source": [
    "⚠️ **Remember to limit your output before submission**."
   ]
  },
  {
   "cell_type": "code",
   "execution_count": 88,
   "metadata": {},
   "outputs": [
    {
     "data": {
      "text/plain": [
       "<Response [200]>"
      ]
     },
     "execution_count": 88,
     "metadata": {},
     "output_type": "execute_result"
    }
   ],
   "source": [
    "url = 'https://api.github.com/repos/Ironhack-Data-Madrid-Octubre-2023/apuntes_clase'\n",
    "\n",
    "res = requests.get(url)\n",
    "res"
   ]
  },
  {
   "cell_type": "code",
   "execution_count": 92,
   "metadata": {},
   "outputs": [],
   "source": [
    "# res.json()"
   ]
  },
  {
   "cell_type": "markdown",
   "metadata": {},
   "source": [
    "1. Obtain the full list of forks created from the main lab repo via Github API."
   ]
  },
  {
   "cell_type": "code",
   "execution_count": 94,
   "metadata": {},
   "outputs": [
    {
     "data": {
      "text/plain": [
       "{'id': 715102579,\n",
       " 'node_id': 'R_kgDOKp-Zcw',\n",
       " 'name': 'apuntes_clase',\n",
       " 'full_name': 'mariasanzr/apuntes_clase',\n",
       " 'private': False,\n",
       " 'owner': {'login': 'mariasanzr',\n",
       "  'id': 144820296,\n",
       "  'node_id': 'U_kgDOCKHISA',\n",
       "  'avatar_url': 'https://avatars.githubusercontent.com/u/144820296?v=4',\n",
       "  'gravatar_id': '',\n",
       "  'url': 'https://api.github.com/users/mariasanzr',\n",
       "  'html_url': 'https://github.com/mariasanzr',\n",
       "  'followers_url': 'https://api.github.com/users/mariasanzr/followers',\n",
       "  'following_url': 'https://api.github.com/users/mariasanzr/following{/other_user}',\n",
       "  'gists_url': 'https://api.github.com/users/mariasanzr/gists{/gist_id}',\n",
       "  'starred_url': 'https://api.github.com/users/mariasanzr/starred{/owner}{/repo}',\n",
       "  'subscriptions_url': 'https://api.github.com/users/mariasanzr/subscriptions',\n",
       "  'organizations_url': 'https://api.github.com/users/mariasanzr/orgs',\n",
       "  'repos_url': 'https://api.github.com/users/mariasanzr/repos',\n",
       "  'events_url': 'https://api.github.com/users/mariasanzr/events{/privacy}',\n",
       "  'received_events_url': 'https://api.github.com/users/mariasanzr/received_events',\n",
       "  'type': 'User',\n",
       "  'site_admin': False},\n",
       " 'html_url': 'https://github.com/mariasanzr/apuntes_clase',\n",
       " 'description': 'Apuntes de las clases diarias',\n",
       " 'fork': True,\n",
       " 'url': 'https://api.github.com/repos/mariasanzr/apuntes_clase',\n",
       " 'forks_url': 'https://api.github.com/repos/mariasanzr/apuntes_clase/forks',\n",
       " 'keys_url': 'https://api.github.com/repos/mariasanzr/apuntes_clase/keys{/key_id}',\n",
       " 'collaborators_url': 'https://api.github.com/repos/mariasanzr/apuntes_clase/collaborators{/collaborator}',\n",
       " 'teams_url': 'https://api.github.com/repos/mariasanzr/apuntes_clase/teams',\n",
       " 'hooks_url': 'https://api.github.com/repos/mariasanzr/apuntes_clase/hooks',\n",
       " 'issue_events_url': 'https://api.github.com/repos/mariasanzr/apuntes_clase/issues/events{/number}',\n",
       " 'events_url': 'https://api.github.com/repos/mariasanzr/apuntes_clase/events',\n",
       " 'assignees_url': 'https://api.github.com/repos/mariasanzr/apuntes_clase/assignees{/user}',\n",
       " 'branches_url': 'https://api.github.com/repos/mariasanzr/apuntes_clase/branches{/branch}',\n",
       " 'tags_url': 'https://api.github.com/repos/mariasanzr/apuntes_clase/tags',\n",
       " 'blobs_url': 'https://api.github.com/repos/mariasanzr/apuntes_clase/git/blobs{/sha}',\n",
       " 'git_tags_url': 'https://api.github.com/repos/mariasanzr/apuntes_clase/git/tags{/sha}',\n",
       " 'git_refs_url': 'https://api.github.com/repos/mariasanzr/apuntes_clase/git/refs{/sha}',\n",
       " 'trees_url': 'https://api.github.com/repos/mariasanzr/apuntes_clase/git/trees{/sha}',\n",
       " 'statuses_url': 'https://api.github.com/repos/mariasanzr/apuntes_clase/statuses/{sha}',\n",
       " 'languages_url': 'https://api.github.com/repos/mariasanzr/apuntes_clase/languages',\n",
       " 'stargazers_url': 'https://api.github.com/repos/mariasanzr/apuntes_clase/stargazers',\n",
       " 'contributors_url': 'https://api.github.com/repos/mariasanzr/apuntes_clase/contributors',\n",
       " 'subscribers_url': 'https://api.github.com/repos/mariasanzr/apuntes_clase/subscribers',\n",
       " 'subscription_url': 'https://api.github.com/repos/mariasanzr/apuntes_clase/subscription',\n",
       " 'commits_url': 'https://api.github.com/repos/mariasanzr/apuntes_clase/commits{/sha}',\n",
       " 'git_commits_url': 'https://api.github.com/repos/mariasanzr/apuntes_clase/git/commits{/sha}',\n",
       " 'comments_url': 'https://api.github.com/repos/mariasanzr/apuntes_clase/comments{/number}',\n",
       " 'issue_comment_url': 'https://api.github.com/repos/mariasanzr/apuntes_clase/issues/comments{/number}',\n",
       " 'contents_url': 'https://api.github.com/repos/mariasanzr/apuntes_clase/contents/{+path}',\n",
       " 'compare_url': 'https://api.github.com/repos/mariasanzr/apuntes_clase/compare/{base}...{head}',\n",
       " 'merges_url': 'https://api.github.com/repos/mariasanzr/apuntes_clase/merges',\n",
       " 'archive_url': 'https://api.github.com/repos/mariasanzr/apuntes_clase/{archive_format}{/ref}',\n",
       " 'downloads_url': 'https://api.github.com/repos/mariasanzr/apuntes_clase/downloads',\n",
       " 'issues_url': 'https://api.github.com/repos/mariasanzr/apuntes_clase/issues{/number}',\n",
       " 'pulls_url': 'https://api.github.com/repos/mariasanzr/apuntes_clase/pulls{/number}',\n",
       " 'milestones_url': 'https://api.github.com/repos/mariasanzr/apuntes_clase/milestones{/number}',\n",
       " 'notifications_url': 'https://api.github.com/repos/mariasanzr/apuntes_clase/notifications{?since,all,participating}',\n",
       " 'labels_url': 'https://api.github.com/repos/mariasanzr/apuntes_clase/labels{/name}',\n",
       " 'releases_url': 'https://api.github.com/repos/mariasanzr/apuntes_clase/releases{/id}',\n",
       " 'deployments_url': 'https://api.github.com/repos/mariasanzr/apuntes_clase/deployments',\n",
       " 'created_at': '2023-11-06T13:37:55Z',\n",
       " 'updated_at': '2023-11-06T13:37:55Z',\n",
       " 'pushed_at': '2023-11-06T12:51:33Z',\n",
       " 'git_url': 'git://github.com/mariasanzr/apuntes_clase.git',\n",
       " 'ssh_url': 'git@github.com:mariasanzr/apuntes_clase.git',\n",
       " 'clone_url': 'https://github.com/mariasanzr/apuntes_clase.git',\n",
       " 'svn_url': 'https://github.com/mariasanzr/apuntes_clase',\n",
       " 'homepage': 'https://github.com',\n",
       " 'size': 868975,\n",
       " 'stargazers_count': 0,\n",
       " 'watchers_count': 0,\n",
       " 'language': None,\n",
       " 'has_issues': False,\n",
       " 'has_projects': True,\n",
       " 'has_downloads': True,\n",
       " 'has_wiki': False,\n",
       " 'has_pages': False,\n",
       " 'has_discussions': False,\n",
       " 'forks_count': 0,\n",
       " 'mirror_url': None,\n",
       " 'archived': False,\n",
       " 'disabled': False,\n",
       " 'open_issues_count': 0,\n",
       " 'license': None,\n",
       " 'allow_forking': True,\n",
       " 'is_template': False,\n",
       " 'web_commit_signoff_required': False,\n",
       " 'topics': [],\n",
       " 'visibility': 'public',\n",
       " 'forks': 0,\n",
       " 'open_issues': 0,\n",
       " 'watchers': 0,\n",
       " 'default_branch': 'main'}"
      ]
     },
     "execution_count": 94,
     "metadata": {},
     "output_type": "execute_result"
    }
   ],
   "source": [
    "forks_url = 'https://api.github.com/repos/Ironhack-Data-Madrid-Octubre-2023/apuntes_clase/forks'\n",
    "\n",
    "forks = requests.get(forks_url)\n",
    "\n",
    "forks.json()[0]"
   ]
  },
  {
   "cell_type": "markdown",
   "metadata": {},
   "source": [
    "2. Loop the JSON response to find out the language attribute of each fork. Use an array to store the language attributes of each fork.\n",
    "3. Print the language array. It should be something like:\n",
    "\n",
    "Hint: Each language should appear only once in your array.\n"
   ]
  },
  {
   "cell_type": "code",
   "execution_count": 91,
   "metadata": {},
   "outputs": [
    {
     "data": {
      "text/plain": [
       "[None, 'Jupyter Notebook']"
      ]
     },
     "execution_count": 91,
     "metadata": {},
     "output_type": "execute_result"
    }
   ],
   "source": [
    "temp=[]\n",
    "\n",
    "for f in forks.json():\n",
    "    \n",
    "    if f['language'] not in temp:\n",
    "\n",
    "        temp.append(f['language'])\n",
    "\n",
    "\n",
    "temp\n"
   ]
  }
 ],
 "metadata": {
  "kernelspec": {
   "display_name": "Python 3",
   "language": "python",
   "name": "python3"
  },
  "language_info": {
   "codemirror_mode": {
    "name": "ipython",
    "version": 3
   },
   "file_extension": ".py",
   "mimetype": "text/x-python",
   "name": "python",
   "nbconvert_exporter": "python",
   "pygments_lexer": "ipython3",
   "version": "3.10.13"
  },
  "toc": {
   "base_numbering": 1,
   "nav_menu": {},
   "number_sections": true,
   "sideBar": true,
   "skip_h1_title": true,
   "title_cell": "Table of Contents",
   "title_sidebar": "Contents",
   "toc_cell": false,
   "toc_position": {},
   "toc_section_display": true,
   "toc_window_display": false
  }
 },
 "nbformat": 4,
 "nbformat_minor": 2
}
