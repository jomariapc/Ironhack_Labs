{
 "cells": [
  {
   "cell_type": "markdown",
   "id": "threaded-asbestos",
   "metadata": {},
   "source": [
    "# Challenge 2: Count Commits\n",
    "\n",
    "Count how many commits were made in the past week.\n",
    "\n",
    "Obtain all the commits made in the past week via API, which is a JSON array that contains multiple commit objects.\n",
    "\n",
    "Count how many commit objects are contained in the array."
   ]
  },
  {
   "cell_type": "markdown",
   "id": "norwegian-praise",
   "metadata": {},
   "source": [
    "⚠️ **Remember to limit your output before submission**."
   ]
  },
  {
   "cell_type": "code",
   "execution_count": 24,
   "id": "developing-printing",
   "metadata": {},
   "outputs": [],
   "source": [
    "import json\n",
    "import requests\n",
    "\n",
    "from datetime import datetime, timedelta"
   ]
  },
  {
   "cell_type": "code",
   "execution_count": 3,
   "id": "ongoing-taylor",
   "metadata": {},
   "outputs": [
    {
     "data": {
      "text/plain": [
       "<Response [200]>"
      ]
     },
     "execution_count": 3,
     "metadata": {},
     "output_type": "execute_result"
    }
   ],
   "source": [
    "url = 'https://api.github.com/repos/Ironhack-Data-Madrid-Octubre-2023/apuntes_clase'\n",
    "\n",
    "res = requests.get(url)\n",
    "res"
   ]
  },
  {
   "cell_type": "code",
   "execution_count": 9,
   "metadata": {},
   "outputs": [],
   "source": [
    "commit_url = 'https://api.github.com/repos/Ironhack-Data-Madrid-Octubre-2023/apuntes_clase/commits'\n",
    "\n",
    "commits = requests.get(commit_url)"
   ]
  },
  {
   "cell_type": "markdown",
   "metadata": {},
   "source": [
    "Count how many commits were made in the past week."
   ]
  },
  {
   "cell_type": "code",
   "execution_count": 23,
   "metadata": {},
   "outputs": [
    {
     "data": {
      "text/plain": [
       "'2023-11-06T12:51:31Z'"
      ]
     },
     "execution_count": 23,
     "metadata": {},
     "output_type": "execute_result"
    }
   ],
   "source": [
    "commits.json()[0]['commit']['author']['date']"
   ]
  },
  {
   "cell_type": "code",
   "execution_count": 26,
   "metadata": {},
   "outputs": [
    {
     "name": "stdout",
     "output_type": "stream",
     "text": [
      "Durante la última semana se han hecho 23 commits\n"
     ]
    }
   ],
   "source": [
    "i=0\n",
    "#Calcular la fecha hace una semana (fecha de hoy menos 7 días)\n",
    "fecha_hace_una_semana = datetime.now() - timedelta(days=7)\n",
    "\n",
    "for c in commits.json():\n",
    "\n",
    "    if str(fecha_hace_una_semana) < c['commit']['author']['date']:\n",
    "        i+=1\n",
    "\n",
    "\n",
    "print(f'Durante la última semana se han hecho {i} commits')"
   ]
  },
  {
   "cell_type": "markdown",
   "metadata": {},
   "source": [
    "Obtain all the commits made in the past week via API, which is a JSON array that contains multiple commit objects."
   ]
  },
  {
   "cell_type": "code",
   "execution_count": 32,
   "metadata": {},
   "outputs": [],
   "source": [
    "#For this example, I'm going to change to the challenge 1 suggested API ironhack-datalabs/datamad1020-rev\n",
    "\n",
    "url2 = 'https://api.github.com/repos/ironhack-datalabs/datamad1020-rev'\n",
    "\n",
    "res = requests.get(url2)"
   ]
  },
  {
   "cell_type": "code",
   "execution_count": 45,
   "metadata": {},
   "outputs": [],
   "source": [
    "commits_url2 = 'https://api.github.com/repos/ironhack-datalabs/datamad1020-rev/commits'\n",
    "\n",
    "commits2 = requests.get(commits_url2)"
   ]
  },
  {
   "cell_type": "code",
   "execution_count": 48,
   "metadata": {},
   "outputs": [
    {
     "data": {
      "text/plain": [
       "{'author': {'name': 'Ras Soyungalgo',\n",
       "  'email': 'agalvezcorell@gmail.com',\n",
       "  'date': '2021-01-26T13:00:09Z'},\n",
       " 'committer': {'name': 'Ras Soyungalgo',\n",
       "  'email': 'agalvezcorell@gmail.com',\n",
       "  'date': '2021-01-26T13:00:09Z'},\n",
       " 'message': 'edito challenge1 sin cambios, solo comment',\n",
       " 'tree': {'sha': '1fb3ebfb5f65d6ec77ea4b1666b95f5e6e09ac63',\n",
       "  'url': 'https://api.github.com/repos/ironhack-datalabs/datamad1020-rev/git/trees/1fb3ebfb5f65d6ec77ea4b1666b95f5e6e09ac63'},\n",
       " 'url': 'https://api.github.com/repos/ironhack-datalabs/datamad1020-rev/git/commits/62ccb107c540872cb332b10768b890040fb50c1f',\n",
       " 'comment_count': 0,\n",
       " 'verification': {'verified': False,\n",
       "  'reason': 'unsigned',\n",
       "  'signature': None,\n",
       "  'payload': None}}"
      ]
     },
     "execution_count": 48,
     "metadata": {},
     "output_type": "execute_result"
    }
   ],
   "source": [
    "commits2.json()[4]['commit']"
   ]
  },
  {
   "cell_type": "code",
   "execution_count": null,
   "metadata": {},
   "outputs": [],
   "source": [
    "#In this repo, there are any commit made by API. We don't have to finish it. "
   ]
  }
 ],
 "metadata": {
  "kernelspec": {
   "display_name": "Python 3",
   "language": "python",
   "name": "python3"
  },
  "language_info": {
   "codemirror_mode": {
    "name": "ipython",
    "version": 3
   },
   "file_extension": ".py",
   "mimetype": "text/x-python",
   "name": "python",
   "nbconvert_exporter": "python",
   "pygments_lexer": "ipython3",
   "version": "3.10.13"
  },
  "toc": {
   "base_numbering": 1,
   "nav_menu": {},
   "number_sections": true,
   "sideBar": true,
   "skip_h1_title": true,
   "title_cell": "Table of Contents",
   "title_sidebar": "Contents",
   "toc_cell": false,
   "toc_position": {
    "height": "calc(100% - 180px)",
    "left": "10px",
    "top": "150px",
    "width": "288px"
   },
   "toc_section_display": true,
   "toc_window_display": true
  }
 },
 "nbformat": 4,
 "nbformat_minor": 5
}
