{
 "cells": [
  {
   "cell_type": "markdown",
   "metadata": {},
   "source": [
    "# Web Scraping Lab\n",
    "\n",
    "You will find in this notebook some scrapy exercises to practise your scraping skills.\n",
    "\n",
    "**Tips:**\n",
    "\n",
    "- Check the response status code for each request to ensure you have obtained the intended contennt.\n",
    "- Print the response text in each request to understand the kind of info you are getting and its format.\n",
    "- Check for patterns in the response text to extract the data/info requested in each question.\n",
    "- Visit each url and take a look at its source through Chrome DevTools. You'll need to identify the html tags, special class names etc. used for the html content you are expected to extract."
   ]
  },
  {
   "cell_type": "markdown",
   "metadata": {},
   "source": [
    "- [Requests library](http://docs.python-requests.org/en/master/#the-user-guide) documentation \n",
    "- [Beautiful Soup Doc](https://www.crummy.com/software/BeautifulSoup/bs4/doc/)\n",
    "- [Urllib](https://docs.python.org/3/library/urllib.html#module-urllib)\n",
    "- [re lib](https://docs.python.org/3/library/re.html)\n",
    "- [lxml lib](https://lxml.de/)\n",
    "- [Scrapy](https://scrapy.org/)\n",
    "- [List of HTTP status codes](https://en.wikipedia.org/wiki/List_of_HTTP_status_codes)\n",
    "- [HTML basics](http://www.simplehtmlguide.com/cheatsheet.php)\n",
    "- [CSS basics](https://www.cssbasics.com/#page_start)"
   ]
  },
  {
   "cell_type": "markdown",
   "metadata": {},
   "source": [
    "#### Below are the libraries and modules you may need. `requests`,  `BeautifulSoup` and `pandas` are imported for you. If you prefer to use additional libraries feel free to uncomment them."
   ]
  },
  {
   "cell_type": "code",
   "execution_count": 23,
   "metadata": {},
   "outputs": [],
   "source": [
    "import requests as req\n",
    "from bs4 import BeautifulSoup as bs\n",
    "import pandas as pd"
   ]
  },
  {
   "cell_type": "markdown",
   "metadata": {},
   "source": [
    "#### Download, parse (using BeautifulSoup), and print the content from the Trending Developers page from GitHub:"
   ]
  },
  {
   "cell_type": "code",
   "execution_count": 24,
   "metadata": {},
   "outputs": [],
   "source": [
    "# This is the url you will scrape in this exercise\n",
    "url = 'https://github.com/trending/developers'"
   ]
  },
  {
   "cell_type": "code",
   "execution_count": 25,
   "metadata": {},
   "outputs": [],
   "source": [
    "#your code\n",
    "html = req.get(url).text\n",
    "\n",
    "sopa = bs(html, 'html.parser')\n",
    "\n",
    "#sopa"
   ]
  },
  {
   "cell_type": "markdown",
   "metadata": {},
   "source": [
    "#### Display the names of the trending developers retrieved in the previous step.\n",
    "\n",
    "Your output should be a Python list of developer names. Each name should not contain any html tag.\n",
    "\n",
    "**Instructions:**\n",
    "\n",
    "1. Find out the html tag and class names used for the developer names. You can achieve this using Chrome DevTools.\n",
    "\n",
    "1. Use BeautifulSoup to extract all the html elements that contain the developer names.\n",
    "\n",
    "1. Use string manipulation techniques to replace whitespaces and linebreaks (i.e. `\\n`) in the *text* of each html element. Use a list to store the clean names.\n",
    "\n",
    "1. Print the list of names.\n",
    "\n",
    "Your output should look like below:\n",
    "\n",
    "```\n",
    "['trimstray (@trimstray)',\n",
    " 'joewalnes (JoeWalnes)',\n",
    " 'charlax (Charles-AxelDein)',\n",
    " 'ForrestKnight (ForrestKnight)',\n",
    " 'revery-ui (revery-ui)',\n",
    " 'alibaba (Alibaba)',\n",
    " 'Microsoft (Microsoft)',\n",
    " 'github (GitHub)',\n",
    " 'facebook (Facebook)',\n",
    " 'boazsegev (Bo)',\n",
    " 'google (Google)',\n",
    " 'cloudfetch',\n",
    " 'sindresorhus (SindreSorhus)',\n",
    " 'tensorflow',\n",
    " 'apache (TheApacheSoftwareFoundation)',\n",
    " 'DevonCrawford (DevonCrawford)',\n",
    " 'ARMmbed (ArmMbed)',\n",
    " 'vuejs (vuejs)',\n",
    " 'fastai (fast.ai)',\n",
    " 'QiShaoXuan (Qi)',\n",
    " 'joelparkerhenderson (JoelParkerHenderson)',\n",
    " 'torvalds (LinusTorvalds)',\n",
    " 'CyC2018',\n",
    " 'komeiji-satori (神楽坂覚々)',\n",
    " 'script-8']\n",
    " ```"
   ]
  },
  {
   "cell_type": "code",
   "execution_count": 62,
   "metadata": {},
   "outputs": [
    {
     "data": {
      "text/plain": [
       "['Angelos Chalaris(Chalarangelo)',\n",
       " 'Arvin Xu(arvinxx)',\n",
       " 'Meng Zhang(wsxiaoys)',\n",
       " 'Travis Cline(tmc)',\n",
       " 'SoftFever(SoftFever)',\n",
       " 'dgtlmoon',\n",
       " 'Lee Calcote(leecalcote)',\n",
       " 'Roman Tsisyk(rtsisyk)',\n",
       " 'Mattias Wadman(wader)',\n",
       " 'Ismail Pelaseyed(homanp)',\n",
       " 'Alex Stokes(ralexstokes)',\n",
       " 'Lee Robinson(leerob)',\n",
       " 'Steven Arcangeli(stevearc)',\n",
       " 'James M Snell(jasnell)',\n",
       " 'Justin M. Keyes(justinmk)',\n",
       " 'Oliver(SchrodingersGat)',\n",
       " 'Steven Nguyen(stnguyen90)',\n",
       " 'Shahed Nasser(shahednasser)',\n",
       " 'Kieron Quinn(KieronQuinn)',\n",
       " 'Ron Evans(deadprogram)',\n",
       " 'Hassan El Mghari(Nutlope)',\n",
       " 'Jorge O. Castro(castrojo)',\n",
       " 'Me No Dev(me-no-dev)',\n",
       " 'Kailash Nadh(knadh)',\n",
       " 'Donne Martin(donnemartin)']"
      ]
     },
     "execution_count": 62,
     "metadata": {},
     "output_type": "execute_result"
    }
   ],
   "source": [
    "#your code\n",
    "developers = sopa.find_all('div', class_='d-sm-flex flex-auto')\n",
    "lista_dev= []\n",
    "\n",
    "for i in range(len(developers)):\n",
    "    try:\n",
    "        lista_dev.append(developers[i].find('a').text.strip() + '(' + developers[i].find('a', class_='Link--secondary Link').text.strip() + ')')\n",
    "\n",
    "    except:    \n",
    "        lista_dev.append(developers[i].find('a').text.strip())\n",
    "\n",
    "\n",
    "lista_dev"
   ]
  },
  {
   "cell_type": "markdown",
   "metadata": {},
   "source": [
    "#### Display the trending Python repositories in GitHub\n",
    "\n",
    "The steps to solve this problem is similar to the previous one except that you need to find out the repository names instead of developer names."
   ]
  },
  {
   "cell_type": "code",
   "execution_count": 64,
   "metadata": {},
   "outputs": [],
   "source": [
    "# This is the url you will scrape in this exercise\n",
    "url = 'https://github.com/trending/python?since=daily'\n",
    "\n",
    "html = req.get(url).text\n",
    "\n",
    "sopa = bs(html, 'html.parser')"
   ]
  },
  {
   "cell_type": "code",
   "execution_count": 95,
   "metadata": {},
   "outputs": [
    {
     "data": {
      "text/plain": [
       "['THUDM /ChatGLM3',\n",
       " 'xxlong0 /Wonder3D',\n",
       " 'public-apis /public-apis',\n",
       " 'donnemartin /system-design-primer',\n",
       " 'bregman-arie /devops-exercises',\n",
       " 'OpenBMB /ChatDev',\n",
       " 'reflex-dev /reflex',\n",
       " 'ageitgey /face_recognition',\n",
       " 'logspace-ai /langflow',\n",
       " 'CycodeLabs /raven',\n",
       " 'MIC-DKFZ /nnUNet',\n",
       " 'lllyasviel /Fooocus',\n",
       " 'THUDM /CogVLM',\n",
       " 'pchunduri6 /rag-demystified',\n",
       " 'PaddlePaddle /PaddleOCR',\n",
       " 'serengil /deepface',\n",
       " 'ungoogled-software /ungoogled-chromium',\n",
       " 'python-poetry /poetry',\n",
       " 'django /django',\n",
       " 'dataelement /bisheng',\n",
       " 'litestar-org /litestar',\n",
       " 'openai /whisper',\n",
       " 'nasa-petal /discord_bot',\n",
       " 'huggingface /autotrain-advanced',\n",
       " 'deepset-ai /haystack']"
      ]
     },
     "execution_count": 95,
     "metadata": {},
     "output_type": "execute_result"
    }
   ],
   "source": [
    "repos= sopa.find_all('h2', class_='h3 lh-condensed')\n",
    "lst_repos=[]\n",
    "lst_temp = []\n",
    "#repos[0].find('span').text.strip()\n",
    "for i in range(len(repos)):\n",
    "    try:\n",
    "        lst_temp= repos[i].find('a').text.strip().split('\\n')\n",
    "        lst_repos.append(lst_temp[0] + lst_temp[-1].strip())\n",
    "    except:\n",
    "        lst_repos.append(repos[i].find('a').text.strip())\n",
    "lst_repos"
   ]
  },
  {
   "cell_type": "markdown",
   "metadata": {},
   "source": [
    "#### Display all the image links from Walt Disney wikipedia page"
   ]
  },
  {
   "cell_type": "code",
   "execution_count": 129,
   "metadata": {},
   "outputs": [],
   "source": [
    "# This is the url you will scrape in this exercise\n",
    "url = 'https://en.wikipedia.org/wiki/Walt_Disney'\n",
    "\n",
    "\n",
    "html = req.get(url).text\n",
    "\n",
    "sopa = bs(html, 'html.parser')"
   ]
  },
  {
   "cell_type": "code",
   "execution_count": 142,
   "metadata": {},
   "outputs": [
    {
     "data": {
      "text/plain": [
       "['//upload.wikimedia.org/wikipedia/commons/thumb/3/3a/Walt_Disney_Birthplace_Exterior_Hermosa_Chicago_Illinois.jpg/220px-Walt_Disney_Birthplace_Exterior_Hermosa_Chicago_Illinois.jpg',\n",
       " '//upload.wikimedia.org/wikipedia/commons/thumb/c/c4/Walt_Disney_envelope_ca._1921.jpg/220px-Walt_Disney_envelope_ca._1921.jpg',\n",
       " '//upload.wikimedia.org/wikipedia/en/thumb/4/4e/Steamboat-willie.jpg/220px-Steamboat-willie.jpg',\n",
       " '//upload.wikimedia.org/wikipedia/commons/thumb/c/cd/Walt_Disney_Snow_white_1937_trailer_screenshot_%2813%29.jpg/220px-Walt_Disney_Snow_white_1937_trailer_screenshot_%2813%29.jpg',\n",
       " '//upload.wikimedia.org/wikipedia/commons/thumb/1/15/Disney_drawing_goofy.jpg/170px-Disney_drawing_goofy.jpg',\n",
       " '//upload.wikimedia.org/wikipedia/commons/thumb/8/8c/WaltDisneyplansDisneylandDec1954.jpg/220px-WaltDisneyplansDisneylandDec1954.jpg',\n",
       " '//upload.wikimedia.org/wikipedia/commons/thumb/f/ff/Walt_disney_portrait_right.jpg/170px-Walt_disney_portrait_right.jpg',\n",
       " '//upload.wikimedia.org/wikipedia/commons/thumb/1/1a/Walt_Disney_Grave.JPG/170px-Walt_Disney_Grave.JPG',\n",
       " '//upload.wikimedia.org/wikipedia/commons/thumb/1/13/DisneySchiphol1951.jpg/220px-DisneySchiphol1951.jpg',\n",
       " '//upload.wikimedia.org/wikipedia/commons/thumb/6/6c/Disney1968.jpg/170px-Disney1968.jpg',\n",
       " '//upload.wikimedia.org/wikipedia/commons/thumb/b/b0/Disney_Oscar_1953_%28cropped%29.jpg/170px-Disney_Oscar_1953_%28cropped%29.jpg']"
      ]
     },
     "execution_count": 142,
     "metadata": {},
     "output_type": "execute_result"
    }
   ],
   "source": [
    "#your code\n",
    "\n",
    "disney= sopa.find_all('figure')\n",
    "\n",
    "images=[]\n",
    "\n",
    "for i in range(len(disney)):\n",
    "    try:\n",
    "        images.append(disney[i].find('a').find('img').attrs['src'])\n",
    "\n",
    "    except:\n",
    "        images.append('Fail')\n",
    "\n",
    "images"
   ]
  },
  {
   "cell_type": "markdown",
   "metadata": {},
   "source": [
    "#### Retrieve an arbitary Wikipedia page of \"Python\" and create a list of links on that page"
   ]
  },
  {
   "cell_type": "code",
   "execution_count": null,
   "metadata": {},
   "outputs": [],
   "source": [
    "# This is the url you will scrape in this exercise\n",
    "url ='https://en.wikipedia.org/wiki/Python' \n",
    "\n",
    "html = req.get(url).text\n",
    "\n",
    "sopa = bs(html, 'html.parser')"
   ]
  },
  {
   "cell_type": "code",
   "execution_count": 637,
   "metadata": {},
   "outputs": [
    {
     "data": {
      "text/plain": [
       "['/wiki/Main_Page',\n",
       " '/wiki/Wikipedia:Contents',\n",
       " '/wiki/Portal:Current_events',\n",
       " '/wiki/Special:Random',\n",
       " '/wiki/Wikipedia:About',\n",
       " '//en.wikipedia.org/wiki/Wikipedia:Contact_us',\n",
       " 'https://donate.wikimedia.org/wiki/Special:FundraiserRedirector?utm_source=donate&utm_medium=sidebar&utm_campaign=C13_en.wikipedia.org&uselang=en',\n",
       " '/wiki/Help:Contents',\n",
       " '/wiki/Help:Introduction',\n",
       " '/wiki/Wikipedia:Community_portal',\n",
       " '/wiki/Special:RecentChanges',\n",
       " '/wiki/Wikipedia:File_upload_wizard',\n",
       " '/wiki/Main_Page',\n",
       " '/wiki/Special:Search',\n",
       " '/w/index.php?title=Special:CreateAccount&returnto=List+of+languages+by+number+of+native+speakers',\n",
       " '/w/index.php?title=Special:UserLogin&returnto=List+of+languages+by+number+of+native+speakers',\n",
       " '/w/index.php?title=Special:CreateAccount&returnto=List+of+languages+by+number+of+native+speakers',\n",
       " '/w/index.php?title=Special:UserLogin&returnto=List+of+languages+by+number+of+native+speakers',\n",
       " '/wiki/Help:Introduction',\n",
       " '/wiki/Special:MyContributions',\n",
       " '/wiki/Special:MyTalk',\n",
       " 'https://ar.wikipedia.org/wiki/%D9%82%D8%A7%D8%A6%D9%85%D8%A9_%D8%A7%D9%84%D9%84%D8%BA%D8%A7%D8%AA_%D8%AD%D8%B3%D8%A8_%D8%B9%D8%AF%D8%AF_%D9%85%D8%AA%D8%AD%D8%AF%D8%AB%D9%8A%D9%87%D8%A7_%D8%A7%D9%84%D8%A3%D8%B5%D9%84%D9%8A%D9%8A%D9%86',\n",
       " 'https://ast.wikipedia.org/wiki/Llista_de_lling%C3%BCes_por_n%C3%BAmberu_de_falantes',\n",
       " 'https://az.wikipedia.org/wiki/Dan%C4%B1%C5%9Fanlar%C4%B1n_say%C4%B1na_g%C3%B6r%C9%99_dill%C9%99r_siyah%C4%B1s%C4%B1',\n",
       " 'https://bn.wikipedia.org/wiki/%E0%A6%AE%E0%A6%BE%E0%A6%A4%E0%A7%83%E0%A6%AD%E0%A6%BE%E0%A6%B7%E0%A7%80%E0%A6%B0_%E0%A6%B8%E0%A6%82%E0%A6%96%E0%A7%8D%E0%A6%AF%E0%A6%BE_%E0%A6%85%E0%A6%A8%E0%A7%81%E0%A6%B8%E0%A6%BE%E0%A6%B0%E0%A7%87_%E0%A6%AD%E0%A6%BE%E0%A6%B7%E0%A6%BE%E0%A6%B8%E0%A6%AE%E0%A7%82%E0%A6%B9%E0%A7%87%E0%A6%B0_%E0%A6%A4%E0%A6%BE%E0%A6%B2%E0%A6%BF%E0%A6%95%E0%A6%BE',\n",
       " 'https://bh.wikipedia.org/wiki/%E0%A4%AC%E0%A5%8B%E0%A4%B2%E0%A5%8D%E0%A4%A8%E0%A4%BF%E0%A4%B9%E0%A4%BE%E0%A4%B0%E0%A4%A8_%E0%A4%95%E0%A5%87_%E0%A4%B8%E0%A4%82%E0%A4%96%E0%A5%8D%E0%A4%AF%E0%A4%BE_%E0%A4%95%E0%A5%87_%E0%A4%85%E0%A4%A8%E0%A5%81%E0%A4%B8%E0%A4%BE%E0%A4%B0_%E0%A4%AD%E0%A4%BE%E0%A4%B7%E0%A4%BE_%E0%A4%B8%E0%A4%AD_%E0%A4%95%E0%A5%87_%E0%A4%B8%E0%A5%82%E0%A4%9A%E0%A5%80',\n",
       " 'https://br.wikipedia.org/wiki/Roll_ar_yezho%C3%B9_ar_muia%C3%B1_komzet_er_bed',\n",
       " 'https://ca.wikipedia.org/wiki/Llista_d%27idiomes_per_nombre_de_parlants_natius',\n",
       " 'https://cs.wikipedia.org/wiki/Seznam_jazyk%C5%AF_podle_po%C4%8Dtu_mluv%C4%8D%C3%ADch',\n",
       " 'https://cy.wikipedia.org/wiki/Rhestr_ieithoedd_yn_nhrefn_nifer_eu_siaradwyr_brodorol',\n",
       " 'https://da.wikipedia.org/wiki/Verdens_sprog_sorteret_efter_antal_talere',\n",
       " 'https://el.wikipedia.org/wiki/%CE%9A%CE%B1%CF%84%CE%AC%CE%BB%CE%BF%CE%B3%CE%BF%CF%82_%CE%B3%CE%BB%CF%89%CF%83%CF%83%CF%8E%CE%BD_%CE%B1%CE%BD%CE%AC_%CE%B1%CF%81%CE%B9%CE%B8%CE%BC%CF%8C_%CE%BC%CE%B7%CF%84%CF%81%CE%B9%CE%BA%CF%8E%CE%BD_%CE%BF%CE%BC%CE%B9%CE%BB%CE%B7%CF%84%CF%8E%CE%BD',\n",
       " 'https://es.wikipedia.org/wiki/Anexo:Idiomas_por_n%C3%BAmero_de_hablantes_nativos',\n",
       " 'https://eo.wikipedia.org/wiki/Listo_de_lingvoj_la%C5%AD_parolantaro',\n",
       " 'https://eu.wikipedia.org/wiki/Zerrenda:Hizkuntzak_hiztun_kopuruaren_arabera',\n",
       " 'https://fa.wikipedia.org/wiki/%D9%81%D9%87%D8%B1%D8%B3%D8%AA_%D8%B2%D8%A8%D8%A7%D9%86%E2%80%8C%D9%87%D8%A7_%D8%A8%D8%B1_%D9%BE%D8%A7%DB%8C%D9%87_%D8%AC%D9%85%D8%B9%DB%8C%D8%AA_%DA%AF%D9%88%DB%8C%D8%B4%D9%88%D8%B1%D8%A7%D9%86_%D8%A8%D9%88%D9%85%DB%8C',\n",
       " 'https://fr.wikipedia.org/wiki/Liste_des_langues_par_nombre_de_locuteurs_natifs',\n",
       " 'https://ga.wikipedia.org/wiki/Liosta_teangacha_de_r%C3%A9ir_cainteoir%C3%AD_d%C3%BAchasacha',\n",
       " 'https://gl.wikipedia.org/wiki/Lista_de_linguas_por_n%C3%BAmero_de_falantes',\n",
       " 'https://ko.wikipedia.org/wiki/%EB%AA%A8%EC%96%B4_%ED%99%94%EC%9E%90_%EC%88%98%EC%88%9C_%EC%96%B8%EC%96%B4_%EB%AA%A9%EB%A1%9D',\n",
       " 'https://hi.wikipedia.org/wiki/%E0%A4%AD%E0%A4%BE%E0%A4%B7%E0%A4%BE%E0%A4%AD%E0%A4%BE%E0%A4%B7%E0%A4%BF%E0%A4%AF%E0%A5%8B%E0%A4%82_%E0%A4%95%E0%A5%80_%E0%A4%B8%E0%A4%82%E0%A4%96%E0%A5%8D%E0%A4%AF%E0%A4%BE_%E0%A4%95%E0%A5%87_%E0%A4%85%E0%A4%A8%E0%A5%81%E0%A4%B8%E0%A4%BE%E0%A4%B0_%E0%A4%AD%E0%A4%BE%E0%A4%B7%E0%A4%BE%E0%A4%93%E0%A4%82_%E0%A4%95%E0%A5%80_%E0%A4%B8%E0%A5%82%E0%A4%9A%E0%A5%80',\n",
       " 'https://hr.wikipedia.org/wiki/Popis_jezika_po_broju_govornika',\n",
       " 'https://id.wikipedia.org/wiki/Daftar_bahasa_menurut_jumlah_penutur_asli',\n",
       " 'https://ia.wikipedia.org/wiki/Appendice:Lista_de_linguas_del_mundo_per_numero_de_parlatores',\n",
       " 'https://os.wikipedia.org/wiki/%C3%86%D0%B2%D0%B7%C3%A6%D0%B3%D1%82%D1%8B_%D0%BD%D0%BE%D0%BC%D1%85%D1%8B%D0%B3%D1%8A%D0%B4_%D0%B4%D0%B7%D1%83%D1%80%D0%B4%D0%B6%D1%8B%D1%82%D1%8B_%D0%BD%D1%8B%D0%BC%C3%A6%D1%86%D0%BC%C3%A6_%D0%B3%C3%A6%D1%81%D0%B3%C3%A6',\n",
       " 'https://it.wikipedia.org/wiki/Lingue_per_numero_di_parlanti_madrelingua',\n",
       " 'https://he.wikipedia.org/wiki/%D7%A8%D7%A9%D7%99%D7%9E%D7%AA_%D7%A9%D7%A4%D7%95%D7%AA_%D7%94%D7%A2%D7%95%D7%9C%D7%9D_%D7%9C%D7%A4%D7%99_%D7%9E%D7%A1%D7%A4%D7%A8_%D7%93%D7%95%D7%91%D7%A8%D7%99%D7%9D',\n",
       " 'https://kn.wikipedia.org/wiki/%E0%B2%AA%E0%B3%8D%E0%B2%B0%E0%B2%AA%E0%B2%82%E0%B2%9A%E0%B2%A6_%E0%B2%AA%E0%B3%8D%E0%B2%B0%E0%B2%AE%E0%B3%81%E0%B2%96_%E0%B2%AD%E0%B2%BE%E0%B2%B7%E0%B3%86%E0%B2%97%E0%B2%B3%E0%B3%81',\n",
       " 'https://krc.wikipedia.org/wiki/%D0%A1%D1%91%D0%BB%D0%B5%D1%88%D0%B3%D0%B5%D0%BD%D0%BB%D0%B5%D0%BD%D0%B8_%D1%81%D0%B0%D0%BD%D1%8B%D0%BD%D0%B0_%D0%BA%D1%91%D1%80%D0%B5_%D1%82%D0%B8%D0%BB%D0%BB%D0%B5%D0%BD%D0%B8_%D1%82%D0%B8%D0%B7%D0%BC%D0%B5%D1%81%D0%B8',\n",
       " 'https://kk.wikipedia.org/wiki/%D0%A1%D3%A9%D0%B9%D0%BB%D0%B5%D1%83%D1%88%D1%96%D0%BB%D0%B5%D1%80_%D1%81%D0%B0%D0%BD%D1%8B_%D0%B1%D0%BE%D0%B9%D1%8B%D0%BD%D1%88%D0%B0_%D1%82%D1%96%D0%BB%D0%B4%D0%B5%D1%80_%D1%82%D1%96%D0%B7%D1%96%D0%BC%D1%96',\n",
       " 'https://lv.wikipedia.org/wiki/Valodu_uzskait%C4%ABjums_p%C4%93c_prat%C4%93ju_skaita',\n",
       " 'https://lez.wikipedia.org/wiki/%D0%A0%D0%B0%D1%85%D0%B0%D0%B7%D0%B2%D0%B0%D0%B9%D0%B1%D1%83%D1%80%D1%83%D0%BD_%D0%BA%D1%8C%D0%B0%D0%B4%D0%B0%D1%80%D0%B4%D0%B8%D0%B7_%D0%BA%D0%B8%D0%BB%D0%B8%D0%B3%D0%BD%D0%B0_%D1%87%D3%80%D0%B0%D0%BB%D0%B0%D1%80%D0%B8%D0%BD_%D1%81%D0%B8%D1%8F%D0%B3%D1%8C',\n",
       " 'https://lt.wikipedia.org/wiki/S%C4%85ra%C5%A1as:Kalbos_pagal_gimtakalbius_vartotojus',\n",
       " 'https://hu.wikipedia.org/wiki/Nyelvek_list%C3%A1ja_a_besz%C3%A9l%C5%91k_sz%C3%A1ma_szerint',\n",
       " 'https://mk.wikipedia.org/wiki/%D0%A1%D0%BF%D0%B8%D1%81%D0%BE%D0%BA_%D0%BD%D0%B0_%D1%98%D0%B0%D0%B7%D0%B8%D1%86%D0%B8_%D0%BF%D0%BE_%D0%BE%D0%BF%D1%88%D1%82_%D0%B1%D1%80%D0%BE%D1%98_%D0%BD%D0%B0_%D0%B3%D0%BE%D0%B2%D0%BE%D1%80%D0%BD%D0%B8%D1%86%D0%B8',\n",
       " 'https://mr.wikipedia.org/wiki/%E0%A4%9C%E0%A4%97%E0%A4%BE%E0%A4%A4%E0%A5%80%E0%A4%B2_%E0%A4%AD%E0%A4%BE%E0%A4%B7%E0%A4%BE%E0%A4%82%E0%A4%9A%E0%A5%80_%E0%A4%AF%E0%A4%BE%E0%A4%A6%E0%A5%80',\n",
       " 'https://ms.wikipedia.org/wiki/Senarai_bahasa_mengikut_bilangan_penutur_asli',\n",
       " 'https://nl.wikipedia.org/wiki/Lijst_van_talen_naar_moedertaalsprekers',\n",
       " 'https://ja.wikipedia.org/wiki/%E3%83%8D%E3%82%A4%E3%83%86%E3%82%A3%E3%83%96%E3%82%B9%E3%83%94%E3%83%BC%E3%82%AB%E3%83%BC%E3%81%AE%E6%95%B0%E3%81%8C%E5%A4%9A%E3%81%84%E8%A8%80%E8%AA%9E%E3%81%AE%E4%B8%80%E8%A6%A7',\n",
       " 'https://no.wikipedia.org/wiki/Liste_over_spr%C3%A5k_etter_utbredelse',\n",
       " 'https://nn.wikipedia.org/wiki/Verdas_spr%C3%A5k_etter_utbreiing',\n",
       " 'https://uz.wikipedia.org/wiki/So%CA%BBzlashuvchilar_soni_bo%CA%BByicha_tillar_ro%CA%BByxati',\n",
       " 'https://pnb.wikipedia.org/wiki/%D8%A2%D8%A8%D8%A7%D8%AF%DB%8C_%D8%AF%DB%92_%D8%AD%D8%B3%D8%A7%D8%A8_%D9%86%D8%A7%D9%84_%D8%A8%D9%88%D9%84%DB%8C%D8%A7%DA%BA_%D8%AF%DB%8C_%D9%84%D8%B3%D9%B9',\n",
       " 'https://pap.wikipedia.org/wiki/Lista_di_lenganan_segun_total_papiadonan_nativo',\n",
       " 'https://ps.wikipedia.org/wiki/%D8%AF_%D9%86%DA%93%DB%8D_%D9%BC%D9%88%D9%84%DB%90_%DA%98%D8%A8%DB%90%D8%8C_%D8%AF_%D9%88%D9%8A%D9%88%D9%86%DA%A9%D9%88_%D9%BE%D8%B1_%D8%A8%D9%86%D8%B3%D9%BC',\n",
       " 'https://pl.wikipedia.org/wiki/Lista_najcz%C4%99%C5%9Bciej_u%C5%BCywanych_j%C4%99zyk%C3%B3w_%C5%9Bwiata',\n",
       " 'https://pt.wikipedia.org/wiki/Lista_de_l%C3%ADnguas_por_n%C3%BAmero_de_falantes_nativos',\n",
       " 'https://ro.wikipedia.org/wiki/List%C4%83_de_limbi_dup%C4%83_num%C4%83rul_de_vorbitori',\n",
       " 'https://ru.wikipedia.org/wiki/%D0%A1%D0%BF%D0%B8%D1%81%D0%BE%D0%BA_%D1%8F%D0%B7%D1%8B%D0%BA%D0%BE%D0%B2_%D0%BF%D0%BE_%D0%BA%D0%BE%D0%BB%D0%B8%D1%87%D0%B5%D1%81%D1%82%D0%B2%D1%83_%D0%BD%D0%BE%D1%81%D0%B8%D1%82%D0%B5%D0%BB%D0%B5%D0%B9',\n",
       " 'https://sa.wikipedia.org/wiki/%E0%A4%AE%E0%A4%BE%E0%A4%A4%E0%A5%83%E0%A4%AD%E0%A4%BE%E0%A4%B7%E0%A4%BE%E0%A4%B5%E0%A4%95%E0%A5%8D%E0%A4%A4%E0%A5%83%E0%A4%A3%E0%A4%BE%E0%A4%82_%E0%A4%B8%E0%A4%99%E0%A5%8D%E0%A4%96%E0%A5%8D%E0%A4%AF%E0%A4%BE%E0%A4%A8%E0%A5%81%E0%A4%B8%E0%A4%BE%E0%A4%B0%E0%A4%82_%E0%A4%AD%E0%A4%BE%E0%A4%B7%E0%A4%BE%E0%A4%B8%E0%A5%82%E0%A4%9A%E0%A4%BF%E0%A4%83',\n",
       " 'https://skr.wikipedia.org/wiki/%D8%A2%D8%A8%D8%A7%D8%AF%DB%8C_%D8%AF%DB%92_%D8%AD%D8%B3%D8%A7%D8%A8_%D9%86%D8%A7%D9%84_%D8%B2%D8%A8%D8%A7%D9%86%D8%A7%DA%BA_%D8%AF%DB%8C_%D8%AA%D9%86%D8%AF%DB%8C%D8%B1',\n",
       " 'https://sq.wikipedia.org/wiki/Gjuh%C3%ABt_bot%C3%ABrore',\n",
       " 'https://simple.wikipedia.org/wiki/List_of_languages_by_number_of_native_speakers',\n",
       " 'https://sk.wikipedia.org/wiki/Zoznam_jazykov_pod%C4%BEa_po%C4%8Dtu_hovoriacich',\n",
       " 'https://sl.wikipedia.org/wiki/Seznam_jezikov_po_%C5%A1tevilu_govorcev',\n",
       " 'https://sr.wikipedia.org/wiki/%D0%A1%D0%BF%D0%B8%D1%81%D0%B0%D0%BA_%D1%98%D0%B5%D0%B7%D0%B8%D0%BA%D0%B0_%D0%BF%D0%BE_%D0%B1%D1%80%D0%BE%D1%98%D1%83_%D0%B3%D0%BE%D0%B2%D0%BE%D1%80%D0%BD%D0%B8%D0%BA%D0%B0',\n",
       " 'https://sh.wikipedia.org/wiki/Jezici_po_broju_govornika',\n",
       " 'https://fi.wikipedia.org/wiki/Luettelo_kielist%C3%A4_%C3%A4idinkielen%C3%A4%C3%A4n_puhuvien_lukum%C3%A4%C3%A4r%C3%A4n_mukaan',\n",
       " 'https://sv.wikipedia.org/wiki/Lista_%C3%B6ver_v%C3%A4rldens_st%C3%B6rsta_spr%C3%A5k_efter_antal_talare',\n",
       " 'https://ta.wikipedia.org/wiki/%E0%AE%89%E0%AE%B2%E0%AE%95_%E0%AE%AE%E0%AF%8A%E0%AE%B4%E0%AE%BF%E0%AE%95%E0%AE%B3%E0%AE%BF%E0%AE%A9%E0%AF%8D_%E0%AE%AA%E0%AE%9F%E0%AF%8D%E0%AE%9F%E0%AE%BF%E0%AE%AF%E0%AE%B2%E0%AF%8D',\n",
       " 'https://tt.wikipedia.org/wiki/%D0%A1%D3%A9%D0%B9%D0%BB%D3%99%D1%88%D2%AF%D1%87%D0%B5%D0%BB%D3%99%D1%80_%D1%81%D0%B0%D0%BD%D1%8B_%D0%B1%D1%83%D0%B5%D0%BD%D1%87%D0%B0_%D1%82%D0%B5%D0%BB%D0%BB%D3%99%D1%80_%D0%B8%D1%81%D0%B5%D0%BC%D0%BB%D0%B5%D0%B3%D0%B5',\n",
       " 'https://th.wikipedia.org/wiki/%E0%B8%A3%E0%B8%B2%E0%B8%A2%E0%B8%8A%E0%B8%B7%E0%B9%88%E0%B8%AD%E0%B8%A0%E0%B8%B2%E0%B8%A9%E0%B8%B2%E0%B9%80%E0%B8%A3%E0%B8%B5%E0%B8%A2%E0%B8%87%E0%B8%95%E0%B8%B2%E0%B8%A1%E0%B8%88%E0%B8%B3%E0%B8%99%E0%B8%A7%E0%B8%99%E0%B8%9C%E0%B8%B9%E0%B9%89%E0%B9%83%E0%B8%8A%E0%B9%89%E0%B9%80%E0%B8%9B%E0%B9%87%E0%B8%99%E0%B8%A0%E0%B8%B2%E0%B8%A9%E0%B8%B2%E0%B9%81%E0%B8%A1%E0%B9%88',\n",
       " 'https://tg.wikipedia.org/wiki/%D0%A4%D0%B5%D2%B3%D1%80%D0%B8%D1%81%D1%82%D0%B8_%D0%B7%D0%B0%D0%B1%D0%BE%D0%BD%D2%B3%D0%BE_%D0%B0%D0%B7_%D1%80%D3%AF%D0%B8_%D0%BC%D0%B8%D2%9B%D0%B4%D0%BE%D1%80%D0%B8_%D0%B3%D3%AF%D1%8F%D0%BD%D0%B4%D0%B0%D0%B3%D0%BE%D0%BD',\n",
       " 'https://tr.wikipedia.org/wiki/Anadili_olarak_konu%C5%9Fulma_say%C4%B1lar%C4%B1na_g%C3%B6re_diller_listesi',\n",
       " 'https://uk.wikipedia.org/wiki/%D0%A1%D0%BF%D0%B8%D1%81%D0%BE%D0%BA_%D0%BC%D0%BE%D0%B2_%D0%B7%D0%B0_%D0%BA%D1%96%D0%BB%D1%8C%D0%BA%D1%96%D1%81%D1%82%D1%8E_%D0%BD%D0%BE%D1%81%D1%96%D1%97%D0%B2',\n",
       " 'https://ur.wikipedia.org/wiki/%D9%81%DB%81%D8%B1%D8%B3%D8%AA_%D8%B2%D8%A8%D8%A7%D9%86_%D8%A8%D9%84%D8%AD%D8%A7%D8%B8_%D9%85%DA%A9%D9%84%D9%85%DB%8C%D9%86',\n",
       " 'https://vec.wikipedia.org/wiki/%C5%81%C3%A9ngue_par_n%C3%B9maro_de_parlanti_mare%C5%82%C3%A9ngua',\n",
       " 'https://vi.wikipedia.org/wiki/Danh_s%C3%A1ch_ng%C3%B4n_ng%E1%BB%AF_theo_t%E1%BB%95ng_s%E1%BB%91_ng%C6%B0%E1%BB%9Di_s%E1%BB%AD_d%E1%BB%A5ng',\n",
       " 'https://wuu.wikipedia.org/wiki/%E4%B8%96%E7%95%8C%E8%A8%80%E8%AF%9D%E6%8E%92%E5%90%8D',\n",
       " 'https://yo.wikipedia.org/wiki/%C3%80k%C3%B3j%E1%BB%8D_%C3%A0w%E1%BB%8Dn_%C3%A8d%C3%A8_g%E1%BA%B9%CC%81g%E1%BA%B9%CC%81_b%C3%ADi_iye_%C3%A0w%E1%BB%8Dn_afis%E1%BB%8D%CC%80r%E1%BB%8D%CC%80_ab%C3%ADnib%C3%AD',\n",
       " 'https://zh-yue.wikipedia.org/wiki/%E5%90%84%E8%A9%B1%E4%BA%BA%E5%8F%A3%E4%B8%80%E8%A6%BD',\n",
       " 'https://bat-smg.wikipedia.org/wiki/%C5%A0abluons:Papl%C4%97tos%C4%97s_kalbas',\n",
       " 'https://zh.wikipedia.org/wiki/%E4%BB%A5%E6%AF%8D%E8%AA%9E%E4%BA%BA%E5%8F%A3%E6%8E%92%E5%BA%8F%E7%9A%84%E8%AA%9E%E8%A8%80%E5%88%97%E8%A1%A8',\n",
       " '/wiki/List_of_languages_by_number_of_native_speakers',\n",
       " '/wiki/Talk:List_of_languages_by_number_of_native_speakers',\n",
       " '/wiki/List_of_languages_by_number_of_native_speakers',\n",
       " '/w/index.php?title=List_of_languages_by_number_of_native_speakers&action=edit',\n",
       " '/w/index.php?title=List_of_languages_by_number_of_native_speakers&action=history',\n",
       " '/wiki/List_of_languages_by_number_of_native_speakers',\n",
       " '/w/index.php?title=List_of_languages_by_number_of_native_speakers&action=edit',\n",
       " '/w/index.php?title=List_of_languages_by_number_of_native_speakers&action=history',\n",
       " '/wiki/Special:WhatLinksHere/List_of_languages_by_number_of_native_speakers',\n",
       " '/wiki/Special:RecentChangesLinked/List_of_languages_by_number_of_native_speakers',\n",
       " '/wiki/Wikipedia:File_Upload_Wizard',\n",
       " '/wiki/Special:SpecialPages',\n",
       " '/w/index.php?title=List_of_languages_by_number_of_native_speakers&oldid=1181276402',\n",
       " '/w/index.php?title=List_of_languages_by_number_of_native_speakers&action=info',\n",
       " '/w/index.php?title=Special:CiteThisPage&page=List_of_languages_by_number_of_native_speakers&id=1181276402&wpFormIdentifier=titleform',\n",
       " '/w/index.php?title=Special:UrlShortener&url=https%3A%2F%2Fen.wikipedia.org%2Fwiki%2FList_of_languages_by_number_of_native_speakers',\n",
       " 'https://www.wikidata.org/wiki/Special:EntityPage/Q4319',\n",
       " '/w/index.php?title=Special:DownloadAsPdf&page=List_of_languages_by_number_of_native_speakers&action=show-download-screen',\n",
       " '/w/index.php?title=List_of_languages_by_number_of_native_speakers&printable=yes',\n",
       " 'https://en.wiktionary.org/wiki/Appendix:Bantu_Swadesh_lists',\n",
       " '/wiki/List_of_languages_by_total_number_of_speakers',\n",
       " '/wiki/File:Human_Language_Families_Updated.jpg',\n",
       " '/wiki/Native_speaker',\n",
       " '/wiki/Dialect_continuum',\n",
       " '/wiki/Mutually_intelligible',\n",
       " '/wiki/Variety_(linguistics)',\n",
       " '/wiki/Danish_language',\n",
       " '/wiki/Norwegian_language',\n",
       " '/wiki/German_language',\n",
       " '/wiki/Italian_language',\n",
       " '/wiki/English_language',\n",
       " '/wiki/Arabic_language',\n",
       " '/wiki/Modern_Standard_Arabic',\n",
       " '/wiki/Chinese_language',\n",
       " '/wiki/Mandarin_Chinese',\n",
       " '/wiki/Wu_Chinese',\n",
       " '/wiki/Yue_Chinese',\n",
       " '/wiki/Language_shift',\n",
       " '/wiki/Census',\n",
       " '/wiki/Ethnologue',\n",
       " '/wiki/ISO_639_macrolanguage',\n",
       " '/wiki/Arabic',\n",
       " '/wiki/Lahnda',\n",
       " '/wiki/Persian_language',\n",
       " '/wiki/Malay_language',\n",
       " '/wiki/Pashto',\n",
       " '/wiki/Chinese_language',\n",
       " '/wiki/Variety_(linguistics)',\n",
       " '/wiki/ISO_639:cmn',\n",
       " '/wiki/Standard_Chinese',\n",
       " '/wiki/Varieties_of_Chinese',\n",
       " '/wiki/Sino-Tibetan_languages',\n",
       " '/wiki/Sinitic_languages',\n",
       " '/wiki/ISO_639:spa',\n",
       " '/wiki/Indo-European_languages',\n",
       " '/wiki/Romance_languages',\n",
       " '/wiki/ISO_639:eng',\n",
       " '/wiki/Indo-European_languages',\n",
       " '/wiki/Germanic_languages',\n",
       " '/wiki/ISO_639:hin',\n",
       " '/wiki/Urdu',\n",
       " '/wiki/Hindi_Belt',\n",
       " '/wiki/Indo-European_languages',\n",
       " '/wiki/Indo-Aryan_languages',\n",
       " '/wiki/ISO_639:por',\n",
       " '/wiki/Indo-European_languages',\n",
       " '/wiki/Romance_languages',\n",
       " '/wiki/ISO_639:ben',\n",
       " '/wiki/Indo-European_languages',\n",
       " '/wiki/Indo-Aryan_languages',\n",
       " '/wiki/ISO_639:rus',\n",
       " '/wiki/Indo-European_languages',\n",
       " '/wiki/Balto-Slavic_languages',\n",
       " '/wiki/ISO_639:jpn',\n",
       " '/wiki/Japonic_languages',\n",
       " '/wiki/Japanese_language',\n",
       " '/wiki/ISO_639:yue',\n",
       " '/wiki/Cantonese',\n",
       " '/wiki/Sino-Tibetan_languages',\n",
       " '/wiki/Sinitic_languages',\n",
       " '/wiki/ISO_639:vie',\n",
       " '/wiki/Austroasiatic_languages',\n",
       " '/wiki/Vietic_languages',\n",
       " '/wiki/ISO_639:tur',\n",
       " '/wiki/Turkic_languages',\n",
       " '/wiki/Oghuz_languages',\n",
       " '/wiki/ISO_639:wuu',\n",
       " '/wiki/Shanghainese',\n",
       " '/wiki/Sino-Tibetan_languages',\n",
       " '/wiki/Sinitic_languages',\n",
       " '/wiki/ISO_639:mar',\n",
       " '/wiki/Indo-European_languages',\n",
       " '/wiki/Indo-Aryan_languages',\n",
       " '/wiki/ISO_639:tel',\n",
       " '/wiki/Dravidian_languages',\n",
       " '/wiki/ISO_639:kor',\n",
       " '/wiki/Koreanic_languages',\n",
       " '/wiki/ISO_639:fra',\n",
       " '/wiki/Indo-European_languages',\n",
       " '/wiki/Romance_languages',\n",
       " '/wiki/ISO_639:tam',\n",
       " '/wiki/Dravidian_languages',\n",
       " '/wiki/ISO_639:arz',\n",
       " '/wiki/Sa%CA%BDidi_Arabic',\n",
       " '/wiki/Afroasiatic_languages',\n",
       " '/wiki/Semitic_languages',\n",
       " '/wiki/ISO_639:deu',\n",
       " '/wiki/Indo-European_languages',\n",
       " '/wiki/Germanic_languages',\n",
       " '/wiki/ISO_639:urd',\n",
       " '/wiki/Hindi',\n",
       " '/wiki/Indo-European_languages',\n",
       " '/wiki/Indo-Aryan_languages',\n",
       " '/wiki/ISO_639:jav',\n",
       " '/wiki/Austronesian_languages',\n",
       " '/wiki/Malayo-Polynesian_languages',\n",
       " '/wiki/ISO_639:pnb',\n",
       " '/wiki/Eastern_Punjabi_language',\n",
       " '/wiki/Indo-European_languages',\n",
       " '/wiki/Indo-Aryan_languages',\n",
       " '/wiki/ISO_639:ita',\n",
       " '/wiki/Indo-European_languages',\n",
       " '/wiki/Romance_languages',\n",
       " '/wiki/ISO_639:guj',\n",
       " '/wiki/Indo-European_languages',\n",
       " '/wiki/Indo-Aryan_languages',\n",
       " '/wiki/ISO_639:pes',\n",
       " '/wiki/Dari',\n",
       " '/wiki/Tajik_language',\n",
       " '/wiki/Indo-European_languages',\n",
       " '/wiki/Iranian_languages',\n",
       " '/wiki/ISO_639:bho',\n",
       " '/wiki/Indo-European_languages',\n",
       " '/wiki/Indo-Aryan_languages',\n",
       " '/wiki/ISO_639:hau',\n",
       " '/wiki/Afroasiatic_languages',\n",
       " '/wiki/Chadic_languages',\n",
       " '/wiki/CIA_World_Factbook',\n",
       " '/wiki/Mandarin_Chinese',\n",
       " '/wiki/Spanish_language',\n",
       " '/wiki/English_language',\n",
       " '/wiki/Arabic_language',\n",
       " '/wiki/Hindi_language',\n",
       " '/wiki/Bengali_language',\n",
       " '/wiki/Portuguese_language',\n",
       " '/wiki/Russian_language',\n",
       " '/wiki/Japanese_language',\n",
       " '/wiki/Lahnda',\n",
       " '/wiki/Javanese_language',\n",
       " '/wiki/List_of_languages_by_total_number_of_speakers',\n",
       " '/wiki/List_of_sign_languages_by_number_of_native_signers',\n",
       " '/wiki/List_of_languages_by_the_number_of_countries_in_which_they_are_recognized_as_an_official_language',\n",
       " '/wiki/Number_of_languages_by_country',\n",
       " '/wiki/Languages_used_on_the_Internet',\n",
       " '/wiki/List_of_ISO_639-3_codes',\n",
       " '/wiki/Lists_of_languages',\n",
       " '/wiki/List_of_languages_by_number_of_speakers_in_Europe',\n",
       " '/wiki/Global_language_system',\n",
       " '/wiki/Linguistic_diversity_index',\n",
       " '/wiki/World_language',\n",
       " 'https://uis.unesco.org/sites/default/files/documents/evaluating-language-statistics-the-ethnologue-and-beyond-en_0.pdf',\n",
       " '/wiki/UNESCO',\n",
       " 'https://web.archive.org/web/20170110155051/https://uis.unesco.org/sites/default/files/documents/evaluating-language-statistics-the-ethnologue-and-beyond-en_0.pdf',\n",
       " '/wiki/Jack_Chambers_(linguist)',\n",
       " '/wiki/Peter_Trudgill',\n",
       " '/wiki/ISBN_(identifier)',\n",
       " '/wiki/Special:BookSources/978-0-521-59646-6',\n",
       " '/wiki/ISBN_(identifier)',\n",
       " '/wiki/Special:BookSources/978-0-415-05767-7',\n",
       " '/wiki/Jerry_Norman_(sinologist)',\n",
       " '/wiki/ISBN_(identifier)',\n",
       " '/wiki/Special:BookSources/978-0-521-29653-3',\n",
       " '/wiki/Jerry_Norman_(sinologist)',\n",
       " '/wiki/Graham_Thurgood',\n",
       " '/wiki/Randy_LaPolla',\n",
       " 'https://archive.org/details/sinotibetanlangu00thur',\n",
       " 'https://archive.org/details/sinotibetanlangu00thur/page/n94',\n",
       " '/wiki/ISBN_(identifier)',\n",
       " '/wiki/Special:BookSources/978-0-7007-1129-1',\n",
       " '/wiki/David_Crystal',\n",
       " 'https://archive.org/details/cambridgeencycl000crys',\n",
       " 'https://archive.org/details/cambridgeencycl000crys/page/286',\n",
       " '/wiki/ISBN_(identifier)',\n",
       " '/wiki/Special:BookSources/978-0-521-26438-9',\n",
       " 'https://www.ethnologue.com/statistics/',\n",
       " 'https://www.ethnologue.com',\n",
       " '/wiki/Ethnologue',\n",
       " 'https://www.ethnologue.com/guides/ethnologue200',\n",
       " 'https://encarta.msn.com/media_701500404/Languages_Spoken_by_More_Than_10_Million_People.html',\n",
       " 'https://www.webcitation.org/query?id=1257013011437361',\n",
       " '/wiki/Encarta',\n",
       " '/wiki/Ethnologue',\n",
       " '/wiki/Template:Countries_and_languages_lists',\n",
       " '/wiki/Template_talk:Countries_and_languages_lists',\n",
       " '/wiki/Special:EditPage/Template:Countries_and_languages_lists',\n",
       " '/wiki/Lists_of_countries_and_territories',\n",
       " '/wiki/Lists_of_languages',\n",
       " '/wiki/Official_language',\n",
       " '/wiki/List_of_countries_by_the_number_of_recognized_official_languages',\n",
       " '/wiki/List_of_countries_where_Arabic_is_an_official_language',\n",
       " '/wiki/List_of_countries_and_territories_where_Chinese_is_an_official_language',\n",
       " '/wiki/List_of_countries_and_territories_where_Afrikaans_or_Dutch_are_official_languages',\n",
       " '/wiki/List_of_countries_and_territories_where_English_is_an_official_language',\n",
       " '/wiki/List_of_countries_and_territories_where_French_is_an_official_language',\n",
       " '/wiki/List_of_countries_and_territories_where_German_is_an_official_language',\n",
       " '/wiki/List_of_countries_and_territories_where_Hindustani_is_an_official_language',\n",
       " '/wiki/List_of_countries_and_territories_where_Italian_is_an_official_language',\n",
       " '/wiki/List_of_countries_and_territories_where_Malay_is_an_official_language',\n",
       " '/wiki/List_of_countries_and_territories_where_Persian_is_an_official_language',\n",
       " '/wiki/List_of_countries_and_territories_where_Portuguese_is_an_official_language',\n",
       " '/wiki/List_of_countries_and_territories_where_Romanian_is_an_official_language',\n",
       " '/wiki/List_of_countries_and_territories_where_Russian_is_an_official_language',\n",
       " '/wiki/List_of_countries_where_Spanish_is_an_official_language',\n",
       " '/wiki/List_of_countries_and_territories_where_Tamil_is_an_official_language',\n",
       " '/wiki/Endonym_and_exonym',\n",
       " '/wiki/List_of_countries_and_dependencies_and_their_capitals_in_native_languages',\n",
       " '/wiki/Endonym_and_exonym',\n",
       " '/wiki/List_of_country_names_in_various_languages',\n",
       " '/wiki/List_of_country_names_in_various_languages_(A%E2%80%93C)',\n",
       " '/wiki/List_of_country_names_in_various_languages_(D%E2%80%93I)',\n",
       " '/wiki/List_of_country_names_in_various_languages_(J%E2%80%93P)',\n",
       " '/wiki/List_of_country_names_in_various_languages_(Q%E2%80%93Z)',\n",
       " '/wiki/Names_of_Cambodia',\n",
       " '/wiki/Names_of_China',\n",
       " '/wiki/Names_of_Germany',\n",
       " '/wiki/Names_of_Iceland',\n",
       " '/wiki/Names_for_India',\n",
       " '/wiki/Names_of_Indonesia',\n",
       " '/wiki/Names_of_Japan',\n",
       " '/wiki/Names_of_Korea',\n",
       " '/wiki/Names_of_Kosovo',\n",
       " '/wiki/Names_of_Myanmar',\n",
       " '/wiki/Names_of_Singapore',\n",
       " '/wiki/Names_of_Sri_Lanka',\n",
       " '/wiki/Names_of_Vietnam',\n",
       " '/wiki/Languages_of_the_European_Union',\n",
       " '/wiki/Languages_of_Africa',\n",
       " '/wiki/Indigenous_languages_of_the_Americas',\n",
       " '/wiki/Languages_of_North_America',\n",
       " '/wiki/Languages_of_South_America',\n",
       " '/wiki/Languages_of_Asia',\n",
       " '/wiki/Languages_of_East_Asia',\n",
       " '/wiki/Languages_of_South_Asia',\n",
       " '/wiki/Languages_of_Europe',\n",
       " '/wiki/Languages_of_Oceania',\n",
       " '/wiki/List_of_official_languages',\n",
       " '/wiki/List_of_official_languages_by_country_and_territory',\n",
       " '/w/index.php?title=List_of_languages_without_official_status&action=edit&redlink=1',\n",
       " '/wiki/List_of_countries_by_the_number_of_recognized_official_languages',\n",
       " '/wiki/List_of_languages_by_the_number_of_countries_in_which_they_are_recognized_as_an_official_language',\n",
       " '/wiki/Number_of_languages_by_country',\n",
       " '/wiki/List_of_European_languages_by_number_of_speakers',\n",
       " '/wiki/List_of_languages_by_total_number_of_speakers',\n",
       " '/wiki/Languages_in_censuses',\n",
       " '/wiki/Language_family',\n",
       " '/wiki/List_of_language_families',\n",
       " '/wiki/List_of_Afro-Asiatic_languages',\n",
       " '/wiki/List_of_Austronesian_languages',\n",
       " '/wiki/List_of_Indo-European_languages',\n",
       " '/wiki/List_of_Mongolic_languages',\n",
       " '/wiki/List_of_Tungusic_languages',\n",
       " '/wiki/List_of_Turkic_languages',\n",
       " '/wiki/List_of_Uralic_languages',\n",
       " '/wiki/Geopolitics',\n",
       " '/wiki/Arab_League',\n",
       " '/wiki/Dutch_Language_Union',\n",
       " '/wiki/Commonwealth_of_Nations',\n",
       " '/wiki/Latin_Union',\n",
       " '/wiki/Romance_languages',\n",
       " '/wiki/Three_Linguistic_Spaces',\n",
       " '/wiki/Organisation_internationale_de_la_Francophonie',\n",
       " '/wiki/Community_of_Portuguese_Language_Countries',\n",
       " '/wiki/Portuguese-speaking_African_countries',\n",
       " '/wiki/Hispanidad',\n",
       " '/wiki/Organization_of_Turkic_States',\n",
       " '/wiki/Turkic_languages',\n",
       " '/wiki/International_Organization_of_Turkic_Culture',\n",
       " '/wiki/Turkic_languages',\n",
       " '/wiki/Category:Lists_of_languages',\n",
       " '/wiki/Category:Languages',\n",
       " 'https://en.wikipedia.org/w/index.php?title=List_of_languages_by_number_of_native_speakers&oldid=1181276402',\n",
       " '/wiki/Help:Category',\n",
       " '/wiki/Category:Lists_of_languages',\n",
       " '/wiki/Category:Language_articles_citing_Ethnologue_26',\n",
       " '/wiki/Category:Articles_with_short_description',\n",
       " '/wiki/Category:Short_description_is_different_from_Wikidata',\n",
       " '/wiki/Category:Wikipedia_indefinitely_semi-protected_pages',\n",
       " '/wiki/Category:Use_dmy_dates_from_April_2020',\n",
       " '//en.wikipedia.org/wiki/Wikipedia:Text_of_the_Creative_Commons_Attribution-ShareAlike_4.0_International_License',\n",
       " '//en.wikipedia.org/wiki/Wikipedia:Text_of_the_Creative_Commons_Attribution-ShareAlike_4.0_International_License',\n",
       " '//foundation.wikimedia.org/wiki/Terms_of_Use',\n",
       " '//foundation.wikimedia.org/wiki/Privacy_policy',\n",
       " '//www.wikimediafoundation.org/',\n",
       " 'https://foundation.wikimedia.org/wiki/Special:MyLanguage/Policy:Privacy_policy',\n",
       " '/wiki/Wikipedia:About',\n",
       " '/wiki/Wikipedia:General_disclaimer',\n",
       " '//en.wikipedia.org/wiki/Wikipedia:Contact_us',\n",
       " 'https://foundation.wikimedia.org/wiki/Special:MyLanguage/Universal_Code_of_Conduct',\n",
       " 'https://developer.wikimedia.org',\n",
       " 'https://foundation.wikimedia.org/wiki/Special:MyLanguage/Policy:Cookie_statement',\n",
       " '//en.m.wikipedia.org/w/index.php?title=List_of_languages_by_number_of_native_speakers&mobileaction=toggle_view_mobile',\n",
       " 'https://wikimediafoundation.org/',\n",
       " 'https://www.mediawiki.org/']"
      ]
     },
     "execution_count": 637,
     "metadata": {},
     "output_type": "execute_result"
    }
   ],
   "source": [
    "#your code\n",
    "wiki= sopa.find_all('a')\n",
    "\n",
    "lst = []\n",
    "\n",
    "for e in range(len(wiki)):\n",
    "    try:\n",
    "        if ('#' not in str(wiki[e].attrs['href'])):\n",
    "            lst.append(wiki[e].attrs['href'])\n",
    "\n",
    "    except:\n",
    "        pass\n",
    "\n",
    "lst"
   ]
  },
  {
   "cell_type": "markdown",
   "metadata": {},
   "source": [
    "#### Number of Titles that have changed in the United States Code since its last release point "
   ]
  },
  {
   "cell_type": "code",
   "execution_count": 206,
   "metadata": {},
   "outputs": [],
   "source": [
    "# This is the url you will scrape in this exercise\n",
    "url = 'http://uscode.house.gov/download/download.shtml'\n",
    "\n",
    "\n",
    "html = req.get(url).text\n",
    "\n",
    "sopa = bs(html, 'html.parser')"
   ]
  },
  {
   "cell_type": "code",
   "execution_count": 228,
   "metadata": {},
   "outputs": [
    {
     "data": {
      "text/plain": [
       "['Title 1 - General Provisions ٭',\n",
       " 'Title 2 - The Congress',\n",
       " 'Title 3 - The President ٭',\n",
       " 'Title 4 - Flag and Seal, Seat of Government, and the States ٭',\n",
       " 'Title 5 - Government Organization and Employees ٭',\n",
       " 'Title 6 - Domestic Security',\n",
       " 'Title 7 - Agriculture',\n",
       " 'Title 8 - Aliens and Nationality',\n",
       " 'Title 9 - Arbitration ٭',\n",
       " 'Title 10 - Armed Forces ٭',\n",
       " 'Title 11 - Bankruptcy ٭',\n",
       " 'Title 12 - Banks and Banking',\n",
       " 'Title 13 - Census ٭',\n",
       " 'Title 14 - Coast Guard ٭',\n",
       " 'Title 15 - Commerce and Trade',\n",
       " 'Title 16 - Conservation',\n",
       " 'Title 17 - Copyrights ٭',\n",
       " 'Title 18 - Crimes and Criminal Procedure ٭',\n",
       " 'Title 19 - Customs Duties',\n",
       " 'Title 20 - Education',\n",
       " 'Title 21 - Food and Drugs',\n",
       " 'Title 22 - Foreign Relations and Intercourse',\n",
       " 'Title 23 - Highways ٭',\n",
       " 'Title 24 - Hospitals and Asylums',\n",
       " 'Title 25 - Indians',\n",
       " 'Title 26 - Internal Revenue Code',\n",
       " 'Title 27 - Intoxicating Liquors',\n",
       " 'Title 28 - Judiciary and Judicial Procedure ٭',\n",
       " 'Title 29 - Labor',\n",
       " 'Title 30 - Mineral Lands and Mining',\n",
       " 'Title 31 - Money and Finance ٭',\n",
       " 'Title 32 - National Guard ٭',\n",
       " 'Title 33 - Navigation and Navigable Waters',\n",
       " 'Title 34 - Crime Control and Law Enforcement',\n",
       " 'Title 35 - Patents ٭',\n",
       " 'Title 36 - Patriotic and National Observances, Ceremonies, and Organizations ٭',\n",
       " 'Title 37 - Pay and Allowances of the Uniformed Services ٭',\n",
       " \"Title 38 - Veterans' Benefits ٭\",\n",
       " 'Title 39 - Postal Service ٭',\n",
       " 'Title 40 - Public Buildings, Property, and Works ٭',\n",
       " 'Title 41 - Public Contracts ٭',\n",
       " 'Title 42 - The Public Health and Welfare',\n",
       " 'Title 43 - Public Lands',\n",
       " 'Title 44 - Public Printing and Documents ٭',\n",
       " 'Title 45 - Railroads',\n",
       " 'Title 46 - Shipping ٭',\n",
       " 'Title 47 - Telecommunications',\n",
       " 'Title 48 - Territories and Insular Possessions',\n",
       " 'Title 49 - Transportation ٭',\n",
       " 'Title 50 - War and National Defense',\n",
       " 'Title 51 - National and Commercial Space Programs ٭',\n",
       " 'Title 52 - Voting and Elections',\n",
       " 'Title 53 [Reserved]',\n",
       " 'Title 54 - National Park Service and Related Programs ٭']"
      ]
     },
     "execution_count": 228,
     "metadata": {},
     "output_type": "execute_result"
    }
   ],
   "source": [
    "#your code´¨{{}}\n",
    "titles=[]\n",
    "\n",
    "uscode = sopa.find('div', class_='uscitemlist')\n",
    "\n",
    "uscode.find('div', id='us/usc/t2')\n",
    "\n",
    "for i in range(len(uscode)):\n",
    "    try:\n",
    "        titles.append(uscode.find('div', id=f'us/usc/t{i+1}').text.strip())\n",
    "    \n",
    "    except:\n",
    "\n",
    "        pass\n",
    "\n",
    "\n",
    "titles"
   ]
  },
  {
   "cell_type": "markdown",
   "metadata": {},
   "source": [
    "#### A Python list with the top ten FBI's Most Wanted names "
   ]
  },
  {
   "cell_type": "code",
   "execution_count": 229,
   "metadata": {},
   "outputs": [],
   "source": [
    "# This is the url you will scrape in this exercise\n",
    "url = 'https://www.fbi.gov/wanted/topten'\n",
    "\n",
    "\n",
    "html = req.get(url).text\n",
    "\n",
    "sopa = bs(html, 'html.parser')"
   ]
  },
  {
   "cell_type": "code",
   "execution_count": 234,
   "metadata": {},
   "outputs": [
    {
     "data": {
      "text/plain": [
       "\"We're sorry...Access denied\""
      ]
     },
     "execution_count": 234,
     "metadata": {},
     "output_type": "execute_result"
    }
   ],
   "source": [
    "#your code \n",
    "\n",
    "top10= sopa.findAll('div')\n",
    "\n",
    "top10[0].find('h1').text + top10[1].find('h1').text"
   ]
  },
  {
   "cell_type": "markdown",
   "metadata": {},
   "source": [
    "####  20 latest earthquakes info (date, time, latitude, longitude and region name) by the EMSC as a pandas dataframe"
   ]
  },
  {
   "cell_type": "markdown",
   "metadata": {},
   "source": [
    "##### NOT AVAILABLE"
   ]
  },
  {
   "cell_type": "code",
   "execution_count": 235,
   "metadata": {},
   "outputs": [],
   "source": [
    "# This is the url you will scrape in this exercise\n",
    "url = 'https://www.emsc-csem.org/Earthquake/'\n",
    "\n",
    "\n",
    "html = req.get(url).text\n",
    "\n",
    "sopa = bs(html, 'html.parser')"
   ]
  },
  {
   "cell_type": "code",
   "execution_count": 266,
   "metadata": {},
   "outputs": [],
   "source": [
    "#your code\n",
    "sopa.findAll('div', class_='htab')\n",
    "\n",
    "sopa.find('table', class_='eqs table-scroll')\n"
   ]
  },
  {
   "cell_type": "markdown",
   "metadata": {},
   "source": [
    "#### Display the date, days, title, city, country of next 25 hackathon events as a Pandas dataframe table"
   ]
  },
  {
   "cell_type": "markdown",
   "metadata": {},
   "source": [
    "##### WEB NOT AVAILABLE"
   ]
  },
  {
   "cell_type": "code",
   "execution_count": 248,
   "metadata": {},
   "outputs": [],
   "source": [
    "# This is the url you will scrape in this exercise\n",
    "url ='https://hackevents.co/hackathons'\n",
    "\n",
    "#No funciona la web. \n"
   ]
  },
  {
   "cell_type": "markdown",
   "metadata": {},
   "source": [
    "#### Count number of tweets by a given Twitter account."
   ]
  },
  {
   "cell_type": "markdown",
   "metadata": {},
   "source": [
    "You will need to include a ***try/except block*** for account names not found. \n",
    "<br>***Hint:*** the program should count the number of tweets for any provided account"
   ]
  },
  {
   "cell_type": "markdown",
   "metadata": {},
   "source": [
    "##### IT IS NOT POSSIBLE ANYMORE THANKS TO OUR DEAR ELON"
   ]
  },
  {
   "cell_type": "code",
   "execution_count": 253,
   "metadata": {},
   "outputs": [],
   "source": [
    "# This is the url you will scrape in this exercise \n",
    "# You will need to add the account credentials to this url\n",
    "url = 'https://twitter.com/gabycastellanos'\n",
    "\n",
    "html = req.get(url).text\n",
    "\n",
    "sopa = bs(html, 'html.parser')"
   ]
  },
  {
   "cell_type": "code",
   "execution_count": 267,
   "metadata": {},
   "outputs": [
    {
     "data": {
      "text/plain": [
       "<!DOCTYPE html>\n",
       "\n",
       "<html dir=\"ltr\" lang=\"en\">\n",
       "<head>\n",
       "<meta charset=\"utf-8\"/>\n",
       "<meta content=\"width=device-width,initial-scale=1,maximum-scale=1,user-scalable=0,viewport-fit=cover\" name=\"viewport\"/><link href=\"//abs.twimg.com\" rel=\"preconnect\"/><link href=\"//abs.twimg.com\" rel=\"dns-prefetch\"/><link href=\"//api.twitter.com\" rel=\"preconnect\"/><link href=\"//api.twitter.com\" rel=\"dns-prefetch\"/><link href=\"//pbs.twimg.com\" rel=\"preconnect\"/><link href=\"//pbs.twimg.com\" rel=\"dns-prefetch\"/><link href=\"//t.co\" rel=\"preconnect\"/><link href=\"//t.co\" rel=\"dns-prefetch\"/><link href=\"//video.twimg.com\" rel=\"preconnect\"/><link href=\"//video.twimg.com\" rel=\"dns-prefetch\"/><link as=\"script\" crossorigin=\"anonymous\" href=\"https://abs.twimg.com/responsive-web/client-web-legacy/polyfills.5493c32a.js\" nonce=\"MTBlMjZlZjMtM2ZjMi00OTllLWJjOTctZWRhMGY1YTc3NWMw\" rel=\"preload\"/><link as=\"script\" crossorigin=\"anonymous\" href=\"https://abs.twimg.com/responsive-web/client-web-legacy/vendor.bc4db04a.js\" nonce=\"MTBlMjZlZjMtM2ZjMi00OTllLWJjOTctZWRhMGY1YTc3NWMw\" rel=\"preload\"/><link as=\"script\" crossorigin=\"anonymous\" href=\"https://abs.twimg.com/responsive-web/client-web-legacy/i18n/en.a261f6ea.js\" nonce=\"MTBlMjZlZjMtM2ZjMi00OTllLWJjOTctZWRhMGY1YTc3NWMw\" rel=\"preload\"/><link as=\"script\" crossorigin=\"anonymous\" href=\"https://abs.twimg.com/responsive-web/client-web-legacy/main.87fcda4a.js\" nonce=\"MTBlMjZlZjMtM2ZjMi00OTllLWJjOTctZWRhMGY1YTc3NWMw\" rel=\"preload\"/><meta content=\"2231777543\" property=\"fb:app_id\"/>\n",
       "<meta content=\"X (formerly Twitter)\" property=\"og:site_name\"/><meta content=\"600dQ0pZYsH2xOFt4hYmf5f5NpjCbWE_qk5Y04dErYM\" name=\"google-site-verification\"/><meta content=\"x6sdcc8b5ju3bh8nbm59eswogvg6t1\" name=\"facebook-domain-verification\"/><meta content=\"tXhDY6M9+37lBDMBQpbBWPY5LwZYlsIfr759kVcqSQLGXoyKKiOo2UGxvWY5IfKC\" name=\"twitter-site-verification\"/><meta content=\"https://twitter3e4tixl4xyajtrzo62zg5vztmjuricljdp2c5kshju4avyoid.onion/\" http-equiv=\"onion-location\"/><link crossorigin=\"use-credentials\" href=\"/manifest.json\" rel=\"manifest\"/><link href=\"/opensearch.xml\" rel=\"search\" title=\"Twitter\" type=\"application/opensearchdescription+xml\"/><link href=\"//abs.twimg.com/favicons/twitter.3.ico\" rel=\"shortcut icon\"/><link href=\"https://abs.twimg.com/responsive-web/client-web-legacy/icon-ios.77d25eba.png\" rel=\"apple-touch-icon\" sizes=\"192x192\"><meta content=\"yes\" name=\"mobile-web-app-capable\"/>\n",
       "<meta content=\"Twitter\" name=\"apple-mobile-web-app-title\"/>\n",
       "<meta content=\"white\" name=\"apple-mobile-web-app-status-bar-style\"/>\n",
       "<meta content=\"#FFFFFF\" media=\"(prefers-color-scheme: light)\" name=\"theme-color\"/>\n",
       "<meta content=\"#000000\" media=\"(prefers-color-scheme: dark)\" name=\"theme-color\"/><meta content=\"AlpCmb40F5ZjDi9ZYe+wnr/V8MF+XmY41K4qUhoq+2mbepJTNd3q4CRqlACfnythEPZqcjryfAS1+ExS0FFRcA8AAABmeyJvcmlnaW4iOiJodHRwczovL3R3aXR0ZXIuY29tOjQ0MyIsImZlYXR1cmUiOiJMYXVuY2ggSGFuZGxlciIsImV4cGlyeSI6MTY1NTI1MTE5OSwiaXNTdWJkb21haW4iOnRydWV9\" http-equiv=\"origin-trial\"/><script nonce=\"MTBlMjZlZjMtM2ZjMi00OTllLWJjOTctZWRhMGY1YTc3NWMw\">\n",
       "    !function(e,t,n,s,u,a){e.twq||(s=e.twq=function(){s.exe?s.exe.apply(s,arguments):s.queue.push(arguments);\n",
       "    },s.version='1.1',s.queue=[],u=t.createElement(n),u.async=!0,u.src='https://static.ads-twitter.com/uwt.js',\n",
       "    a=t.getElementsByTagName(n)[0],a.parentNode.insertBefore(u,a))}(window,document,'script');\n",
       "    twq('config','ogf5s');\n",
       "    </script><link as=\"script\" crossorigin=\"anonymous\" href=\"https://abs.twimg.com/responsive-web/client-web-legacy/bundle.UserProfile.450a480a.js\" nonce=\"MTBlMjZlZjMtM2ZjMi00OTllLWJjOTctZWRhMGY1YTc3NWMw\" rel=\"preload\"><script async=\"true\" charset=\"utf-8\" crossorigin=\"anonymous\" nonce=\"MTBlMjZlZjMtM2ZjMi00OTllLWJjOTctZWRhMGY1YTc3NWMw\" src=\"https://abs.twimg.com/responsive-web/client-web-legacy/shared~bundle.SettingsProfessionalProfileProfileSpotlight~bundle.UserProfile.cd09b8ca.js\" type=\"text/javascript\"></script><style>\n",
       "@media (prefers-color-scheme: dark) {\n",
       "  #placeholder { background-color: #000000 }\n",
       "  #ScriptLoadFailure span { color: #FFFFFF !important; }\n",
       "}</style><style>html,body{height: 100%;}::cue{white-space:normal}</style><style id=\"react-native-stylesheet\">[stylesheet-group=\"0\"]{}\n",
       "html{-ms-text-size-adjust:100%;-webkit-text-size-adjust:100%;-webkit-tap-highlight-color:rgba(0,0,0,0);}\n",
       "body{margin:0;}\n",
       "button::-moz-focus-inner,input::-moz-focus-inner{border:0;padding:0;}\n",
       "input::-webkit-search-cancel-button,input::-webkit-search-decoration,input::-webkit-search-results-button,input::-webkit-search-results-decoration{display:none;}\n",
       "[stylesheet-group=\"0.1\"]{}\n",
       ":focus:not([data-focusvisible-polyfill]){outline: none;}\n",
       "[stylesheet-group=\"0.5\"]{}\n",
       ".css-18t94o4{cursor:pointer;}\n",
       "[stylesheet-group=\"1\"]{}\n",
       ".css-1dbjc4n{-ms-flex-align:stretch;-ms-flex-direction:column;-ms-flex-negative:0;-ms-flex-preferred-size:auto;-webkit-align-items:stretch;-webkit-box-align:stretch;-webkit-box-direction:normal;-webkit-box-orient:vertical;-webkit-flex-basis:auto;-webkit-flex-direction:column;-webkit-flex-shrink:0;align-items:stretch;border:0 solid black;box-sizing:border-box;display:-webkit-box;display:-moz-box;display:-ms-flexbox;display:-webkit-flex;display:flex;flex-basis:auto;flex-direction:column;flex-shrink:0;margin-bottom:0px;margin-left:0px;margin-right:0px;margin-top:0px;min-height:0px;min-width:0px;padding-bottom:0px;padding-left:0px;padding-right:0px;padding-top:0px;position:relative;z-index:0;}\n",
       ".css-901oao{border:0 solid black;box-sizing:border-box;color:rgba(0,0,0,1.00);display:inline;font:14px -apple-system,BlinkMacSystemFont,\"Segoe UI\",Roboto,Helvetica,Arial,sans-serif;margin-bottom:0px;margin-left:0px;margin-right:0px;margin-top:0px;padding-bottom:0px;padding-left:0px;padding-right:0px;padding-top:0px;white-space:pre-wrap;word-wrap:break-word;}\n",
       ".css-16my406{color:inherit;font:inherit;white-space:inherit;}\n",
       ".css-1hf3ou5{max-width:100%;overflow-x:hidden;overflow-y:hidden;text-overflow:ellipsis;white-space:nowrap;word-wrap:normal;}\n",
       "[stylesheet-group=\"2\"]{}\n",
       ".r-13awgt0{-ms-flex:1 1 0%;-webkit-flex:1;flex:1;}\n",
       ".r-4qtqp9{display:inline-block;}\n",
       ".r-ywje51{margin-bottom:auto;margin-left:auto;margin-right:auto;margin-top:auto;}\n",
       ".r-hvic4v{display:none;}\n",
       ".r-sdzlij{border-bottom-left-radius:9999px;border-bottom-right-radius:9999px;border-top-left-radius:9999px;border-top-right-radius:9999px;}\n",
       ".r-1phboty{border-bottom-style:solid;border-left-style:solid;border-right-style:solid;border-top-style:solid;}\n",
       ".r-rs99b7{border-bottom-width:1px;border-left-width:1px;border-right-width:1px;border-top-width:1px;}\n",
       ".r-6koalj{display:-webkit-box;display:-moz-box;display:-ms-flexbox;display:-webkit-flex;display:flex;}\n",
       "[stylesheet-group=\"2.1\"]{}\n",
       ".r-ymttw5{padding-left:16px;padding-right:16px;}\n",
       "[stylesheet-group=\"2.2\"]{}\n",
       ".r-12vffkv>*{pointer-events:auto;}\n",
       ".r-12vffkv{pointer-events:none!important;}\n",
       ".r-14lw9ot{background-color:rgba(255,255,255,1.00);}\n",
       ".r-1p0dtai{bottom:0px;}\n",
       ".r-1d2f490{left:0px;}\n",
       ".r-1xcajam{position:fixed;}\n",
       ".r-zchlnj{right:0px;}\n",
       ".r-ipm5af{top:0px;}\n",
       ".r-yyyyoo{fill:currentcolor;}\n",
       ".r-1xvli5t{height:1.25em;}\n",
       ".r-dnmrzs{max-width:100%;}\n",
       ".r-bnwqim{position:relative;}\n",
       ".r-1plcrui{vertical-align:text-bottom;}\n",
       ".r-lrvibr{-moz-user-select:none;-ms-user-select:none;-webkit-user-select:none;user-select:none;}\n",
       ".r-18jsvk2{color:rgba(15,20,25,1.00);}\n",
       ".r-wy61xf{height:72px;}\n",
       ".r-u8s1d{position:absolute;}\n",
       ".r-1blnp2b{width:72px;}\n",
       ".r-1ykxob0{top:60%;}\n",
       ".r-1awozwy{-ms-flex-align:center;-webkit-align-items:center;-webkit-box-align:center;align-items:center;}\n",
       ".r-q4m81j{text-align:center;}\n",
       ".r-bcqeeo{min-width:0px;}\n",
       ".r-qvutc0{word-wrap:break-word;}\n",
       ".r-rjixqe{line-height:20px;}\n",
       ".r-37j5jr{font-family:\"TwitterChirp\",-apple-system,BlinkMacSystemFont,\"Segoe UI\",Roboto,Helvetica,Arial,sans-serif;}\n",
       ".r-a023e6{font-size:15px;}\n",
       ".r-16dba41{font-weight:400;}\n",
       ".r-poiln3{font-family:inherit;}\n",
       ".r-2yi16{min-height:36px;}\n",
       ".r-1qi8awa{min-width:36px;}\n",
       ".r-o7ynqc{-webkit-transition-duration:0.2s;transition-duration:0.2s;}\n",
       ".r-6416eg{-moz-transition-property:background-color, box-shadow;-webkit-transition-property:background-color, box-shadow;transition-property:background-color, box-shadow;}\n",
       ".r-1ny4l3l{outline-style:none;}\n",
       ".r-b88u0q{font-weight:700;}\n",
       ".r-18u37iz{-ms-flex-direction:row;-webkit-box-direction:normal;-webkit-box-orient:horizontal;-webkit-flex-direction:row;flex-direction:row;}\n",
       ".r-16y2uox{-ms-flex-positive:1;-webkit-box-flex:1;-webkit-flex-grow:1;flex-grow:1;}\n",
       ".r-1777fci{-ms-flex-pack:center;-webkit-box-pack:center;-webkit-justify-content:center;justify-content:center;}\n",
       ".r-7rcoau{position:absolute;visibility:hidden;top:0;width:50px;pointer-events:none}\n",
       ".r-7rcoau.loaded{visibility:visible;top:50vh;width:50px}</style></link></link></head><body style=\"background-color: #FFFFFF;\"><noscript><style>\n",
       "    body {\n",
       "      -ms-overflow-style: scrollbar;\n",
       "      overflow-y: scroll;\n",
       "      overscroll-behavior-y: none;\n",
       "    }\n",
       "\n",
       "    .errorContainer {\n",
       "      background-color: #FFF;\n",
       "      color: #0F1419;\n",
       "      max-width: 600px;\n",
       "      margin: 0 auto;\n",
       "      padding: 10%;\n",
       "      font-family: Helvetica, sans-serif;\n",
       "      font-size: 16px;\n",
       "    }\n",
       "\n",
       "    .errorButton {\n",
       "      margin: 3em 0;\n",
       "    }\n",
       "\n",
       "    .errorButton a {\n",
       "      background: #1DA1F2;\n",
       "      border-radius: 2.5em;\n",
       "      color: white;\n",
       "      padding: 1em 2em;\n",
       "      text-decoration: none;\n",
       "    }\n",
       "\n",
       "    .errorButton a:hover,\n",
       "    .errorButton a:focus {\n",
       "      background: rgb(26, 145, 218);\n",
       "    }\n",
       "\n",
       "    .errorFooter {\n",
       "      color: #657786;\n",
       "      font-size: 80%;\n",
       "      line-height: 1.5;\n",
       "      padding: 1em 0;\n",
       "    }\n",
       "\n",
       "    .errorFooter a,\n",
       "    .errorFooter a:visited {\n",
       "      color: #657786;\n",
       "      text-decoration: none;\n",
       "      padding-right: 1em;\n",
       "    }\n",
       "\n",
       "    .errorFooter a:hover,\n",
       "    .errorFooter a:active {\n",
       "      text-decoration: underline;\n",
       "    }\n",
       "\n",
       "      #placeholder,\n",
       "      #react-root {\n",
       "        display: none !important;\n",
       "      }\n",
       "      body {\n",
       "        background-color: #FFF !important;\n",
       "      }\n",
       "    </style>\n",
       "<div class=\"errorContainer\">\n",
       "<img alt=\"Twitter\" height=\"38\" src=\"https://abs.twimg.com/errors/logo46x38.png\" srcset=\"https://abs.twimg.com/errors/logo46x38.png 1x, https://abs.twimg.com/errors/logo46x38@2x.png 2x\" width=\"46\"/>\n",
       "<h1>JavaScript is not available.</h1>\n",
       "<p>We’ve detected that JavaScript is disabled in this browser. Please enable JavaScript or switch to a supported browser to continue using twitter.com. You can see a list of supported browsers in our Help Center.</p>\n",
       "<p class=\"errorButton\"><a href=\"https://help.twitter.com/using-twitter/twitter-supported-browsers\">Help Center</a></p>\n",
       "<p class=\"errorFooter\">\n",
       "<a href=\"https://twitter.com/tos\">Terms of Service</a>\n",
       "<a href=\"https://twitter.com/privacy\">Privacy Policy</a>\n",
       "<a href=\"https://support.twitter.com/articles/20170514\">Cookie Policy</a>\n",
       "<a href=\"https://legal.twitter.com/imprint.html\">Imprint</a>\n",
       "<a href=\"https://business.twitter.com/en/help/troubleshooting/how-twitter-ads-work.html?ref=web-twc-ao-gbl-adsinfo&amp;utm_source=twc&amp;utm_medium=web&amp;utm_campaign=ao&amp;utm_content=adsinfo\">Ads info</a>\n",
       "      © 2023 X Corp.\n",
       "    </p>\n",
       "</div></noscript><div id=\"react-root\" style=\"height:100%;display:flex;\"><div class=\"css-1dbjc4n r-13awgt0 r-12vffkv\"><div class=\"css-1dbjc4n r-13awgt0 r-12vffkv\"><div aria-label=\"Loading…\" class=\"css-1dbjc4n r-14lw9ot r-1p0dtai r-1d2f490 r-1xcajam r-zchlnj r-ipm5af\" id=\"placeholder\"><svg aria-hidden=\"true\" class=\"r-1p0dtai r-18jsvk2 r-4qtqp9 r-yyyyoo r-wy61xf r-1d2f490 r-ywje51 r-dnmrzs r-u8s1d r-zchlnj r-1plcrui r-ipm5af r-lrvibr r-1blnp2b\" viewbox=\"0 0 24 24\"><g><path d=\"M18.244 2.25h3.308l-7.227 8.26 8.502 11.24H16.17l-5.214-6.817L4.99 21.75H1.68l7.73-8.835L1.254 2.25H8.08l4.713 6.231zm-1.161 17.52h1.833L7.084 4.126H5.117z\"></path></g></svg></div><div class=\"css-1dbjc4n r-hvic4v r-1d2f490 r-1xcajam r-zchlnj r-1ykxob0\" id=\"ScriptLoadFailure\"><form action=\"\" method=\"GET\"><div class=\"css-1dbjc4n r-1awozwy r-q4m81j\"><div class=\"css-901oao r-18jsvk2 r-37j5jr r-a023e6 r-16dba41 r-rjixqe r-bcqeeo r-qvutc0\" dir=\"ltr\" style=\"text-overflow:unset\"><span class=\"css-901oao css-16my406 r-poiln3 r-bcqeeo r-qvutc0\" style=\"text-overflow:unset\">Something went wrong, but don’t fret — let’s give it another shot.</span></div><br/><input name=\"failedScript\" type=\"hidden\" value=\"\"/><button style=\"background:transparent;border:none\" type=\"submit\"><div class=\"css-18t94o4 css-1dbjc4n r-sdzlij r-1phboty r-rs99b7 r-2yi16 r-1qi8awa r-1ny4l3l r-ymttw5 r-o7ynqc r-6416eg r-lrvibr\" role=\"button\" style=\"background-color:rgba(15,20,25,1.00);border-top-color:rgba(0,0,0,0.00);border-right-color:rgba(0,0,0,0.00);border-bottom-color:rgba(0,0,0,0.00);border-left-color:rgba(0,0,0,0.00)\" tabindex=\"0\"><div class=\"css-901oao r-1awozwy r-6koalj r-18u37iz r-16y2uox r-37j5jr r-a023e6 r-b88u0q r-1777fci r-rjixqe r-bcqeeo r-q4m81j r-qvutc0\" dir=\"ltr\" style=\"color:rgba(255,255,255,1.00);text-overflow:unset\"><span class=\"css-901oao css-16my406 css-1hf3ou5 r-poiln3 r-a023e6 r-rjixqe r-bcqeeo r-qvutc0\" style=\"text-overflow:unset\"><span class=\"css-901oao css-16my406 r-poiln3 r-bcqeeo r-qvutc0\" style=\"text-overflow:unset\">Try again</span></span></div></div></button></div></form></div></div></div></div><svg aria-hidden=\"true\" class=\"r-1p0dtai r-13gxpu9 r-4qtqp9 r-yyyyoo r-wy61xf r-1d2f490 r-7rcoau r-ywje51 r-dnmrzs r-u8s1d r-zchlnj r-1plcrui r-ipm5af r-lrvibr r-1blnp2b\" id=\"loading-x-anim-0\" viewbox=\"0 0 24 24\"><g><path d=\"M18.244 2.25h3.308l-7.227 8.26 8.502 11.24H16.17l-5.214-6.817L4.99 21.75H1.68l7.73-8.835L1.254 2.25H8.08l4.713 6.231zm-1.161 17.52h1.833L7.084 4.126H5.117z\"></path><path d=\"M 10,30 C 20,106 6,163 76,166 h 46 s 147,222 147,68 C 19,215 36,99 175,74 h 166 s 124,67 97,168 C 111,5 113,207 125,150 h 64 s 249,203 84,224 C 71,4 169,78 35,164 h 156 s 133,202 192,121 C 98,59 13,246 213,118 h 165 s 36,225 162,226 C 226,32 46,101 200,109 h 116 s 159,254 220,12 C 59,252 213,60 186,221 h 108 s 95,48 121,4 C 113,119 16,208 199,83 h 18 s 187,94 207,83 C 57,92 132,179 162,3 h 39 s 154,250 197,235 C 38,98 19,182 139,46 h 223 s 133,91 128,123 C 84,109 119,155 75,33 h 246 s 146,252 6,255 C 104,29 11,122 46,208 h 127 s 248,228 45,187 C 146,255 76,214 45,167 h 227 s 215,71 141,64 C 254,188 223,29 16,20 h 189 s 50,140 9,168 C 108,181 157,159 176,177 h 195 s 21,228 127,106 C 57,185 237,175 175,17 h 147 s 128,7 221,107\" fill=\"#1d9bf008\"></path></g></svg><svg aria-hidden=\"true\" class=\"r-1p0dtai r-13gxpu9 r-4qtqp9 r-yyyyoo r-wy61xf r-1d2f490 r-7rcoau r-ywje51 r-dnmrzs r-u8s1d r-zchlnj r-1plcrui r-ipm5af r-lrvibr r-1blnp2b\" id=\"loading-x-anim-1\" viewbox=\"0 0 24 24\"><g><path d=\"M18.244 2.25h3.308l-7.227 8.26 8.502 11.24H16.17l-5.214-6.817L4.99 21.75H1.68l7.73-8.835L1.254 2.25H8.08l4.713 6.231zm-1.161 17.52h1.833L7.084 4.126H5.117z\"></path><path d=\"M 10,30 C 229,227 108,228 82,99 h 140 s 124,172 13,174 C 109,237 202,175 236,126 h 125 s 182,179 22,84 C 179,15 71,203 203,4 h 135 s 141,253 225,158 C 168,243 104,185 108,173 h 190 s 63,30 144,3 C 68,231 60,114 192,170 h 41 s 80,36 60,15 C 41,20 123,204 183,57 h 242 s 209,104 243,212 C 119,220 186,73 118,136 h 107 s 107,115 71,154 C 120,206 114,159 131,130 h 21 s 8,232 42,197 C 241,50 206,10 206,109 h 231 s 124,223 188,3 C 192,174 147,85 247,29 h 235 s 247,71 212,192 C 92,69 223,235 21,118 h 180 s 212,89 63,50 C 114,93 220,215 179,13 h 21 s 1,64 172,157 C 64,27 182,144 188,165 h 150 s 220,133 200,62 C 250,121 79,184 31,173 h 71 s 14,239 142,43 C 198,51 253,147 232,217 h 149 s 45,221 214,103 C 240,59 18,193 145,103 h 124 s 35,55 3,255\" fill=\"#1d9bf008\"></path></g></svg><svg aria-hidden=\"true\" class=\"r-1p0dtai r-13gxpu9 r-4qtqp9 r-yyyyoo r-wy61xf r-1d2f490 r-7rcoau r-ywje51 r-dnmrzs r-u8s1d r-zchlnj r-1plcrui r-ipm5af r-lrvibr r-1blnp2b\" id=\"loading-x-anim-2\" viewbox=\"0 0 24 24\"><g><path d=\"M18.244 2.25h3.308l-7.227 8.26 8.502 11.24H16.17l-5.214-6.817L4.99 21.75H1.68l7.73-8.835L1.254 2.25H8.08l4.713 6.231zm-1.161 17.52h1.833L7.084 4.126H5.117z\"></path><path d=\"M 10,30 C 242,198 204,203 168,9 h 176 s 156,122 19,157 C 111,41 52,227 67,146 h 228 s 145,186 151,128 C 236,39 114,233 174,201 h 77 s 98,239 122,201 C 178,75 77,145 170,236 h 35 s 195,204 129,249 C 43,19 175,86 78,253 h 158 s 60,243 119,162 C 7,22 157,190 191,59 h 140 s 172,150 145,155 C 63,55 198,133 4,86 h 3 s 7,130 179,173 C 64,168 131,135 99,248 h 157 s 167,170 12,18 C 208,11 192,84 106,254 h 247 s 163,93 214,182 C 235,37 204,12 177,60 h 219 s 63,83 244,53 C 251,53 29,130 84,86 h 11 s 246,81 171,93 C 18,101 194,239 134,0 h 142 s 150,49 87,30 C 50,51 51,72 231,253 h 21 s 69,173 242,173 C 74,33 143,251 23,197 h 140 s 218,34 206,75 C 9,172 109,135 61,122 h 211 s 188,114 236,65 C 112,29 241,254 132,238 h 214 s 101,173 229,127\" fill=\"#1d9bf008\"></path></g></svg><svg aria-hidden=\"true\" class=\"r-1p0dtai r-13gxpu9 r-4qtqp9 r-yyyyoo r-wy61xf r-1d2f490 r-7rcoau r-ywje51 r-dnmrzs r-u8s1d r-zchlnj r-1plcrui r-ipm5af r-lrvibr r-1blnp2b\" id=\"loading-x-anim-3\" viewbox=\"0 0 24 24\"><g><path d=\"M18.244 2.25h3.308l-7.227 8.26 8.502 11.24H16.17l-5.214-6.817L4.99 21.75H1.68l7.73-8.835L1.254 2.25H8.08l4.713 6.231zm-1.161 17.52h1.833L7.084 4.126H5.117z\"></path><path d=\"M 10,30 C 1,188 176,5 58,19 h 229 s 99,80 231,56 C 3,9 229,118 23,233 h 128 s 33,54 180,95 C 42,134 45,130 83,245 h 97 s 51,134 81,197 C 249,223 252,135 145,44 h 11 s 249,53 101,207 C 151,239 157,109 250,243 h 183 s 150,121 174,183 C 22,91 253,187 131,99 h 132 s 213,52 165,133 C 180,137 159,50 213,15 h 64 s 123,231 50,232 C 108,92 147,243 83,149 h 133 s 149,127 54,188 C 255,243 92,252 31,80 h 180 s 13,108 205,242 C 52,49 244,241 236,121 h 72 s 68,113 153,223 C 147,181 82,84 78,11 h 121 s 122,161 72,147 C 53,186 57,157 208,4 h 110 s 87,194 48,253 C 96,123 39,220 182,47 h 186 s 63,177 64,198 C 199,91 128,224 180,247 h 106 s 173,153 96,174 C 229,122 76,70 207,127 h 5 s 124,51 162,25 C 203,53 173,123 95,137 h 154 s 245,153 117,183\" fill=\"#1d9bf008\"></path></g></svg><script nonce=\"MTBlMjZlZjMtM2ZjMi00OTllLWJjOTctZWRhMGY1YTc3NWMw\">document.cookie=\"gt=1719368153111642273; Max-Age=10800; Domain=.twitter.com; Path=/; Secure\";</script><script charset=\"utf-8\" nonce=\"MTBlMjZlZjMtM2ZjMi00OTllLWJjOTctZWRhMGY1YTc3NWMw\" type=\"text/javascript\">window.__INITIAL_STATE__={\"optimist\":[],\"entities\":{\"broadcasts\":{\"entities\":{},\"errors\":{},\"fetchStatus\":{}},\"cards\":{\"entities\":{},\"errors\":{},\"fetchStatus\":{}},\"commerceItems\":{\"entities\":{},\"errors\":{},\"fetchStatus\":{}},\"communities\":{\"entities\":{},\"errors\":{},\"fetchStatus\":{}},\"conversations\":{\"entities\":{},\"errors\":{},\"fetchStatus\":{}},\"entries\":{\"entities\":{},\"errors\":{},\"fetchStatus\":{}},\"lists\":{\"entities\":{},\"errors\":{},\"fetchStatus\":{}},\"moments\":{\"entities\":{},\"errors\":{},\"fetchStatus\":{}},\"topics\":{\"entities\":{},\"errors\":{},\"fetchStatus\":{}},\"tweets\":{\"entities\":{},\"errors\":{},\"fetchStatus\":{}},\"articleEntities\":{\"entities\":{},\"errors\":{},\"fetchStatus\":{}},\"twitterArticles\":{\"entities\":{},\"errors\":{},\"fetchStatus\":{}},\"trustedFriends\":{\"entities\":{},\"errors\":{},\"fetchStatus\":{}},\"userPresence\":{\"entities\":{},\"errors\":{},\"fetchStatus\":{}},\"userCommunityInviteActionResult\":{\"entities\":{},\"errors\":{},\"fetchStatus\":{}},\"users\":{\"entities\":{},\"errors\":{},\"fetchStatus\":{}},\"userCommunityRoleRelationship\":{\"entities\":{},\"errors\":{},\"fetchStatus\":{}},\"translationsProfiles\":{\"entities\":{},\"errors\":{},\"fetchStatus\":{}},\"imageCache\":{\"entities\":{},\"errors\":{},\"fetchStatus\":{}}},\"featureSwitch\":{\"defaultConfig\":{\"2fa_temporary_password_enabled\":{\"value\":false},\"account_country_setting_countries_whitelist\":{\"value\":[\"ad\",\"ae\",\"af\",\"ag\",\"ai\",\"al\",\"am\",\"ao\",\"ar\",\"as\",\"at\",\"au\",\"aw\",\"ax\",\"az\",\"ba\",\"bb\",\"bd\",\"be\",\"bf\",\"bg\",\"bh\",\"bi\",\"bj\",\"bl\",\"bm\",\"bn\",\"bo\",\"bq\",\"br\",\"bs\",\"bt\",\"bv\",\"bw\",\"by\",\"bz\",\"ca\",\"cc\",\"cd\",\"cf\",\"cg\",\"ch\",\"ci\",\"ck\",\"cl\",\"cm\",\"co\",\"cr\",\"cu\",\"cv\",\"cw\",\"cx\",\"cy\",\"cz\",\"de\",\"dj\",\"dk\",\"dm\",\"do\",\"dz\",\"ec\",\"ee\",\"eg\",\"er\",\"es\",\"et\",\"fi\",\"fj\",\"fk\",\"fm\",\"fo\",\"fr\",\"ga\",\"gb\",\"gd\",\"ge\",\"gf\",\"gg\",\"gh\",\"gi\",\"gl\",\"gm\",\"gn\",\"gp\",\"gq\",\"gr\",\"gs\",\"gt\",\"gu\",\"gw\",\"gy\",\"hk\",\"hn\",\"hr\",\"ht\",\"hu\",\"id\",\"ie\",\"il\",\"im\",\"in\",\"io\",\"iq\",\"ir\",\"is\",\"it\",\"je\",\"jm\",\"jo\",\"jp\",\"ke\",\"kg\",\"kh\",\"ki\",\"km\",\"kn\",\"kr\",\"kw\",\"ky\",\"kz\",\"la\",\"lb\",\"lc\",\"li\",\"lk\",\"lr\",\"ls\",\"lt\",\"lu\",\"lv\",\"ly\",\"ma\",\"mc\",\"md\",\"me\",\"mf\",\"mg\",\"mh\",\"mk\",\"ml\",\"mn\",\"mo\",\"mp\",\"mq\",\"mr\",\"ms\",\"mt\",\"mu\",\"mv\",\"mw\",\"mx\",\"my\",\"mz\",\"na\",\"nc\",\"ne\",\"nf\",\"ng\",\"ni\",\"nl\",\"no\",\"np\",\"nr\",\"nu\",\"nz\",\"om\",\"pa\",\"pe\",\"pf\",\"pg\",\"ph\",\"pk\",\"pl\",\"pm\",\"pn\",\"pr\",\"ps\",\"pt\",\"pw\",\"py\",\"qa\",\"re\",\"ro\",\"rs\",\"ru\",\"rw\",\"sa\",\"sb\",\"sc\",\"se\",\"sg\",\"sh\",\"si\",\"sk\",\"sl\",\"sm\",\"sn\",\"so\",\"sr\",\"st\",\"sv\",\"sx\",\"sz\",\"tc\",\"td\",\"tf\",\"tg\",\"th\",\"tj\",\"tk\",\"tl\",\"tm\",\"tn\",\"to\",\"tr\",\"tt\",\"tv\",\"tw\",\"tz\",\"ua\",\"ug\",\"us\",\"uy\",\"uz\",\"va\",\"vc\",\"ve\",\"vi\",\"vn\",\"vu\",\"wf\",\"ws\",\"xk\",\"ye\",\"yt\",\"za\",\"zm\",\"zw\"]},\"ads_spacing_client_fallback_minimum_spacing\":{\"value\":3},\"ads_spacing_client_fallback_minimum_spacing_verified_blue\":{\"value\":3},\"arkose_challenge_lo_web_notification_dev\":{\"value\":\"BF5FA6C8-9668-4AF9-AFA2-E362F56E5B71\"},\"arkose_challenge_lo_web_notification_mobile_prod\":{\"value\":\"6A2FD110-7C1A-47CD-82EE-D01FFB4810D7\"},\"arkose_challenge_lo_web_notification_prod\":{\"value\":\"50706BFE-942C-4EEC-B9AD-03F7CD268FB1\"},\"arkose_challenge_login_web_devel\":{\"value\":\"DF58DD3B-DFCC-4502-91FA-EDC0DC385CFF\"},\"arkose_challenge_login_web_prod\":{\"value\":\"2F4F0B28-BC94-4271-8AD7-A51662E3C91C\"},\"arkose_challenge_open_app_dev\":{\"value\":\"560C66A3-C8EB-4D11-BE53-A8232734AA62\"},\"arkose_challenge_open_app_prod\":{\"value\":\"6E8D3D6E-30D4-45F1-9838-BA3D9651AAA1\"},\"arkose_challenge_signup_mobile_dev\":{\"value\":\"006B5E87-7497-403E-9E0C-8FFBAAC6FA67\"},\"arkose_challenge_signup_mobile_prod\":{\"value\":\"867D55F2-24FD-4C56-AB6D-589EDAF5E7C5\"},\"arkose_challenge_signup_web_dev\":{\"value\":\"DF58DD3B-DFCC-4502-91FA-EDC0DC385CFF\"},\"arkose_challenge_signup_web_prod\":{\"value\":\"2CB16598-CB82-4CF7-B332-5990DB66F3AB\"},\"arkose_challenge_transparent_signup_dev\":{\"value\":\"6627C16B-DA60-47A5-85F7-CFF23BD2BE69\"},\"arkose_challenge_transparent_signup_prod\":{\"value\":\"4CB8C8B0-40FF-439C-9D0D-9A389ADA18CB\"},\"Arkose_rweb_hosted_page\":{\"value\":true},\"Arkose_use_invisible_challenge_key\":{\"value\":false},\"blue_business_affiliates_list_order_setting_enabled\":{\"value\":false},\"blue_business_direct_invites_enabled\":{\"value\":true},\"blue_business_multi_affiliates_ui_enabled\":{\"value\":false},\"blue_business_username_change_prompt_enabled\":{\"value\":true},\"blue_business_verified_admin_cancellation_flow_enabled\":{\"value\":true},\"blue_business_verified_admin_enabled\":{\"value\":true},\"blue_business_vo_free_affiliate_limit\":{\"value\":5},\"blue_business_vo_nav_for_legacy_verified\":{\"value\":false},\"blue_longer_video_enabled\":{\"value\":false},\"branded_like_preview_enabled\":{\"value\":false},\"c9s_auto_collapse_community_detail_header_enabled\":{\"value\":true},\"c9s_community_answer_box_enabled\":{\"value\":true},\"c9s_community_answer_box_join_page_enabled\":{\"value\":true},\"c9s_community_composer_hashtag_suggestions_enabled\":{\"value\":false},\"c9s_community_hashtags_carousel_enabled\":{\"value\":false},\"c9s_community_question_box_enabled\":{\"value\":true},\"c9s_community_tweet_search_enabled\":{\"value\":true},\"c9s_enabled\":{\"value\":true},\"c9s_list_members_action_api_enabled\":{\"value\":false},\"c9s_logged_out_access_enabled\":{\"value\":true},\"c9s_max_community_answer_length\":{\"value\":280},\"c9s_max_community_description_length\":{\"value\":160},\"c9s_max_community_name_length\":{\"value\":30},\"c9s_max_community_question_length\":{\"value\":160},\"c9s_max_rule_count\":{\"value\":10},\"c9s_max_rule_description_length\":{\"value\":160},\"c9s_max_rule_name_length\":{\"value\":60},\"c9s_nav_list_activity_details_enabled\":{\"value\":false},\"c9s_question_editing_box_enabled\":{\"value\":true},\"c9s_ssr_enabled\":{\"value\":false},\"c9s_tab_visibility\":{\"value\":\"members_only\"},\"c9s_timelines_default_selection\":{\"value\":\"latest\"},\"c9s_timelines_top_latest_stickiness_enabled\":{\"value\":false},\"c9s_tweet_anatomy_moderator_badge_enabled\":{\"value\":true},\"card_detail_compact_enabled\":{\"value\":true},\"conversation_controls_limited_replies_consumption_configuration\":{\"value\":\"no_reply\"},\"conversation_controls_my_subscribers_enabled\":{\"value\":true},\"conversation_controls_verified_only_enabled\":{\"value\":true},\"conversational_safety_heads_up_treatment_A_enabled\":{\"value\":\"\"},\"creator_monetization_profile_subscription_tweets_tab_enabled\":{\"value\":true},\"creator_monetization_web_tips_dashboard_enabled\":{\"value\":false},\"creator_monetization_web_tips_onboarding_enabled\":{\"value\":false},\"creator_subscriptions_connect_tab_enabled\":{\"value\":true},\"creator_subscriptions_email_share_enabled\":{\"value\":true},\"creator_subscriptions_subscribe_action_tweet_menu_enabled\":{\"value\":true},\"creator_subscriptions_subscribe_button_tweet_detail_enabled\":{\"value\":true},\"creator_subscriptions_subscriber_count_enabled\":{\"value\":false},\"creator_subscriptions_subscriber_count_min_displayed\":{\"value\":1},\"creator_subscriptions_subscription_count_enabled\":{\"value\":true},\"creator_subscriptions_tweet_preview_api_enabled\":{\"value\":true},\"dash_region_specific_de_and_tr_media_transparency_items_enabled\":{\"value\":false},\"dash_region_specific_de_media_transparency_items_enabled\":{\"value\":false},\"dm_conversation_labels_max_pinned_count\":{\"value\":6},\"dm_conversation_labels_pinned_education_enabled\":{\"value\":true},\"dm_conversations_nsfw_media_filter_enabled\":{\"value\":false},\"dm_education_flags_prompt\":{\"value\":false},\"dm_encrypted_franking_sending_enabled\":{\"value\":false},\"dm_encrypted_franking_verification_enabled\":{\"value\":false},\"dm_inbox_search_groups_bucket_size\":{\"value\":5},\"dm_inbox_search_max_recent_searches_stored\":{\"value\":5},\"dm_inbox_search_messages_bucket_size\":{\"value\":5},\"dm_inbox_search_people_bucket_size\":{\"value\":5},\"dm_secret_conversations_enabled\":{\"value\":false},\"dm_secret_conversations_for_blue_verified_enabled\":{\"value\":true},\"dm_secret_conversations_for_graduated_access_enabled\":{\"value\":false},\"dm_settings_info_page_allow_subscriber_messages_setting_enabled\":{\"value\":true},\"dm_settings_info_page_device_list_enabled\":{\"value\":false},\"dm_share_sheet_send_individually_max_count\":{\"value\":20},\"dm_voice_rendering_enabled\":{\"value\":true},\"dont_mention_me_enabled\":{\"value\":true},\"dont_mention_me_mentions_tab_education_enabled\":{\"value\":true},\"dont_mention_me_view_api_enabled\":{\"value\":true},\"dsa_encrypted_dms_report_flow_enabled\":{\"value\":false},\"dsa_profile_report_flow_enabled\":{\"value\":false},\"dsa_report_flow_enabled\":{\"value\":false},\"dsa_report_illegal_content_url\":{\"value\":\"\"},\"ecd_dispute_form_link_enabled\":{\"value\":true},\"enable_label_appealing_misinfo_enabled\":{\"value\":false},\"enable_label_appealing_sensitive_content_enabled\":{\"value\":false},\"explore_relaunch_enable_auto_play\":{\"value\":false},\"explore_relaunch_enable_immersive_web\":{\"value\":false},\"explore_relaunch_enable_immersive_web_navigation_button\":{\"value\":false},\"explore_relaunch_max_video_loop_count\":{\"value\":2},\"explore_relaunch_max_video_loop_threshold_sec\":{\"value\":6},\"explore_relaunch_web_playback_bug_fix\":{\"value\":true},\"focused_timeline_actions_onboarding_likes\":{\"value\":3},\"follow_nudge_conversation_enabled\":{\"value\":false},\"freedom_of_speech_not_reach_author_label_enabled\":{\"value\":true},\"freedom_of_speech_not_reach_fetch_enabled\":{\"value\":true},\"freedom_of_speech_not_reach_pivot_enabled\":{\"value\":true},\"global_mention_settings_enabled\":{\"value\":false},\"graduated_access_botmaker_decider_enabled\":{\"value\":true},\"graduated_access_invisible_treatment_enabled\":{\"value\":true},\"graduated_access_user_prompt_enabled\":{\"value\":true},\"graphql_is_translatable_rweb_tweet_is_translatable_enabled\":{\"value\":true},\"graphql_mutation_retweet_mode\":{\"value\":\"rest_only\"},\"graphql_mutation_update_mode\":{\"value\":\"graphql_only\"},\"graphql_timeline_v2_bookmark_timeline\":{\"value\":true},\"graphql_timeline_v2_query_threaded_conversation_with_injections\":{\"value\":true},\"graphql_timeline_v2_user_favorites_by_time_timeline\":{\"value\":true},\"graphql_timeline_v2_user_media_timeline\":{\"value\":true},\"graphql_timeline_v2_user_profile_timeline\":{\"value\":true},\"graphql_timeline_v2_user_profile_with_replies_timeline\":{\"value\":true},\"gryphon_accountsync_polling_interval_ms\":{\"value\":300000},\"gryphon_blue_only_enabled\":{\"value\":true},\"gryphon_faster_cell_entrance\":{\"value\":true},\"gryphon_fps_tracking_enabled\":{\"value\":true},\"gryphon_hide_quick_promote\":{\"value\":false},\"gryphon_motion\":{\"value\":false},\"gryphon_redux_perf_optimization_enabled\":{\"value\":true},\"gryphon_redux_perf_optimization_v2_enabled\":{\"value\":true},\"gryphon_search_based_deck_enabled\":{\"value\":false},\"gryphon_sharing_column_permission\":{\"value\":\"follow\"},\"gryphon_sharing_deck_permission\":{\"value\":\"\"},\"gryphon_survey_enabled\":{\"value\":false},\"gryphon_survey_url\":{\"value\":\"\"},\"gryphon_timeline_polling_latest_interval_ms\":{\"value\":30000},\"gryphon_timeline_polling_overrides\":{\"value\":\"explore,,60000\"},\"gryphon_timeline_polling_top_interval_ms\":{\"value\":120000},\"gryphon_underground_enabled\":{\"value\":false},\"gryphon_video_docking_enabled\":{\"value\":true},\"hashfetti_all_hashflags\":{\"value\":false},\"hashfetti_duration_ms\":{\"value\":4000},\"hashfetti_enabled\":{\"value\":true},\"hashfetti_particle_count\":{\"value\":30},\"hidden_profile_likes_enabled\":{\"value\":true},\"hidden_profile_subscriptions_enabled\":{\"value\":true},\"highlights_tweets_action_enabled\":{\"value\":true},\"highlights_tweets_action_menu_upsell_enabled\":{\"value\":true},\"highlights_tweets_tab_ui_enabled\":{\"value\":true},\"highlights_tweets_tab_upsell_enabled\":{\"value\":true},\"highlights_tweets_upsell_on_pin_action_enabled\":{\"value\":true},\"home_timeline_compact_app_bar\":{\"value\":true},\"home_timeline_like_reactivity_enabled\":{\"value\":true},\"home_timeline_like_reactivity_fatigue\":{\"value\":10},\"home_timeline_spheres_detail_page_muting_enabled\":{\"value\":true},\"home_timeline_spheres_max_user_owned_or_subscribed_lists_count\":{\"value\":10},\"home_timeline_spheres_ranking_mode_control_enabled\":{\"value\":false},\"identity_verification_consent_opt_in_by_default_enabled\":{\"value\":true},\"identity_verification_debadging_notification_enabled\":{\"value\":true},\"identity_verification_hide_verified_label_settings_enabled\":{\"value\":true},\"identity_verification_intake_enabled\":{\"value\":false},\"identity_verification_intake_for_blue_subscribers_enabled\":{\"value\":true},\"identity_verification_notable_demo_survey\":{\"value\":false},\"identity_verification_settings_enabled\":{\"value\":true},\"immersive_viewer_enable_profile_viewer\":{\"value\":false},\"krs_registration_enabled\":{\"value\":false},\"live_event_docking_enabled\":{\"value\":true},\"live_event_interstitial_seen_cache_enabled\":{\"value\":true},\"live_event_multi_video_auto_advance_dock_enabled\":{\"value\":true},\"live_event_multi_video_auto_advance_enabled\":{\"value\":true},\"live_event_multi_video_auto_advance_fullscreen_enabled\":{\"value\":false},\"live_event_multi_video_enabled\":{\"value\":true},\"live_event_timeline_default_refresh_rate_interval_seconds\":{\"value\":30},\"live_event_timeline_minimum_refresh_rate_interval_seconds\":{\"value\":10},\"live_event_timeline_server_controlled_refresh_rate_enabled\":{\"value\":true},\"livepipeline_client_enabled\":{\"value\":true},\"livepipeline_tweetengagement_enabled\":{\"value\":true},\"longform_ad_free_articles_badging_enabled\":{\"value\":false},\"longform_notetweets_composition_without_claims_enabled\":{\"value\":false},\"longform_notetweets_consumption_enabled\":{\"value\":true},\"longform_notetweets_drafts_enabled\":{\"value\":true},\"longform_notetweets_inline_media_enabled\":{\"value\":true},\"longform_notetweets_max_tweet_per_thread\":{\"value\":25},\"longform_notetweets_max_weighted_character_length\":{\"value\":25000},\"longform_notetweets_mobile_richtextinput\":{\"value\":false},\"longform_notetweets_rich_composition_enabled\":{\"value\":1},\"longform_notetweets_rich_text_read_enabled\":{\"value\":true},\"longform_notetweets_tweet_storm_enabled\":{\"value\":false},\"longform_reader_mode_view_in_reader_mode_entry_button_enabled\":{\"value\":false},\"longform_top_articles_friends_of_friends_enabled\":{\"value\":true},\"longform_top_articles_time_window_enabled\":{\"value\":true},\"machine_translation_holdback_logged_in\":{\"value\":false},\"machine_translation_holdback_logged_out\":{\"value\":false},\"media_async_upload_amplify_duration_threshold\":{\"value\":600},\"media_async_upload_longer_video_max_video_duration\":{\"value\":10860},\"media_async_upload_longer_video_max_video_size\":{\"value\":8388608},\"media_async_upload_longer_video_resolution_selector\":{\"value\":true},\"media_async_upload_max_avatar_gif_size\":{\"value\":5},\"media_async_upload_max_gif_size\":{\"value\":15},\"media_async_upload_max_image_size\":{\"value\":5},\"media_async_upload_max_video_duration\":{\"value\":140},\"media_async_upload_max_video_size\":{\"value\":512},\"media_edge_to_edge_content_enabled\":{\"value\":false},\"network_layer_503_backoff_mode\":{\"value\":\"host\"},\"netzdg_in_loggedout_posts_enabled\":{\"value\":false},\"netzdg_in_spaces_enabled\":{\"value\":false},\"ocf_2fa_enrollment_bouncer_enabled\":{\"value\":true},\"ocf_2fa_enrollment_enabled\":{\"value\":true},\"ocf_2fa_unenrollment_enabled\":{\"value\":true},\"onboarding_project_uls_enabled\":{\"value\":false},\"papago_tweet_translation_from_korean_entity_protected\":{\"value\":false},\"papago_tweet_translation_from_korean_entity_protected_destinations\":{\"value\":[\"en\",\"ja\",\"zh\",\"zh-cn\",\"zh-Hans\",\"zh-tw\",\"zh-Hant\"]},\"papago_tweet_translation_from_korean_entity_unprotected\":{\"value\":false},\"papago_tweet_translation_from_korean_entity_unprotected_destinations\":{\"value\":[\"id\",\"es\",\"th\"]},\"papago_tweet_translation_to_korean\":{\"value\":false},\"papago_tweet_translation_to_korean_sources\":{\"value\":[\"en\",\"ja\"]},\"professional_launchpad_m1_enabled\":{\"value\":true},\"professional_launchpad_mobile_promotable_timeline\":{\"value\":false},\"professional_launchpad_upload_address_book\":{\"value\":true},\"profile_foundations_about_tab_enabled\":{\"value\":false},\"profile_foundations_about_tab_tooltip_enabled\":{\"value\":false},\"profile_foundations_header_fields_hidden\":{\"value\":false},\"profile_foundations_tweet_stats_enabled\":{\"value\":false},\"profile_foundations_tweet_stats_tweet_frequency\":{\"value\":false},\"promoted_badge_placement_position\":{\"value\":\"\"},\"recruiting_global_jobs_search_enabled\":{\"value\":false},\"recruiting_job_page_consumption_enabled\":{\"value\":true},\"recruiting_jobs_list_consumption_enabled\":{\"value\":true},\"recruiting_jobs_list_search_enabled\":{\"value\":true},\"recruiting_jobs_list_share_enabled\":{\"value\":true},\"recruiting_verified_orgs_admin_enabled\":{\"value\":false},\"recruiting_verified_orgs_ats_integration_enabled\":{\"value\":false},\"recruiting_verified_orgs_enroll_allowed\":{\"value\":false},\"report_center_mvp_r1_enabled\":{\"value\":true},\"report_center_mvp_r2_enabled\":{\"value\":false},\"responsive_web_3rd_party_category_branch\":{\"value\":3},\"responsive_web_3rd_party_category_double_click\":{\"value\":3},\"responsive_web_3rd_party_category_external_referer\":{\"value\":3},\"responsive_web_3rd_party_category_ga\":{\"value\":3},\"responsive_web_3rd_party_category_google_platform\":{\"value\":2},\"responsive_web_3rd_party_category_google_recaptcha\":{\"value\":2},\"responsive_web_3rd_party_category_player_card\":{\"value\":3},\"responsive_web_3rd_party_category_sentry\":{\"value\":2},\"responsive_web_3rd_party_category_sign_in_with_apple\":{\"value\":2},\"responsive_web_account_access_language_lo_banners\":{\"value\":\"control\"},\"responsive_web_account_access_language_lo_splash_sidebar\":{\"value\":\"control\"},\"responsive_web_ad_revenue_sharing_enabled\":{\"value\":true},\"responsive_web_ad_revenue_sharing_number_of_impressions\":{\"value\":5},\"responsive_web_ad_revenue_sharing_payout_account_notice_enabled\":{\"value\":false},\"responsive_web_ad_revenue_sharing_setup_enabled\":{\"value\":false},\"responsive_web_ad_revenue_sharing_total_earnings_enabled\":{\"value\":false},\"responsive_web_alt_text_nudges_enabled\":{\"value\":true},\"responsive_web_alt_text_nudges_settings_enabled\":{\"value\":true},\"responsive_web_alt_text_translations_enabled\":{\"value\":true},\"responsive_web_api_transition_enabled\":{\"value\":true},\"responsive_web_article_nudge_enabled\":{\"value\":true},\"responsive_web_audio_space_ring_home_timeline\":{\"value\":false},\"responsive_web_author_labels_avatar_label_enabled\":{\"value\":false},\"responsive_web_author_labels_focal_label_enabled\":{\"value\":false},\"responsive_web_author_labels_handle_label_enabled\":{\"value\":false},\"responsive_web_auto_logout_multiaccount_enabled\":{\"value\":true},\"responsive_web_auto_logout_restrictedauthtoken_enabled\":{\"value\":true},\"responsive_web_auto_logout_twid_enabled\":{\"value\":true},\"responsive_web_birdwatch_consumption_enabled\":{\"value\":true},\"responsive_web_birdwatch_contribution_enabled\":{\"value\":false},\"responsive_web_birdwatch_country_allowed\":{\"value\":true},\"responsive_web_birdwatch_media_notes_enabled\":{\"value\":true},\"responsive_web_birdwatch_netzdg_enabled\":{\"value\":false},\"responsive_web_birdwatch_note_limit_enabled\":{\"value\":true},\"responsive_web_birdwatch_note_writing_enabled\":{\"value\":false},\"responsive_web_birdwatch_pivots_enabled\":{\"value\":true},\"responsive_web_birdwatch_rating_crowd_enabled\":{\"value\":true},\"responsive_web_birdwatch_rating_participant_enabled\":{\"value\":false},\"responsive_web_birdwatch_read_sources_nudge\":{\"value\":\"control\"},\"responsive_web_birdwatch_require_rating_before_writing_enabled\":{\"value\":true},\"responsive_web_birdwatch_signup_prompt_enabled\":{\"value\":true},\"responsive_web_birdwatch_site_enabled\":{\"value\":true},\"responsive_web_birdwatch_top_contributor_enabled\":{\"value\":true},\"responsive_web_birdwatch_top_contributor_ratio_cutoff\":{\"value\":4},\"responsive_web_birdwatch_top_contributor_score_cutoff\":{\"value\":10},\"responsive_web_card_conversion_hoisted\":{\"value\":\"off\"},\"responsive_web_card_preconnect_enabled\":{\"value\":false},\"responsive_web_carousel_v2_cards_non_safari_enabled\":{\"value\":false},\"responsive_web_carousel_v2_cards_safari_variant\":{\"value\":\"control\"},\"responsive_web_carousel_v2_media_detail_enabled\":{\"value\":false},\"responsive_web_collection_ads_enabled\":{\"value\":true},\"responsive_web_commerce_shop_spotlight_enabled\":{\"value\":false},\"responsive_web_communities_slices_enabled\":{\"value\":true},\"responsive_web_composer_autosave_debounce_ms\":{\"value\":2000},\"responsive_web_composer_autosave_enabled\":{\"value\":false},\"responsive_web_composer_autosave_initial_ms\":{\"value\":20000},\"responsive_web_composer_configurable_video_player_enabled\":{\"value\":false},\"responsive_web_continue_as_always_enabled\":{\"value\":false},\"responsive_web_continue_as_param_enabled\":{\"value\":true},\"responsive_web_convert_card_video_to_gif_enabled\":{\"value\":false},\"responsive_web_cookie_compliance_1st_party_killswitch_list\":{\"value\":[]},\"responsive_web_cookie_compliance_banner_enabled\":{\"value\":false},\"responsive_web_cookie_compliance_gingersnap_enabled\":{\"value\":false},\"responsive_web_cookie_consent_signal_enabled\":{\"value\":false},\"responsive_web_creator_preferences_previews_enabled_setting\":{\"value\":true},\"responsive_web_dcm_2_enabled\":{\"value\":true},\"responsive_web_deamplification_replies_dropdown_selector_enabled\":{\"value\":false},\"responsive_web_delete_tweet_stats_enabled\":{\"value\":false},\"responsive_web_device_follow_without_user_follow_enabled\":{\"value\":false},\"responsive_web_disconnect_third_party_sso_enabled\":{\"value\":true},\"responsive_web_dockable_autoplay_policy_enabled\":{\"value\":true},\"responsive_web_edit_tweet_api_enabled\":{\"value\":true},\"responsive_web_edit_tweet_composition_enabled\":{\"value\":true},\"responsive_web_edit_tweet_enabled\":{\"value\":false},\"responsive_web_edit_tweet_perspective_enabled\":{\"value\":false},\"responsive_web_edit_tweet_upsell_enabled\":{\"value\":true},\"responsive_web_element_size_impression_scribe_enabled\":{\"value\":true},\"responsive_web_enhance_cards_enabled\":{\"value\":false},\"responsive_web_eu_countries\":{\"value\":[\"at\",\"be\",\"bg\",\"ch\",\"cy\",\"cz\",\"de\",\"dk\",\"ee\",\"es\",\"fi\",\"fr\",\"gb\",\"gr\",\"hr\",\"hu\",\"ie\",\"is\",\"it\",\"li\",\"lt\",\"lu\",\"lv\",\"mt\",\"nl\",\"no\",\"pl\",\"pt\",\"ro\",\"se\",\"si\",\"sk\"]},\"responsive_web_explorer_ads_enabled\":{\"value\":true},\"responsive_web_extension_compatibility_hide\":{\"value\":false},\"responsive_web_extension_compatibility_impression_guard\":{\"value\":true},\"responsive_web_extension_compatibility_override_param\":{\"value\":false},\"responsive_web_extension_compatibility_scribe\":{\"value\":true},\"responsive_web_extension_compatibility_size_threshold\":{\"value\":50},\"responsive_web_fetch_hashflags_on_boot\":{\"value\":false},\"responsive_web_follower_count_reduction_copy_enabled\":{\"value\":true},\"responsive_web_footer_categorized_variant_enabled\":{\"value\":false},\"responsive_web_framerate_tracking_home_enabled\":{\"value\":false},\"responsive_web_gaggle_site_enabled\":{\"value\":false},\"responsive_web_graphql_exclude_directive_enabled\":{\"value\":true},\"responsive_web_graphql_feedback\":{\"value\":true},\"responsive_web_graphql_skip_user_profile_image_extensions_enabled\":{\"value\":false},\"responsive_web_graphql_timeline_navigation_enabled\":{\"value\":true},\"responsive_web_hashtag_highlight_is_enabled\":{\"value\":false},\"responsive_web_hashtag_highlight_show_avatar\":{\"value\":false},\"responsive_web_hashtag_highlight_use_small_font\":{\"value\":false},\"responsive_web_hevc_upload_preview_enabled\":{\"value\":false},\"responsive_web_home_pinned_timelines_enabled\":{\"value\":true},\"responsive_web_home_pinned_timelines_prefetch_enabled\":{\"value\":false},\"responsive_web_home_pinned_timelines_settings_enabled\":{\"value\":true},\"responsive_web_impression_tracker_refactor_enabled\":{\"value\":true},\"responsive_web_install_banner_show_immediate\":{\"value\":false},\"responsive_web_instream_video_redesign_enabled\":{\"value\":true},\"responsive_web_lbm_v2_home_enabled\":{\"value\":false},\"responsive_web_lbm_v2_replies_enabled\":{\"value\":false},\"responsive_web_left_nav_refresh_connect_enabled\":{\"value\":false},\"responsive_web_left_nav_refresh_topics_enabled\":{\"value\":false},\"responsive_web_list_tweet_integration_enabled\":{\"value\":false},\"responsive_web_live_commerce_enabled\":{\"value\":false},\"responsive_web_locale_context_direction_enabled\":{\"value\":true},\"responsive_web_location_spotlight_display_map\":{\"value\":true},\"responsive_web_location_spotlight_v1_config\":{\"value\":true},\"responsive_web_location_spotlight_v1_display\":{\"value\":true},\"responsive_web_logged_out_explore_enabled\":{\"value\":false},\"responsive_web_logged_out_explore_home_path_enabled\":{\"value\":false},\"responsive_web_logged_out_gating_13622_ddg\":{\"value\":\"\"},\"responsive_web_logged_out_gating_14788_ddg\":{\"value\":\"\"},\"responsive_web_logged_out_gating_14992_ddg\":{\"value\":\"\"},\"responsive_web_logged_out_gating_15377_ddg\":{\"value\":\"\"},\"responsive_web_logged_out_notifications_enabled\":{\"value\":true},\"responsive_web_logged_out_notifications_fatigue_days_count\":{\"value\":7},\"responsive_web_logged_out_notifications_including_home\":{\"value\":false},\"responsive_web_login_input_type_email_enabled\":{\"value\":false},\"responsive_web_login_signup_sheet_app_install_cta_enabled\":{\"value\":true},\"responsive_web_media_download_video_enabled\":{\"value\":false},\"responsive_web_media_sensitive_allow_download_video\":{\"value\":false},\"responsive_web_media_upload_limit_2g\":{\"value\":250},\"responsive_web_media_upload_limit_3g\":{\"value\":1500},\"responsive_web_media_upload_limit_slow_2g\":{\"value\":150},\"responsive_web_media_upload_md5_hashing_enabled\":{\"value\":true},\"responsive_web_media_upload_metrics_enabled\":{\"value\":true},\"responsive_web_media_upload_target_jpg_pixels_per_byte\":{\"value\":6},\"responsive_web_menu_section_divider_enabled\":{\"value\":false},\"responsive_web_mobile_app_spotlight_v1_config\":{\"value\":false},\"responsive_web_mobile_app_spotlight_v1_display\":{\"value\":false},\"responsive_web_multiple_account_limit\":{\"value\":5},\"responsive_web_new_copy_security_key_2fa_enabled\":{\"value\":true},\"responsive_web_new_user_badge_color_enabled\":{\"value\":true},\"responsive_web_nft_avatar\":{\"value\":true},\"responsive_web_not_a_bot_signups_enabled\":{\"value\":false},\"responsive_web_oauth2_consent_flow_enabled\":{\"value\":true},\"responsive_web_ocf_reportflow_appeals_enabled\":{\"value\":false},\"responsive_web_ocf_reportflow_dms_enabled\":{\"value\":false},\"responsive_web_ocf_reportflow_lists_enabled\":{\"value\":true},\"responsive_web_ocf_reportflow_profiles_enabled\":{\"value\":true},\"responsive_web_ocf_reportflow_promoted_enabled\":{\"value\":false},\"responsive_web_ocf_reportflow_spaces_enabled\":{\"value\":false},\"responsive_web_ocf_reportflow_suspension_appeals_enabled\":{\"value\":false},\"responsive_web_ocf_reportflow_testers\":{\"value\":false},\"responsive_web_ocf_reportflow_tweets_enabled\":{\"value\":true},\"responsive_web_ocf_sms_autoverify_darkwrite\":{\"value\":false},\"responsive_web_ocf_sms_autoverify_enabled\":{\"value\":false},\"responsive_web_offscreen_video_scroller_removal_enabled\":{\"value\":false},\"responsive_web_one_hour_edit_window_enabled\":{\"value\":true},\"responsive_web_open_app_appbar_button_enabled\":{\"value\":false},\"responsive_web_open_in_app_prompt_enabled\":{\"value\":false},\"responsive_web_passwordless_sso_enabled\":{\"value\":false},\"responsive_web_pinned_replies_enabled\":{\"value\":false},\"responsive_web_placeholder_siwg_button_enabled\":{\"value\":false},\"responsive_web_prerolls_fullscreen_disabled_on_ios\":{\"value\":false},\"responsive_web_professional_journeys_holdback_enabled\":{\"value\":false},\"responsive_web_profile_spotlight_v0_config\":{\"value\":true},\"responsive_web_profile_spotlight_v0_display\":{\"value\":true},\"responsive_web_qp_keyword_targeting_enabled\":{\"value\":false},\"responsive_web_reader_extended_menu\":{\"value\":true},\"responsive_web_redux_use_fragment_enabled\":{\"value\":false},\"responsive_web_repeat_profile_visits_notifications_device_follow_only_version_enabled\":{\"value\":false},\"responsive_web_repeat_profile_visits_notifications_enabled\":{\"value\":false},\"responsive_web_reply_storm_enabled\":{\"value\":false},\"responsive_web_report_page_not_found\":{\"value\":false},\"responsive_web_restrict_max_timeline_tweet_height\":{\"value\":true},\"responsive_web_scroller_top_positioning_enabled\":{\"value\":false},\"responsive_web_search_home_page_design_variation\":{\"value\":\"\"},\"responsive_web_send_cookies_metadata_enabled\":{\"value\":true},\"responsive_web_share_only_tweet_url_omit_title_and_text\":{\"value\":true},\"responsive_web_show_similar_posts_pivots_enabled\":{\"value\":true},\"responsive_web_sidebar_ttf_enabled\":{\"value\":false},\"responsive_web_spud_enabled\":{\"value\":true},\"responsive_web_sso_redirect_enabled\":{\"value\":true},\"responsive_web_stripe_account_creation_enabled\":{\"value\":true},\"responsive_web_subscribers_ntab_for_creators_enabled\":{\"value\":true},\"responsive_web_subscriptions_setting_enabled\":{\"value\":true},\"responsive_web_suppress_app_button_banner_suppressed\":{\"value\":false},\"responsive_web_third_party_sso_buttons_enabled\":{\"value\":true},\"responsive_web_timeline_cover_killswitch_enabled\":{\"value\":false},\"responsive_web_timeline_relay_lists_management_enabled\":{\"value\":false},\"responsive_web_timeline_relay_user_lists_enabled\":{\"value\":false},\"responsive_web_tracer_global_trace_sample_rate\":{\"value\":1},\"responsive_web_trends_setting_new_endpoints\":{\"value\":true},\"responsive_web_tweet_analytics_m2_enabled\":{\"value\":false},\"responsive_web_tweet_analytics_m3_enabled\":{\"value\":false},\"responsive_web_tweet_analytics_promoted_audience_demographics_enabled\":{\"value\":false},\"responsive_web_tweet_analytics_video_metrics_v2_enabled\":{\"value\":true},\"responsive_web_tweetdeck_menu_item_enabled\":{\"value\":true},\"responsive_web_twitter_article_block_limit\":{\"value\":10000},\"responsive_web_twitter_article_character_limit\":{\"value\":100},\"responsive_web_twitter_article_content_debounce_ms\":{\"value\":3000},\"responsive_web_twitter_article_cover_aspect_ratio_5_2\":{\"value\":true},\"responsive_web_twitter_article_data_v2_enabled\":{\"value\":false},\"responsive_web_twitter_article_geo_gated\":{\"value\":false},\"responsive_web_twitter_article_max_times_show_tweet_banner\":{\"value\":0},\"responsive_web_twitter_article_notes_tab_enabled\":{\"value\":false},\"responsive_web_twitter_article_seed_tweet_detail_enabled\":{\"value\":false},\"responsive_web_twitter_article_seed_tweet_enabled\":{\"value\":false},\"responsive_web_twitter_article_seed_tweet_summary_enabled\":{\"value\":false},\"responsive_web_twitter_article_title_limit\":{\"value\":200},\"responsive_web_twitter_article_tweet_consumption_enabled\":{\"value\":false},\"responsive_web_twitter_article_tweet_own_notes_enabled\":{\"value\":false},\"responsive_web_twitter_article_v2_apis_enabled\":{\"value\":false},\"responsive_web_twitter_article_view_enabled\":{\"value\":true},\"responsive_web_twitter_blue_subscriptions_disabled\":{\"value\":false},\"responsive_web_twitter_blue_upsell_right_column\":{\"value\":false},\"responsive_web_twitter_blue_verified_badge_ntab_empty_state_enabled\":{\"value\":true},\"responsive_web_use_app_button_variations\":{\"value\":\"control\"},\"responsive_web_use_app_prompt_copy_variant\":{\"value\":\"prompt_better\"},\"responsive_web_use_app_prompt_enabled\":{\"value\":false},\"responsive_web_use_badge_counts_for_ntab\":{\"value\":false},\"responsive_web_user_badge_education_get_verified_button_enabled\":{\"value\":true},\"responsive_web_verified_organizations_advertising_enabled\":{\"value\":false},\"responsive_web_verified_organizations_affiliate_fetch_limit\":{\"value\":3000},\"responsive_web_verified_organizations_free_to_invoice_enabled\":{\"value\":false},\"responsive_web_verified_organizations_invoice_enabled\":{\"value\":false},\"responsive_web_verified_organizations_invoice_update_enabled\":{\"value\":false},\"responsive_web_verified_organizations_paid_to_invoice_enabled\":{\"value\":false},\"responsive_web_video_pcomplete_enabled\":{\"value\":true},\"responsive_web_video_promoted_logging_enabled\":{\"value\":false},\"responsive_web_video_trimmer_enabled\":{\"value\":false},\"responsive_web_zipkin_api_requests_paths_allowlist\":{\"value\":[\"/2/timeline/home.json\"]},\"rito_safety_mode_blocked_profile_enabled\":{\"value\":true},\"rito_safety_mode_features_enabled\":{\"value\":false},\"rito_safety_mode_modal_prompt_enabled\":{\"value\":false},\"rito_safety_mode_settings_enabled\":{\"value\":false},\"rweb_2_column_htl_prototype_virtual_scroller_enabled\":{\"value\":false},\"rweb_client_transaction_id_enabled\":{\"value\":false},\"rweb_enable_logged_out_search_search_bar_enabled\":{\"value\":false},\"rweb_home_bookmark_in_action_bar_enabled\":{\"value\":true},\"rweb_home_compact_timeline_enabled\":{\"value\":false},\"rweb_home_mixer_enable_social_context_filter_social_contexts\":{\"value\":true},\"rweb_home_refetch_on_refocus_min_delay_seconds\":{\"value\":60},\"rweb_lists_discovery_list_mixer_enabled\":{\"value\":true},\"rweb_panning_nav_behavior\":{\"value\":true},\"rweb_quick_promote_boost_enabled\":{\"value\":false},\"rweb_recommendations_sidebar_graphql_enabled\":{\"value\":false},\"rweb_search_media_enabled\":{\"value\":true},\"rweb_sidebar_lower_whats_happening_enabled\":{\"value\":false},\"rweb_tweets_boosting_enabled\":{\"value\":false},\"rweb_tweets_reply_context_hidden\":{\"value\":true},\"rweb_tweets_tweet_detail_font_size\":{\"value\":\"headline2\"},\"rweb_update_fatigue_switch_to_app_day_timeout\":{\"value\":7},\"rweb_update_fatigue_switch_to_app_link\":{\"value\":\"BannerSwitchToApp\"},\"rweb_video_pip_enabled\":{\"value\":true},\"rweb_video_tagging_enabled\":{\"value\":false},\"sc_mock_data_enabled\":{\"value\":false},\"sc_r4_enabled\":{\"value\":false},\"scribe_api_error_sample_size\":{\"value\":0},\"scribe_api_sample_size\":{\"value\":100},\"scribe_cdn_host_list\":{\"value\":[\"si0.twimg.com\",\"si1.twimg.com\",\"si2.twimg.com\",\"si3.twimg.com\",\"a0.twimg.com\",\"a1.twimg.com\",\"a2.twimg.com\",\"a3.twimg.com\",\"abs.twimg.com\",\"amp.twimg.com\",\"o.twimg.com\",\"pbs.twimg.com\",\"pbs-eb.twimg.com\",\"pbs-ec.twimg.com\",\"pbs-v6.twimg.com\",\"pbs-h1.twimg.com\",\"pbs-h2.twimg.com\",\"video.twimg.com\",\"platform.twitter.com\",\"cdn.api.twitter.com\",\"ton.twimg.com\",\"v.cdn.vine.co\",\"mtc.cdn.vine.co\",\"edge.vncdn.co\",\"mid.vncdn.co\"]},\"scribe_cdn_sample_size\":{\"value\":50},\"scribe_web_nav_sample_size\":{\"value\":100},\"search_results_disable_latest_tab_when_logged_out\":{\"value\":false},\"search_timelines_graphql_enabled\":{\"value\":true},\"sensitive_media_settings_enabled\":{\"value\":false},\"sensitive_tweet_warnings_enabled\":{\"value\":true},\"settings_revamp_search_bar_enabled\":{\"value\":false},\"shortened_tracking_parameters_mapping\":{\"value\":[\"01:twcamp^share|twsrc^android|twgr^sms\",\"02:twcamp^share|twsrc^android|twgr^email\",\"03:twcamp^share|twsrc^android|twgr^gmail\",\"04:twcamp^share|twsrc^android|twgr^facebook\",\"05:twcamp^share|twsrc^android|twgr^wechat\",\"06:twcamp^share|twsrc^android|twgr^line\",\"07:twcamp^share|twsrc^android|twgr^fbmessenger\",\"08:twcamp^share|twsrc^android|twgr^whatsapp\",\"09:twcamp^share|twsrc^android|twgr^other\",\"10:twcamp^share|twsrc^ios|twgr^sms\",\"11:twcamp^share|twsrc^ios|twgr^email\",\"12:twcamp^share|twsrc^ios|twgr^other\",\"13:twcamp^share|twsrc^android|twgr^download\",\"14:twcamp^share|twsrc^ios|twgr^download\",\"15:twcamp^share|twsrc^android|twgr^hangouts\",\"16:twcamp^share|twsrc^android|twgr^twitterdm\",\"17:twcamp^share|twsrc^m5|twgr^email\",\"18:twcamp^share|twsrc^m5|twgr^download\",\"19:twcamp^share|twsrc^android|twgr^copy\",\"20:twcamp^share|twsrc^m5|twgr^copy\",\"21:twcamp^share|twsrc^ios|twgr^copy\",\"22:twcamp^share|twsrc^ios|twgr^snapchat\",\"23:twcamp^share|twsrc^android|twgr^snapchat\",\"24:twcamp^share|twsrc^ios|twgr^whatsapp\",\"25:twcamp^share|twsrc^ios|twgr^fbmessenger\",\"26:twcamp^share|twsrc^ios|twgr^facebook\",\"27:twcamp^share|twsrc^ios|twgr^gmail\",\"28:twcamp^share|twsrc^ios|twgr^telegram\",\"29:twcamp^share|twsrc^ios|twgr^line\",\"30:twcamp^share|twsrc^ios|twgr^viber\",\"31:twcamp^share|twsrc^android|twgr^slack\",\"32:twcamp^share|twsrc^android|twgr^kakao\",\"33:twcamp^share|twsrc^android|twgr^discord\",\"34:twcamp^share|twsrc^android|twgr^reddit\",\"35:twcamp^share|twsrc^android|twgr^telegram\",\"36:twcamp^share|twsrc^android|twgr^instagram\",\"37:twcamp^share|twsrc^android|twgr^daum\",\"38:twcamp^share|twsrc^ios|twgr^instagram\",\"39:twcamp^share|twsrc^ios|twgr^linkedin\",\"40:twcamp^share|twsrc^android|twgr^linkedin\",\"41:twcamp^share|twsrc^gryphon|twgr^copy\",\"42:twcamp^share|twsrc^iphone|twgr^sms\",\"43:twcamp^share|twsrc^iphone|twgr^email\",\"44:twcamp^share|twsrc^iphone|twgr^other\",\"45:twcamp^share|twsrc^iphone|twgr^download\",\"46:twcamp^share|twsrc^iphone|twgr^copy\",\"47:twcamp^share|twsrc^iphone|twgr^snapchat\",\"48:twcamp^share|twsrc^iphone|twgr^whatsapp\",\"49:twcamp^share|twsrc^iphone|twgr^fbmessenger\",\"50:twcamp^share|twsrc^iphone|twgr^facebook\",\"51:twcamp^share|twsrc^iphone|twgr^gmail\",\"52:twcamp^share|twsrc^iphone|twgr^telegram\",\"53:twcamp^share|twsrc^iphone|twgr^line\",\"54:twcamp^share|twsrc^iphone|twgr^viber\",\"55:twcamp^share|twsrc^iphone|twgr^instagram\",\"56:twcamp^share|twsrc^iphone|twgr^linkedin\",\"57:twcamp^share|twsrc^ipad|twgr^sms\",\"58:twcamp^share|twsrc^ipad|twgr^email\",\"59:twcamp^share|twsrc^ipad|twgr^other\",\"60:twcamp^share|twsrc^ipad|twgr^download\",\"61:twcamp^share|twsrc^ipad|twgr^copy\",\"62:twcamp^share|twsrc^ipad|twgr^snapchat\",\"63:twcamp^share|twsrc^ipad|twgr^whatsapp\",\"64:twcamp^share|twsrc^ipad|twgr^fbmessenger\",\"65:twcamp^share|twsrc^ipad|twgr^facebook\",\"66:twcamp^share|twsrc^ipad|twgr^gmail\",\"67:twcamp^share|twsrc^ipad|twgr^telegram\",\"68:twcamp^share|twsrc^ipad|twgr^line\",\"69:twcamp^share|twsrc^ipad|twgr^viber\",\"70:twcamp^share|twsrc^ipad|twgr^instagram\",\"71:twcamp^share|twsrc^ipad|twgr^linkedin\"]},\"smbo_legacy_pac_is_in_follow_position_test\":{\"value\":false},\"social_context_and_topic_context_refresh_alignment_enabled\":{\"value\":false},\"spaces_2022_h2_clipping\":{\"value\":true},\"spaces_2022_h2_clipping_consumption\":{\"value\":true},\"spaces_2022_h2_clipping_duration_seconds\":{\"value\":30},\"spaces_2022_h2_follow_host\":{\"value\":true},\"spaces_2022_h2_reactions_web_send\":{\"value\":true},\"spaces_2022_h2_spacebar_use_mock_data\":{\"value\":false},\"spaces_2022_h2_spacebar_web_sidebar\":{\"value\":true},\"spaces_2022_h2_spacebar_web_topnavbar\":{\"value\":\"purple\"},\"spaces_2022_h2_spaces_communities\":{\"value\":true},\"standardized_nudges_misinfo\":{\"value\":true},\"stateful_login_intent_enabled\":{\"value\":true},\"subscriptions_blue_premium_labeling_enabled\":{\"value\":true},\"subscriptions_blue_verified_edit_profile_error_message_enabled\":{\"value\":true},\"subscriptions_enabled\":{\"value\":true},\"subscriptions_feature_1002\":{\"value\":true},\"subscriptions_feature_1003\":{\"value\":true},\"subscriptions_feature_1005\":{\"value\":true},\"subscriptions_feature_1006\":{\"value\":false},\"subscriptions_feature_1007\":{\"value\":true},\"subscriptions_feature_1009\":{\"value\":true},\"subscriptions_feature_1011\":{\"value\":true},\"subscriptions_feature_1012\":{\"value\":true},\"subscriptions_feature_1013\":{\"value\":false},\"subscriptions_feature_1014\":{\"value\":true},\"subscriptions_feature_account_analytics\":{\"value\":true},\"subscriptions_feature_article_composer\":{\"value\":false},\"subscriptions_feature_can_hide_checkmark\":{\"value\":true},\"subscriptions_feature_extend_profile\":{\"value\":true},\"subscriptions_feature_hide_subscriptions\":{\"value\":true},\"subscriptions_feature_hide_your_likes\":{\"value\":true},\"subscriptions_feature_highlights\":{\"value\":true},\"subscriptions_feature_labs_1004\":{\"value\":true},\"subscriptions_long_video_rweb_new_copy_enabled\":{\"value\":true},\"subscriptions_long_video_upload\":{\"value\":true},\"subscriptions_marketing_page_include_tax_enabled\":{\"value\":false},\"subscriptions_premium_tiers_default_product\":{\"value\":\"BlueVerifiedPlus\"},\"subscriptions_premium_tiers_encrypted_dms_gating_update_enabled\":{\"value\":true},\"subscriptions_premium_tiers_marketing_page_enabled\":{\"value\":true},\"subscriptions_premium_tiers_switching_enabled\":{\"value\":false},\"subscriptions_sign_up_enabled\":{\"value\":false},\"subscriptions_stripe_testing\":{\"value\":false},\"subscriptions_verification_info_is_identity_verified_enabled\":{\"value\":true},\"subscriptions_verification_info_verified_since_enabled\":{\"value\":true},\"super_follow_android_web_subscription_enabled\":{\"value\":false},\"super_follow_exclusive_tweet_creation_api_enabled\":{\"value\":true},\"super_follow_onboarding_application_perks_enabled\":{\"value\":true},\"super_follow_onboarding_blue_verified_requirement_enabled\":{\"value\":true},\"super_follow_onboarding_granular_pricing_enabled\":{\"value\":true},\"super_follow_subscriptions_tax_calculation_enabled\":{\"value\":true},\"super_follow_tweet_label_redesign_enabled\":{\"value\":true},\"super_follow_web_application_enabled\":{\"value\":false},\"super_follow_web_deactivate_enabled\":{\"value\":true},\"super_follow_web_debug_enabled\":{\"value\":false},\"super_follow_web_edit_perks_enabled\":{\"value\":true},\"super_follow_web_onboarding_enabled\":{\"value\":true},\"targeted_project_friday_enabled\":{\"value\":false},\"topic_landing_page_clearer_controls_enabled\":{\"value\":true},\"topic_landing_page_cta_text\":{\"value\":\"control\"},\"topic_landing_page_share_enabled\":{\"value\":true},\"topics_context_controls_followed_variation\":{\"value\":\"see_more\"},\"topics_context_controls_implicit_context_x_enabled\":{\"value\":true},\"topics_context_controls_implicit_variation\":{\"value\":\"see_more\"},\"topics_context_controls_inline_prompt_enabled\":{\"value\":false},\"toxic_reply_filter_inline_callout_enabled\":{\"value\":false},\"toxic_reply_filter_settings_enabled\":{\"value\":false},\"traffic_rewrite_map\":{\"value\":[]},\"trusted_friends_audience_control_exp_variant\":{\"value\":\"control\"},\"trusted_friends_consumption_enabled\":{\"value\":true},\"trusted_friends_dash_discovery_enabled\":{\"value\":true},\"trusted_friends_tweet_creation_enabled\":{\"value\":true},\"tweet_awards_web_coin_purchase_enabled\":{\"value\":false},\"tweet_awards_web_coin_purchase_sandbox_enabled\":{\"value\":false},\"tweet_awards_web_non_focal_tweet_coins_enabled\":{\"value\":false},\"tweet_awards_web_tipping_enabled\":{\"value\":false},\"tweet_limited_actions_config_community_tweet_community_deleted\":{\"value\":[\"add_to_bookmarks\",\"add_to_moment\",\"embed\",\"follow\",\"hide_community_tweet\",\"like\",\"lists_add_remove\",\"mute_conversation\",\"pin_to_profile\",\"quote_tweet\",\"react\",\"remove_from_community\",\"reply\",\"retweet\",\"send_via_dm\",\"share_tweet_via\",\"view_hidden_replies\",\"view_tweet_activity\",\"vote_on_poll\",\"highlight\"]},\"tweet_limited_actions_config_community_tweet_community_not_found\":{\"value\":[\"add_to_bookmarks\",\"add_to_moment\",\"embed\",\"follow\",\"hide_community_tweet\",\"like\",\"lists_add_remove\",\"mute_conversation\",\"pin_to_profile\",\"quote_tweet\",\"react\",\"remove_from_community\",\"reply\",\"retweet\",\"send_via_dm\",\"share_tweet_via\",\"view_hidden_replies\",\"view_tweet_activity\",\"vote_on_poll\",\"highlight\"]},\"tweet_limited_actions_config_community_tweet_community_suspended\":{\"value\":[\"add_to_bookmarks\",\"add_to_moment\",\"embed\",\"follow\",\"hide_community_tweet\",\"like\",\"lists_add_remove\",\"mute_conversation\",\"pin_to_profile\",\"quote_tweet\",\"react\",\"remove_from_community\",\"reply\",\"retweet\",\"send_via_dm\",\"share_tweet_via\",\"view_hidden_replies\",\"view_tweet_activity\",\"vote_on_poll\",\"highlight\"]},\"tweet_limited_actions_config_community_tweet_hidden\":{\"value\":[\"add_to_bookmarks\",\"add_to_moment\",\"embed\",\"follow\",\"hide_community_tweet\",\"like\",\"lists_add_remove\",\"mute_conversation\",\"pin_to_profile\",\"quote_tweet\",\"react\",\"reply\",\"retweet\",\"send_via_dm\",\"share_tweet_via\",\"view_hidden_replies\",\"view_tweet_activity\",\"vote_on_poll\",\"highlight\"]},\"tweet_limited_actions_config_community_tweet_member\":{\"value\":[\"embed\",\"pin_to_profile\",\"retweet\",\"highlight\"]},\"tweet_limited_actions_config_community_tweet_member_removed\":{\"value\":[\"add_to_bookmarks\",\"add_to_moment\",\"embed\",\"follow\",\"hide_community_tweet\",\"like\",\"lists_add_remove\",\"mute_conversation\",\"pin_to_profile\",\"quote_tweet\",\"react\",\"remove_from_community\",\"reply\",\"retweet\",\"send_via_dm\",\"share_tweet_via\",\"view_hidden_replies\",\"view_tweet_activity\",\"vote_on_poll\",\"highlight\"]},\"tweet_limited_actions_config_community_tweet_non_member\":{\"value\":[\"embed\",\"like\",\"pin_to_profile\",\"react\",\"reply\",\"reply_down_vote\",\"retweet\",\"share_tweet_via\",\"vote_on_poll\",\"highlight\"]},\"tweet_limited_actions_config_disable_state_media_autoplay\":{\"value\":[\"autoplay\"]},\"tweet_limited_actions_config_dpa_enabled\":{\"value\":true},\"tweet_limited_actions_config_dynamic_product_ad\":{\"value\":[\"reply\",\"retweet\",\"quote_tweet\",\"share_tweet_via\",\"send_via_dm\",\"copy_link\",\"add_to_bookmarks\",\"like\"]},\"tweet_limited_actions_config_enabled\":{\"value\":true},\"tweet_limited_actions_config_freedom_of_speech_not_reach\":{\"value\":[\"reply\",\"retweet\",\"quote_tweet\",\"share_tweet_via\",\"add_to_bookmarks\",\"pin_to_profile\",\"copy_link\",\"send_via_dm\",\"like\",\"embed\",\"highlight\",\"edit_tweet\"]},\"tweet_limited_actions_config_limit_trusted_friends_tweet\":{\"value\":[\"retweet\",\"quote_tweet\",\"share_tweet_via\",\"send_via_dm\",\"copy_link\",\"view_tweet_activity\",\"embed\",\"add_to_moment\"]},\"tweet_limited_actions_config_non_compliant\":{\"value\":[\"reply\",\"retweet\",\"like\",\"react\",\"send_via_dm\",\"add_to_bookmarks\",\"add_to_moment\",\"pin_to_profile\",\"view_tweet_activity\",\"share_tweet_via\",\"copy_link\",\"highlight\"]},\"tweet_limited_actions_config_skip_tweet_detail\":{\"value\":[\"reply\"]},\"tweet_limited_actions_config_skip_tweet_detail_enabled\":{\"value\":true},\"tweet_limited_actions_config_soft_nudge_with_quote_tweet\":{\"value\":[\"show_retweet_action_menu\"]},\"tweet_with_visibility_results_all_gql_limited_actions_enabled\":{\"value\":false},\"tweet_with_visibility_results_partial_gql_limited_actions_enabled\":{\"value\":true},\"tweet_with_visibility_results_prefer_gql_limited_actions_policy_enabled\":{\"value\":true},\"tweetypie_unmention_optimization_enabled\":{\"value\":true},\"twitter_chat_communities_chat_enabled\":{\"value\":false},\"twitter_delegate_enabled\":{\"value\":false},\"twitter_delegate_normal_limit\":{\"value\":5},\"twitter_delegate_subscriber_limit\":{\"value\":25},\"ucpd_enabled\":{\"value\":true},\"unified_cards_collection_ads_convert_to_image_website_card\":{\"value\":false},\"unified_cards_dpa_cta_button_enabled\":{\"value\":true},\"unified_cards_dpa_metadata_enabled\":{\"value\":true},\"unified_cards_dpa_placeholder_media_key\":{\"value\":[\"3_1485707239990054912\"]},\"user_display_name_max_limit\":{\"value\":50},\"verified_phone_label_enabled\":{\"value\":false},\"view_counts_everywhere_api_enabled\":{\"value\":true},\"view_counts_public_visibility_enabled\":{\"value\":true},\"vod_attribution_tweet_detail_pivot_enabled\":{\"value\":true},\"voice_consumption_enabled\":{\"value\":true},\"voice_rooms_card_version\":{\"value\":2},\"voice_rooms_cohosts_enabled\":{\"value\":true},\"voice_rooms_discovery_page_enabled\":{\"value\":false},\"voice_rooms_end_screen_participants\":{\"value\":true},\"voice_rooms_expanded_dock\":{\"value\":true},\"voice_rooms_expanded_dock_reactions\":{\"value\":true},\"voice_rooms_host_analytics_enabled\":{\"value\":true},\"voice_rooms_recent_search_audiospace_ring_enabled\":{\"value\":true},\"voice_rooms_replay_consumption\":{\"value\":true},\"voice_rooms_search_results_page_audiospace_ring_enabled\":{\"value\":false},\"voice_rooms_sharing_listening_data_with_followers_setting_enabled\":{\"value\":true},\"voice_rooms_speaking_enabled\":{\"value\":true},\"voice_rooms_typeahead_audiospace_ring_enabled\":{\"value\":true},\"web_image_large_webp_variants\":{\"value\":false},\"web_video_bitrate_persistence_enabled\":{\"value\":false},\"web_video_caption_repositioning_enabled\":{\"value\":true},\"web_video_hls_android_mse_enabled\":{\"value\":true},\"web_video_hls_mp4_threshold_sec\":{\"value\":0},\"web_video_hls_variant_version\":{\"value\":\"1\"},\"web_video_hlsjs_version\":{\"value\":\"\"},\"web_video_playback_rate_enabled\":{\"value\":true},\"web_video_player_size_cap_disabled\":{\"value\":false},\"web_video_prefetch_playlist_autoplay_disabled\":{\"value\":false},\"web_video_safari_hlsjs_enabled\":{\"value\":true},\"web_video_transcribed_captions_enabled\":{\"value\":false},\"xprofile_consumption_enabled\":{\"value\":false},\"xprofile_editing_enabled\":{\"value\":false},\"xprofile_emojis_enabled\":{\"value\":false}},\"user\":{\"config\":{\"2fa_temporary_password_enabled\":{\"value\":false},\"account_country_setting_countries_whitelist\":{\"value\":[\"ad\",\"ae\",\"af\",\"ag\",\"ai\",\"al\",\"am\",\"ao\",\"ar\",\"as\",\"at\",\"au\",\"aw\",\"ax\",\"az\",\"ba\",\"bb\",\"bd\",\"be\",\"bf\",\"bg\",\"bh\",\"bi\",\"bj\",\"bl\",\"bm\",\"bn\",\"bo\",\"bq\",\"br\",\"bs\",\"bt\",\"bv\",\"bw\",\"by\",\"bz\",\"ca\",\"cc\",\"cd\",\"cf\",\"cg\",\"ch\",\"ci\",\"ck\",\"cl\",\"cm\",\"co\",\"cr\",\"cu\",\"cv\",\"cw\",\"cx\",\"cy\",\"cz\",\"de\",\"dj\",\"dk\",\"dm\",\"do\",\"dz\",\"ec\",\"ee\",\"eg\",\"er\",\"es\",\"et\",\"fi\",\"fj\",\"fk\",\"fm\",\"fo\",\"fr\",\"ga\",\"gb\",\"gd\",\"ge\",\"gf\",\"gg\",\"gh\",\"gi\",\"gl\",\"gm\",\"gn\",\"gp\",\"gq\",\"gr\",\"gs\",\"gt\",\"gu\",\"gw\",\"gy\",\"hk\",\"hn\",\"hr\",\"ht\",\"hu\",\"id\",\"ie\",\"il\",\"im\",\"in\",\"io\",\"iq\",\"ir\",\"is\",\"it\",\"je\",\"jm\",\"jo\",\"jp\",\"ke\",\"kg\",\"kh\",\"ki\",\"km\",\"kn\",\"kr\",\"kw\",\"ky\",\"kz\",\"la\",\"lb\",\"lc\",\"li\",\"lk\",\"lr\",\"ls\",\"lt\",\"lu\",\"lv\",\"ly\",\"ma\",\"mc\",\"md\",\"me\",\"mf\",\"mg\",\"mh\",\"mk\",\"ml\",\"mn\",\"mo\",\"mp\",\"mq\",\"mr\",\"ms\",\"mt\",\"mu\",\"mv\",\"mw\",\"mx\",\"my\",\"mz\",\"na\",\"nc\",\"ne\",\"nf\",\"ng\",\"ni\",\"nl\",\"no\",\"np\",\"nr\",\"nu\",\"nz\",\"om\",\"pa\",\"pe\",\"pf\",\"pg\",\"ph\",\"pk\",\"pl\",\"pm\",\"pn\",\"pr\",\"ps\",\"pt\",\"pw\",\"py\",\"qa\",\"re\",\"ro\",\"rs\",\"ru\",\"rw\",\"sa\",\"sb\",\"sc\",\"se\",\"sg\",\"sh\",\"si\",\"sk\",\"sl\",\"sm\",\"sn\",\"so\",\"sr\",\"st\",\"sv\",\"sx\",\"sz\",\"tc\",\"td\",\"tf\",\"tg\",\"th\",\"tj\",\"tk\",\"tl\",\"tm\",\"tn\",\"to\",\"tr\",\"tt\",\"tv\",\"tw\",\"tz\",\"ua\",\"ug\",\"us\",\"uy\",\"uz\",\"va\",\"vc\",\"ve\",\"vi\",\"vn\",\"vu\",\"wf\",\"ws\",\"xk\",\"ye\",\"yt\",\"za\",\"zm\",\"zw\"]},\"ads_spacing_client_fallback_minimum_spacing\":{\"value\":3},\"ads_spacing_client_fallback_minimum_spacing_verified_blue\":{\"value\":3},\"arkose_challenge_lo_web_notification_dev\":{\"value\":\"BF5FA6C8-9668-4AF9-AFA2-E362F56E5B71\"},\"arkose_challenge_lo_web_notification_mobile_prod\":{\"value\":\"6A2FD110-7C1A-47CD-82EE-D01FFB4810D7\"},\"arkose_challenge_lo_web_notification_prod\":{\"value\":\"50706BFE-942C-4EEC-B9AD-03F7CD268FB1\"},\"arkose_challenge_login_web_devel\":{\"value\":\"DF58DD3B-DFCC-4502-91FA-EDC0DC385CFF\"},\"arkose_challenge_login_web_prod\":{\"value\":\"2F4F0B28-BC94-4271-8AD7-A51662E3C91C\"},\"arkose_challenge_open_app_dev\":{\"value\":\"560C66A3-C8EB-4D11-BE53-A8232734AA62\"},\"arkose_challenge_open_app_prod\":{\"value\":\"6E8D3D6E-30D4-45F1-9838-BA3D9651AAA1\"},\"arkose_challenge_signup_mobile_dev\":{\"value\":\"006B5E87-7497-403E-9E0C-8FFBAAC6FA67\"},\"arkose_challenge_signup_mobile_prod\":{\"value\":\"867D55F2-24FD-4C56-AB6D-589EDAF5E7C5\"},\"arkose_challenge_signup_web_dev\":{\"value\":\"DF58DD3B-DFCC-4502-91FA-EDC0DC385CFF\"},\"arkose_challenge_signup_web_prod\":{\"value\":\"2CB16598-CB82-4CF7-B332-5990DB66F3AB\"},\"arkose_challenge_transparent_signup_dev\":{\"value\":\"6627C16B-DA60-47A5-85F7-CFF23BD2BE69\"},\"arkose_challenge_transparent_signup_prod\":{\"value\":\"4CB8C8B0-40FF-439C-9D0D-9A389ADA18CB\"},\"Arkose_rweb_hosted_page\":{\"value\":true},\"Arkose_use_invisible_challenge_key\":{\"value\":false},\"blue_business_affiliates_list_order_setting_enabled\":{\"value\":false},\"blue_business_direct_invites_enabled\":{\"value\":true},\"blue_business_multi_affiliates_ui_enabled\":{\"value\":false},\"blue_business_username_change_prompt_enabled\":{\"value\":true},\"blue_business_verified_admin_cancellation_flow_enabled\":{\"value\":true},\"blue_business_verified_admin_enabled\":{\"value\":true},\"blue_business_vo_free_affiliate_limit\":{\"value\":5},\"blue_business_vo_nav_for_legacy_verified\":{\"value\":true},\"blue_longer_video_enabled\":{\"value\":false},\"branded_like_preview_enabled\":{\"value\":false},\"c9s_auto_collapse_community_detail_header_enabled\":{\"value\":true},\"c9s_community_answer_box_enabled\":{\"value\":true},\"c9s_community_answer_box_join_page_enabled\":{\"value\":true},\"c9s_community_composer_hashtag_suggestions_enabled\":{\"value\":false},\"c9s_community_hashtags_carousel_enabled\":{\"value\":false},\"c9s_community_question_box_enabled\":{\"value\":true},\"c9s_community_tweet_search_enabled\":{\"value\":true},\"c9s_enabled\":{\"value\":true},\"c9s_list_members_action_api_enabled\":{\"value\":false},\"c9s_logged_out_access_enabled\":{\"value\":true},\"c9s_max_community_answer_length\":{\"value\":280},\"c9s_max_community_description_length\":{\"value\":160},\"c9s_max_community_name_length\":{\"value\":30},\"c9s_max_community_question_length\":{\"value\":160},\"c9s_max_rule_count\":{\"value\":10},\"c9s_max_rule_description_length\":{\"value\":160},\"c9s_max_rule_name_length\":{\"value\":60},\"c9s_nav_list_activity_details_enabled\":{\"value\":false},\"c9s_question_editing_box_enabled\":{\"value\":true},\"c9s_ssr_enabled\":{\"value\":false},\"c9s_tab_visibility\":{\"value\":\"always\"},\"c9s_timelines_default_selection\":{\"value\":\"latest\"},\"c9s_timelines_top_latest_stickiness_enabled\":{\"value\":false},\"c9s_tweet_anatomy_moderator_badge_enabled\":{\"value\":true},\"card_detail_compact_enabled\":{\"value\":true},\"conversation_controls_limited_replies_consumption_configuration\":{\"value\":\"no_reply\"},\"conversation_controls_my_subscribers_enabled\":{\"value\":true},\"conversation_controls_verified_only_enabled\":{\"value\":true},\"conversational_safety_heads_up_treatment_A_enabled\":{\"value\":\"\"},\"creator_monetization_profile_subscription_tweets_tab_enabled\":{\"value\":true},\"creator_monetization_web_tips_dashboard_enabled\":{\"value\":false},\"creator_monetization_web_tips_onboarding_enabled\":{\"value\":false},\"creator_subscriptions_connect_tab_enabled\":{\"value\":true},\"creator_subscriptions_email_share_enabled\":{\"value\":true},\"creator_subscriptions_subscribe_action_tweet_menu_enabled\":{\"value\":true},\"creator_subscriptions_subscribe_button_tweet_detail_enabled\":{\"value\":true},\"creator_subscriptions_subscriber_count_enabled\":{\"value\":false},\"creator_subscriptions_subscriber_count_min_displayed\":{\"value\":1},\"creator_subscriptions_subscription_count_enabled\":{\"value\":true},\"creator_subscriptions_tweet_preview_api_enabled\":{\"value\":true},\"dash_region_specific_de_and_tr_media_transparency_items_enabled\":{\"value\":false},\"dash_region_specific_de_media_transparency_items_enabled\":{\"value\":false},\"dm_conversation_labels_max_pinned_count\":{\"value\":6},\"dm_conversation_labels_pinned_education_enabled\":{\"value\":true},\"dm_conversations_nsfw_media_filter_enabled\":{\"value\":false},\"dm_education_flags_prompt\":{\"value\":false},\"dm_encrypted_franking_sending_enabled\":{\"value\":false},\"dm_encrypted_franking_verification_enabled\":{\"value\":false},\"dm_inbox_search_groups_bucket_size\":{\"value\":5},\"dm_inbox_search_max_recent_searches_stored\":{\"value\":5},\"dm_inbox_search_messages_bucket_size\":{\"value\":5},\"dm_inbox_search_people_bucket_size\":{\"value\":5},\"dm_secret_conversations_enabled\":{\"value\":false},\"dm_secret_conversations_for_blue_verified_enabled\":{\"value\":true},\"dm_secret_conversations_for_graduated_access_enabled\":{\"value\":false},\"dm_settings_info_page_allow_subscriber_messages_setting_enabled\":{\"value\":true},\"dm_settings_info_page_device_list_enabled\":{\"value\":false},\"dm_share_sheet_send_individually_max_count\":{\"value\":20},\"dm_voice_rendering_enabled\":{\"value\":true},\"dont_mention_me_enabled\":{\"value\":true},\"dont_mention_me_mentions_tab_education_enabled\":{\"value\":true},\"dont_mention_me_view_api_enabled\":{\"value\":true},\"dsa_encrypted_dms_report_flow_enabled\":{\"value\":false},\"dsa_profile_report_flow_enabled\":{\"value\":false},\"dsa_report_flow_enabled\":{\"value\":false},\"dsa_report_illegal_content_url\":{\"value\":\"\"},\"ecd_dispute_form_link_enabled\":{\"value\":true},\"enable_label_appealing_misinfo_enabled\":{\"value\":false},\"enable_label_appealing_sensitive_content_enabled\":{\"value\":false},\"explore_relaunch_enable_auto_play\":{\"value\":false},\"explore_relaunch_enable_immersive_web\":{\"value\":true},\"explore_relaunch_enable_immersive_web_navigation_button\":{\"value\":false},\"explore_relaunch_max_video_loop_count\":{\"value\":2},\"explore_relaunch_max_video_loop_threshold_sec\":{\"value\":6},\"explore_relaunch_web_playback_bug_fix\":{\"value\":true},\"focused_timeline_actions_onboarding_likes\":{\"value\":3},\"follow_nudge_conversation_enabled\":{\"value\":false},\"freedom_of_speech_not_reach_author_label_enabled\":{\"value\":true},\"freedom_of_speech_not_reach_fetch_enabled\":{\"value\":true},\"freedom_of_speech_not_reach_pivot_enabled\":{\"value\":true},\"global_mention_settings_enabled\":{\"value\":false},\"graduated_access_botmaker_decider_enabled\":{\"value\":true},\"graduated_access_invisible_treatment_enabled\":{\"value\":true},\"graduated_access_user_prompt_enabled\":{\"value\":true},\"graphql_is_translatable_rweb_tweet_is_translatable_enabled\":{\"value\":true},\"graphql_mutation_retweet_mode\":{\"value\":\"rest_only\"},\"graphql_mutation_update_mode\":{\"value\":\"graphql_only\"},\"graphql_timeline_v2_bookmark_timeline\":{\"value\":true},\"graphql_timeline_v2_query_threaded_conversation_with_injections\":{\"value\":true},\"graphql_timeline_v2_user_favorites_by_time_timeline\":{\"value\":true},\"graphql_timeline_v2_user_media_timeline\":{\"value\":true},\"graphql_timeline_v2_user_profile_timeline\":{\"value\":true},\"graphql_timeline_v2_user_profile_with_replies_timeline\":{\"value\":true},\"gryphon_accountsync_polling_interval_ms\":{\"value\":300000},\"gryphon_blue_only_enabled\":{\"value\":true},\"gryphon_faster_cell_entrance\":{\"value\":true},\"gryphon_fps_tracking_enabled\":{\"value\":true},\"gryphon_hide_quick_promote\":{\"value\":false},\"gryphon_motion\":{\"value\":false},\"gryphon_redux_perf_optimization_enabled\":{\"value\":true},\"gryphon_redux_perf_optimization_v2_enabled\":{\"value\":true},\"gryphon_search_based_deck_enabled\":{\"value\":false},\"gryphon_sharing_column_permission\":{\"value\":\"follow\"},\"gryphon_sharing_deck_permission\":{\"value\":\"\"},\"gryphon_survey_enabled\":{\"value\":false},\"gryphon_survey_url\":{\"value\":\"\"},\"gryphon_timeline_polling_latest_interval_ms\":{\"value\":30000},\"gryphon_timeline_polling_overrides\":{\"value\":\"explore,,60000\"},\"gryphon_timeline_polling_top_interval_ms\":{\"value\":120000},\"gryphon_underground_enabled\":{\"value\":false},\"gryphon_video_docking_enabled\":{\"value\":true},\"hashfetti_all_hashflags\":{\"value\":false},\"hashfetti_duration_ms\":{\"value\":4000},\"hashfetti_enabled\":{\"value\":true},\"hashfetti_particle_count\":{\"value\":30},\"hidden_profile_likes_enabled\":{\"value\":true},\"hidden_profile_subscriptions_enabled\":{\"value\":true},\"highlights_tweets_action_enabled\":{\"value\":true},\"highlights_tweets_action_menu_upsell_enabled\":{\"value\":true},\"highlights_tweets_tab_ui_enabled\":{\"value\":true},\"highlights_tweets_tab_upsell_enabled\":{\"value\":true},\"highlights_tweets_upsell_on_pin_action_enabled\":{\"value\":true},\"home_timeline_compact_app_bar\":{\"value\":true},\"home_timeline_like_reactivity_enabled\":{\"value\":true},\"home_timeline_like_reactivity_fatigue\":{\"value\":10},\"home_timeline_spheres_detail_page_muting_enabled\":{\"value\":true},\"home_timeline_spheres_max_user_owned_or_subscribed_lists_count\":{\"value\":10},\"home_timeline_spheres_ranking_mode_control_enabled\":{\"value\":false},\"identity_verification_consent_opt_in_by_default_enabled\":{\"value\":true},\"identity_verification_debadging_notification_enabled\":{\"value\":true},\"identity_verification_hide_verified_label_settings_enabled\":{\"value\":true},\"identity_verification_intake_enabled\":{\"value\":false},\"identity_verification_intake_for_blue_subscribers_enabled\":{\"value\":true},\"identity_verification_notable_demo_survey\":{\"value\":false},\"identity_verification_settings_enabled\":{\"value\":true},\"immersive_viewer_enable_profile_viewer\":{\"value\":false},\"krs_registration_enabled\":{\"value\":false},\"live_event_docking_enabled\":{\"value\":true},\"live_event_interstitial_seen_cache_enabled\":{\"value\":true},\"live_event_multi_video_auto_advance_dock_enabled\":{\"value\":true},\"live_event_multi_video_auto_advance_enabled\":{\"value\":true},\"live_event_multi_video_auto_advance_fullscreen_enabled\":{\"value\":false},\"live_event_multi_video_enabled\":{\"value\":true},\"live_event_timeline_default_refresh_rate_interval_seconds\":{\"value\":30},\"live_event_timeline_minimum_refresh_rate_interval_seconds\":{\"value\":10},\"live_event_timeline_server_controlled_refresh_rate_enabled\":{\"value\":true},\"livepipeline_client_enabled\":{\"value\":true},\"livepipeline_tweetengagement_enabled\":{\"value\":true},\"longform_ad_free_articles_badging_enabled\":{\"value\":true},\"longform_notetweets_composition_without_claims_enabled\":{\"value\":false},\"longform_notetweets_consumption_enabled\":{\"value\":true},\"longform_notetweets_drafts_enabled\":{\"value\":true},\"longform_notetweets_inline_media_enabled\":{\"value\":true},\"longform_notetweets_max_tweet_per_thread\":{\"value\":25},\"longform_notetweets_max_weighted_character_length\":{\"value\":25000},\"longform_notetweets_mobile_richtextinput\":{\"value\":false},\"longform_notetweets_rich_composition_enabled\":{\"value\":1},\"longform_notetweets_rich_text_read_enabled\":{\"value\":true},\"longform_notetweets_tweet_storm_enabled\":{\"value\":false},\"longform_reader_mode_view_in_reader_mode_entry_button_enabled\":{\"value\":false},\"longform_top_articles_friends_of_friends_enabled\":{\"value\":true},\"longform_top_articles_time_window_enabled\":{\"value\":true},\"machine_translation_holdback_logged_in\":{\"value\":false},\"machine_translation_holdback_logged_out\":{\"value\":false},\"media_async_upload_amplify_duration_threshold\":{\"value\":600},\"media_async_upload_longer_video_max_video_duration\":{\"value\":10860},\"media_async_upload_longer_video_max_video_size\":{\"value\":8388608},\"media_async_upload_longer_video_resolution_selector\":{\"value\":true},\"media_async_upload_max_avatar_gif_size\":{\"value\":5},\"media_async_upload_max_gif_size\":{\"value\":15},\"media_async_upload_max_image_size\":{\"value\":5},\"media_async_upload_max_video_duration\":{\"value\":140},\"media_async_upload_max_video_size\":{\"value\":512},\"media_edge_to_edge_content_enabled\":{\"value\":false},\"network_layer_503_backoff_mode\":{\"value\":\"host\"},\"netzdg_in_loggedout_posts_enabled\":{\"value\":false},\"netzdg_in_spaces_enabled\":{\"value\":false},\"ocf_2fa_enrollment_bouncer_enabled\":{\"value\":true},\"ocf_2fa_enrollment_enabled\":{\"value\":true},\"ocf_2fa_unenrollment_enabled\":{\"value\":true},\"onboarding_project_uls_enabled\":{\"value\":false},\"papago_tweet_translation_from_korean_entity_protected\":{\"value\":false},\"papago_tweet_translation_from_korean_entity_protected_destinations\":{\"value\":[\"en\",\"ja\",\"zh\",\"zh-cn\",\"zh-Hans\",\"zh-tw\",\"zh-Hant\"]},\"papago_tweet_translation_from_korean_entity_unprotected\":{\"value\":false},\"papago_tweet_translation_from_korean_entity_unprotected_destinations\":{\"value\":[\"id\",\"es\",\"th\"]},\"papago_tweet_translation_to_korean\":{\"value\":false},\"papago_tweet_translation_to_korean_sources\":{\"value\":[\"en\",\"ja\"]},\"professional_launchpad_m1_enabled\":{\"value\":true},\"professional_launchpad_mobile_promotable_timeline\":{\"value\":false},\"professional_launchpad_upload_address_book\":{\"value\":true},\"profile_foundations_about_tab_enabled\":{\"value\":false},\"profile_foundations_about_tab_tooltip_enabled\":{\"value\":false},\"profile_foundations_header_fields_hidden\":{\"value\":false},\"profile_foundations_tweet_stats_enabled\":{\"value\":false},\"profile_foundations_tweet_stats_tweet_frequency\":{\"value\":false},\"promoted_badge_placement_position\":{\"value\":\"right_tweet_header_ad_label\"},\"recruiting_global_jobs_search_enabled\":{\"value\":false},\"recruiting_job_page_consumption_enabled\":{\"value\":true},\"recruiting_jobs_list_consumption_enabled\":{\"value\":true},\"recruiting_jobs_list_search_enabled\":{\"value\":true},\"recruiting_jobs_list_share_enabled\":{\"value\":true},\"recruiting_verified_orgs_admin_enabled\":{\"value\":true},\"recruiting_verified_orgs_ats_integration_enabled\":{\"value\":true},\"recruiting_verified_orgs_enroll_allowed\":{\"value\":true},\"report_center_mvp_r1_enabled\":{\"value\":true},\"report_center_mvp_r2_enabled\":{\"value\":false},\"responsive_web_3rd_party_category_branch\":{\"value\":3},\"responsive_web_3rd_party_category_double_click\":{\"value\":3},\"responsive_web_3rd_party_category_external_referer\":{\"value\":3},\"responsive_web_3rd_party_category_ga\":{\"value\":3},\"responsive_web_3rd_party_category_google_platform\":{\"value\":2},\"responsive_web_3rd_party_category_google_recaptcha\":{\"value\":2},\"responsive_web_3rd_party_category_player_card\":{\"value\":3},\"responsive_web_3rd_party_category_sentry\":{\"value\":2},\"responsive_web_3rd_party_category_sign_in_with_apple\":{\"value\":2},\"responsive_web_account_access_language_lo_banners\":{\"value\":\"control\"},\"responsive_web_account_access_language_lo_splash_sidebar\":{\"value\":\"control\"},\"responsive_web_ad_revenue_sharing_enabled\":{\"value\":true},\"responsive_web_ad_revenue_sharing_number_of_impressions\":{\"value\":5},\"responsive_web_ad_revenue_sharing_payout_account_notice_enabled\":{\"value\":false},\"responsive_web_ad_revenue_sharing_setup_enabled\":{\"value\":true},\"responsive_web_ad_revenue_sharing_total_earnings_enabled\":{\"value\":false},\"responsive_web_alt_text_nudges_enabled\":{\"value\":true},\"responsive_web_alt_text_nudges_settings_enabled\":{\"value\":true},\"responsive_web_alt_text_translations_enabled\":{\"value\":true},\"responsive_web_api_transition_enabled\":{\"value\":true},\"responsive_web_article_nudge_enabled\":{\"value\":true},\"responsive_web_audio_space_ring_home_timeline\":{\"value\":false},\"responsive_web_author_labels_avatar_label_enabled\":{\"value\":false},\"responsive_web_author_labels_focal_label_enabled\":{\"value\":false},\"responsive_web_author_labels_handle_label_enabled\":{\"value\":false},\"responsive_web_auto_logout_multiaccount_enabled\":{\"value\":true},\"responsive_web_auto_logout_restrictedauthtoken_enabled\":{\"value\":true},\"responsive_web_auto_logout_twid_enabled\":{\"value\":true},\"responsive_web_birdwatch_consumption_enabled\":{\"value\":true},\"responsive_web_birdwatch_contribution_enabled\":{\"value\":false},\"responsive_web_birdwatch_country_allowed\":{\"value\":true},\"responsive_web_birdwatch_media_notes_enabled\":{\"value\":true},\"responsive_web_birdwatch_netzdg_enabled\":{\"value\":false},\"responsive_web_birdwatch_note_limit_enabled\":{\"value\":true},\"responsive_web_birdwatch_note_writing_enabled\":{\"value\":false},\"responsive_web_birdwatch_pivots_enabled\":{\"value\":true},\"responsive_web_birdwatch_rating_crowd_enabled\":{\"value\":true},\"responsive_web_birdwatch_rating_participant_enabled\":{\"value\":false},\"responsive_web_birdwatch_read_sources_nudge\":{\"value\":\"control\"},\"responsive_web_birdwatch_require_rating_before_writing_enabled\":{\"value\":true},\"responsive_web_birdwatch_signup_prompt_enabled\":{\"value\":true},\"responsive_web_birdwatch_site_enabled\":{\"value\":true},\"responsive_web_birdwatch_top_contributor_enabled\":{\"value\":true},\"responsive_web_birdwatch_top_contributor_ratio_cutoff\":{\"value\":4},\"responsive_web_birdwatch_top_contributor_score_cutoff\":{\"value\":10},\"responsive_web_card_conversion_hoisted\":{\"value\":\"off\"},\"responsive_web_card_preconnect_enabled\":{\"value\":false},\"responsive_web_carousel_v2_cards_non_safari_enabled\":{\"value\":false},\"responsive_web_carousel_v2_cards_safari_variant\":{\"value\":\"control\"},\"responsive_web_carousel_v2_media_detail_enabled\":{\"value\":false},\"responsive_web_collection_ads_enabled\":{\"value\":true},\"responsive_web_commerce_shop_spotlight_enabled\":{\"value\":true},\"responsive_web_communities_slices_enabled\":{\"value\":true},\"responsive_web_composer_autosave_debounce_ms\":{\"value\":2000},\"responsive_web_composer_autosave_enabled\":{\"value\":false},\"responsive_web_composer_autosave_initial_ms\":{\"value\":20000},\"responsive_web_composer_configurable_video_player_enabled\":{\"value\":false},\"responsive_web_continue_as_always_enabled\":{\"value\":false},\"responsive_web_continue_as_param_enabled\":{\"value\":true},\"responsive_web_convert_card_video_to_gif_enabled\":{\"value\":false},\"responsive_web_cookie_compliance_1st_party_killswitch_list\":{\"value\":[]},\"responsive_web_cookie_compliance_banner_enabled\":{\"value\":false},\"responsive_web_cookie_compliance_gingersnap_enabled\":{\"value\":false},\"responsive_web_cookie_consent_signal_enabled\":{\"value\":false},\"responsive_web_creator_preferences_previews_enabled_setting\":{\"value\":true},\"responsive_web_dcm_2_enabled\":{\"value\":true},\"responsive_web_deamplification_replies_dropdown_selector_enabled\":{\"value\":false},\"responsive_web_delete_tweet_stats_enabled\":{\"value\":false},\"responsive_web_device_follow_without_user_follow_enabled\":{\"value\":false},\"responsive_web_disconnect_third_party_sso_enabled\":{\"value\":true},\"responsive_web_dockable_autoplay_policy_enabled\":{\"value\":true},\"responsive_web_edit_tweet_api_enabled\":{\"value\":true},\"responsive_web_edit_tweet_composition_enabled\":{\"value\":true},\"responsive_web_edit_tweet_enabled\":{\"value\":false},\"responsive_web_edit_tweet_perspective_enabled\":{\"value\":false},\"responsive_web_edit_tweet_upsell_enabled\":{\"value\":true},\"responsive_web_element_size_impression_scribe_enabled\":{\"value\":true},\"responsive_web_enhance_cards_enabled\":{\"value\":false},\"responsive_web_eu_countries\":{\"value\":[\"at\",\"be\",\"bg\",\"ch\",\"cy\",\"cz\",\"de\",\"dk\",\"ee\",\"es\",\"fi\",\"fr\",\"gb\",\"gr\",\"hr\",\"hu\",\"ie\",\"is\",\"it\",\"li\",\"lt\",\"lu\",\"lv\",\"mt\",\"nl\",\"no\",\"pl\",\"pt\",\"ro\",\"se\",\"si\",\"sk\"]},\"responsive_web_explorer_ads_enabled\":{\"value\":true},\"responsive_web_extension_compatibility_hide\":{\"value\":false},\"responsive_web_extension_compatibility_impression_guard\":{\"value\":true},\"responsive_web_extension_compatibility_override_param\":{\"value\":false},\"responsive_web_extension_compatibility_scribe\":{\"value\":true},\"responsive_web_extension_compatibility_size_threshold\":{\"value\":50},\"responsive_web_fetch_hashflags_on_boot\":{\"value\":true},\"responsive_web_follower_count_reduction_copy_enabled\":{\"value\":true},\"responsive_web_footer_categorized_variant_enabled\":{\"value\":false},\"responsive_web_framerate_tracking_home_enabled\":{\"value\":false},\"responsive_web_gaggle_site_enabled\":{\"value\":false},\"responsive_web_graphql_exclude_directive_enabled\":{\"value\":true},\"responsive_web_graphql_feedback\":{\"value\":true},\"responsive_web_graphql_skip_user_profile_image_extensions_enabled\":{\"value\":false},\"responsive_web_graphql_timeline_navigation_enabled\":{\"value\":true},\"responsive_web_hashtag_highlight_is_enabled\":{\"value\":false},\"responsive_web_hashtag_highlight_show_avatar\":{\"value\":false},\"responsive_web_hashtag_highlight_use_small_font\":{\"value\":false},\"responsive_web_hevc_upload_preview_enabled\":{\"value\":false},\"responsive_web_home_pinned_timelines_enabled\":{\"value\":true},\"responsive_web_home_pinned_timelines_prefetch_enabled\":{\"value\":false},\"responsive_web_home_pinned_timelines_settings_enabled\":{\"value\":true},\"responsive_web_impression_tracker_refactor_enabled\":{\"value\":true},\"responsive_web_install_banner_show_immediate\":{\"value\":false},\"responsive_web_instream_video_redesign_enabled\":{\"value\":true},\"responsive_web_lbm_v2_home_enabled\":{\"value\":false},\"responsive_web_lbm_v2_replies_enabled\":{\"value\":false},\"responsive_web_left_nav_refresh_connect_enabled\":{\"value\":false},\"responsive_web_left_nav_refresh_topics_enabled\":{\"value\":false},\"responsive_web_list_tweet_integration_enabled\":{\"value\":false},\"responsive_web_live_commerce_enabled\":{\"value\":true},\"responsive_web_locale_context_direction_enabled\":{\"value\":true},\"responsive_web_location_spotlight_display_map\":{\"value\":true},\"responsive_web_location_spotlight_v1_config\":{\"value\":true},\"responsive_web_location_spotlight_v1_display\":{\"value\":true},\"responsive_web_logged_out_explore_enabled\":{\"value\":false},\"responsive_web_logged_out_explore_home_path_enabled\":{\"value\":false},\"responsive_web_logged_out_gating_13622_ddg\":{\"value\":\"\"},\"responsive_web_logged_out_gating_14788_ddg\":{\"value\":\"\"},\"responsive_web_logged_out_gating_14992_ddg\":{\"value\":\"\"},\"responsive_web_logged_out_gating_15377_ddg\":{\"value\":\"\"},\"responsive_web_logged_out_notifications_enabled\":{\"value\":true},\"responsive_web_logged_out_notifications_fatigue_days_count\":{\"value\":7},\"responsive_web_logged_out_notifications_including_home\":{\"value\":false},\"responsive_web_login_input_type_email_enabled\":{\"value\":false},\"responsive_web_login_signup_sheet_app_install_cta_enabled\":{\"value\":true},\"responsive_web_media_download_video_enabled\":{\"value\":false},\"responsive_web_media_sensitive_allow_download_video\":{\"value\":false},\"responsive_web_media_upload_limit_2g\":{\"value\":250},\"responsive_web_media_upload_limit_3g\":{\"value\":1500},\"responsive_web_media_upload_limit_slow_2g\":{\"value\":150},\"responsive_web_media_upload_md5_hashing_enabled\":{\"value\":true},\"responsive_web_media_upload_metrics_enabled\":{\"value\":true},\"responsive_web_media_upload_target_jpg_pixels_per_byte\":{\"value\":6},\"responsive_web_menu_section_divider_enabled\":{\"value\":false},\"responsive_web_mobile_app_spotlight_v1_config\":{\"value\":false},\"responsive_web_mobile_app_spotlight_v1_display\":{\"value\":false},\"responsive_web_multiple_account_limit\":{\"value\":5},\"responsive_web_new_copy_security_key_2fa_enabled\":{\"value\":true},\"responsive_web_new_user_badge_color_enabled\":{\"value\":true},\"responsive_web_nft_avatar\":{\"value\":true},\"responsive_web_not_a_bot_signups_enabled\":{\"value\":false},\"responsive_web_oauth2_consent_flow_enabled\":{\"value\":true},\"responsive_web_ocf_reportflow_appeals_enabled\":{\"value\":false},\"responsive_web_ocf_reportflow_dms_enabled\":{\"value\":false},\"responsive_web_ocf_reportflow_lists_enabled\":{\"value\":true},\"responsive_web_ocf_reportflow_profiles_enabled\":{\"value\":true},\"responsive_web_ocf_reportflow_promoted_enabled\":{\"value\":false},\"responsive_web_ocf_reportflow_spaces_enabled\":{\"value\":false},\"responsive_web_ocf_reportflow_suspension_appeals_enabled\":{\"value\":false},\"responsive_web_ocf_reportflow_testers\":{\"value\":false},\"responsive_web_ocf_reportflow_tweets_enabled\":{\"value\":true},\"responsive_web_ocf_sms_autoverify_darkwrite\":{\"value\":false},\"responsive_web_ocf_sms_autoverify_enabled\":{\"value\":false},\"responsive_web_offscreen_video_scroller_removal_enabled\":{\"value\":false},\"responsive_web_one_hour_edit_window_enabled\":{\"value\":true},\"responsive_web_open_app_appbar_button_enabled\":{\"value\":false},\"responsive_web_open_in_app_prompt_enabled\":{\"value\":false},\"responsive_web_passwordless_sso_enabled\":{\"value\":false},\"responsive_web_pinned_replies_enabled\":{\"value\":false},\"responsive_web_placeholder_siwg_button_enabled\":{\"value\":false},\"responsive_web_prerolls_fullscreen_disabled_on_ios\":{\"value\":false},\"responsive_web_professional_journeys_holdback_enabled\":{\"value\":false},\"responsive_web_profile_spotlight_v0_config\":{\"value\":true},\"responsive_web_profile_spotlight_v0_display\":{\"value\":true},\"responsive_web_qp_keyword_targeting_enabled\":{\"value\":false},\"responsive_web_reader_extended_menu\":{\"value\":true},\"responsive_web_redux_use_fragment_enabled\":{\"value\":false},\"responsive_web_repeat_profile_visits_notifications_device_follow_only_version_enabled\":{\"value\":false},\"responsive_web_repeat_profile_visits_notifications_enabled\":{\"value\":false},\"responsive_web_reply_storm_enabled\":{\"value\":false},\"responsive_web_report_page_not_found\":{\"value\":false},\"responsive_web_restrict_max_timeline_tweet_height\":{\"value\":true},\"responsive_web_scroller_top_positioning_enabled\":{\"value\":false},\"responsive_web_search_home_page_design_variation\":{\"value\":\"\"},\"responsive_web_send_cookies_metadata_enabled\":{\"value\":true},\"responsive_web_share_only_tweet_url_omit_title_and_text\":{\"value\":true},\"responsive_web_show_similar_posts_pivots_enabled\":{\"value\":true},\"responsive_web_sidebar_ttf_enabled\":{\"value\":false},\"responsive_web_spud_enabled\":{\"value\":true},\"responsive_web_sso_redirect_enabled\":{\"value\":true},\"responsive_web_stripe_account_creation_enabled\":{\"value\":true},\"responsive_web_subscribers_ntab_for_creators_enabled\":{\"value\":true},\"responsive_web_subscriptions_setting_enabled\":{\"value\":true},\"responsive_web_suppress_app_button_banner_suppressed\":{\"value\":false},\"responsive_web_third_party_sso_buttons_enabled\":{\"value\":true},\"responsive_web_timeline_cover_killswitch_enabled\":{\"value\":false},\"responsive_web_timeline_relay_lists_management_enabled\":{\"value\":false},\"responsive_web_timeline_relay_user_lists_enabled\":{\"value\":false},\"responsive_web_tracer_global_trace_sample_rate\":{\"value\":1},\"responsive_web_trends_setting_new_endpoints\":{\"value\":true},\"responsive_web_tweet_analytics_m2_enabled\":{\"value\":false},\"responsive_web_tweet_analytics_m3_enabled\":{\"value\":false},\"responsive_web_tweet_analytics_promoted_audience_demographics_enabled\":{\"value\":false},\"responsive_web_tweet_analytics_video_metrics_v2_enabled\":{\"value\":true},\"responsive_web_tweetdeck_menu_item_enabled\":{\"value\":true},\"responsive_web_twitter_article_block_limit\":{\"value\":10000},\"responsive_web_twitter_article_character_limit\":{\"value\":100},\"responsive_web_twitter_article_content_debounce_ms\":{\"value\":3000},\"responsive_web_twitter_article_cover_aspect_ratio_5_2\":{\"value\":true},\"responsive_web_twitter_article_data_v2_enabled\":{\"value\":false},\"responsive_web_twitter_article_geo_gated\":{\"value\":false},\"responsive_web_twitter_article_max_times_show_tweet_banner\":{\"value\":0},\"responsive_web_twitter_article_notes_tab_enabled\":{\"value\":false},\"responsive_web_twitter_article_seed_tweet_detail_enabled\":{\"value\":false},\"responsive_web_twitter_article_seed_tweet_enabled\":{\"value\":false},\"responsive_web_twitter_article_seed_tweet_summary_enabled\":{\"value\":false},\"responsive_web_twitter_article_title_limit\":{\"value\":200},\"responsive_web_twitter_article_tweet_consumption_enabled\":{\"value\":false},\"responsive_web_twitter_article_tweet_own_notes_enabled\":{\"value\":false},\"responsive_web_twitter_article_v2_apis_enabled\":{\"value\":false},\"responsive_web_twitter_article_view_enabled\":{\"value\":true},\"responsive_web_twitter_blue_subscriptions_disabled\":{\"value\":false},\"responsive_web_twitter_blue_upsell_right_column\":{\"value\":false},\"responsive_web_twitter_blue_verified_badge_ntab_empty_state_enabled\":{\"value\":true},\"responsive_web_use_app_button_variations\":{\"value\":\"control\"},\"responsive_web_use_app_prompt_copy_variant\":{\"value\":\"prompt_better\"},\"responsive_web_use_app_prompt_enabled\":{\"value\":false},\"responsive_web_use_badge_counts_for_ntab\":{\"value\":false},\"responsive_web_user_badge_education_get_verified_button_enabled\":{\"value\":true},\"responsive_web_verified_organizations_advertising_enabled\":{\"value\":false},\"responsive_web_verified_organizations_affiliate_fetch_limit\":{\"value\":3000},\"responsive_web_verified_organizations_free_to_invoice_enabled\":{\"value\":false},\"responsive_web_verified_organizations_invoice_enabled\":{\"value\":false},\"responsive_web_verified_organizations_invoice_update_enabled\":{\"value\":true},\"responsive_web_verified_organizations_paid_to_invoice_enabled\":{\"value\":false},\"responsive_web_video_pcomplete_enabled\":{\"value\":true},\"responsive_web_video_promoted_logging_enabled\":{\"value\":true},\"responsive_web_video_trimmer_enabled\":{\"value\":false},\"responsive_web_zipkin_api_requests_paths_allowlist\":{\"value\":[\"/2/timeline/home.json\"]},\"rito_safety_mode_blocked_profile_enabled\":{\"value\":true},\"rito_safety_mode_features_enabled\":{\"value\":false},\"rito_safety_mode_modal_prompt_enabled\":{\"value\":false},\"rito_safety_mode_settings_enabled\":{\"value\":false},\"rweb_2_column_htl_prototype_virtual_scroller_enabled\":{\"value\":false},\"rweb_client_transaction_id_enabled\":{\"value\":true},\"rweb_enable_logged_out_search_search_bar_enabled\":{\"value\":false},\"rweb_home_bookmark_in_action_bar_enabled\":{\"value\":true},\"rweb_home_compact_timeline_enabled\":{\"value\":false},\"rweb_home_mixer_enable_social_context_filter_social_contexts\":{\"value\":true},\"rweb_home_refetch_on_refocus_min_delay_seconds\":{\"value\":60},\"rweb_lists_discovery_list_mixer_enabled\":{\"value\":true},\"rweb_panning_nav_behavior\":{\"value\":true},\"rweb_quick_promote_boost_enabled\":{\"value\":false},\"rweb_recommendations_sidebar_graphql_enabled\":{\"value\":false},\"rweb_search_media_enabled\":{\"value\":true},\"rweb_sidebar_lower_whats_happening_enabled\":{\"value\":false},\"rweb_tweets_boosting_enabled\":{\"value\":true},\"rweb_tweets_reply_context_hidden\":{\"value\":true},\"rweb_tweets_tweet_detail_font_size\":{\"value\":\"headline2\"},\"rweb_update_fatigue_switch_to_app_day_timeout\":{\"value\":7},\"rweb_update_fatigue_switch_to_app_link\":{\"value\":\"BannerSwitchToApp\"},\"rweb_video_pip_enabled\":{\"value\":true},\"rweb_video_tagging_enabled\":{\"value\":false},\"sc_mock_data_enabled\":{\"value\":false},\"sc_r4_enabled\":{\"value\":false},\"scribe_api_error_sample_size\":{\"value\":0},\"scribe_api_sample_size\":{\"value\":100},\"scribe_cdn_host_list\":{\"value\":[\"si0.twimg.com\",\"si1.twimg.com\",\"si2.twimg.com\",\"si3.twimg.com\",\"a0.twimg.com\",\"a1.twimg.com\",\"a2.twimg.com\",\"a3.twimg.com\",\"abs.twimg.com\",\"amp.twimg.com\",\"o.twimg.com\",\"pbs.twimg.com\",\"pbs-eb.twimg.com\",\"pbs-ec.twimg.com\",\"pbs-v6.twimg.com\",\"pbs-h1.twimg.com\",\"pbs-h2.twimg.com\",\"video.twimg.com\",\"platform.twitter.com\",\"cdn.api.twitter.com\",\"ton.twimg.com\",\"v.cdn.vine.co\",\"mtc.cdn.vine.co\",\"edge.vncdn.co\",\"mid.vncdn.co\"]},\"scribe_cdn_sample_size\":{\"value\":50},\"scribe_web_nav_sample_size\":{\"value\":100},\"search_results_disable_latest_tab_when_logged_out\":{\"value\":false},\"search_timelines_graphql_enabled\":{\"value\":true},\"sensitive_media_settings_enabled\":{\"value\":false},\"sensitive_tweet_warnings_enabled\":{\"value\":true},\"settings_revamp_search_bar_enabled\":{\"value\":false},\"shortened_tracking_parameters_mapping\":{\"value\":[\"01:twcamp^share|twsrc^android|twgr^sms\",\"02:twcamp^share|twsrc^android|twgr^email\",\"03:twcamp^share|twsrc^android|twgr^gmail\",\"04:twcamp^share|twsrc^android|twgr^facebook\",\"05:twcamp^share|twsrc^android|twgr^wechat\",\"06:twcamp^share|twsrc^android|twgr^line\",\"07:twcamp^share|twsrc^android|twgr^fbmessenger\",\"08:twcamp^share|twsrc^android|twgr^whatsapp\",\"09:twcamp^share|twsrc^android|twgr^other\",\"10:twcamp^share|twsrc^ios|twgr^sms\",\"11:twcamp^share|twsrc^ios|twgr^email\",\"12:twcamp^share|twsrc^ios|twgr^other\",\"13:twcamp^share|twsrc^android|twgr^download\",\"14:twcamp^share|twsrc^ios|twgr^download\",\"15:twcamp^share|twsrc^android|twgr^hangouts\",\"16:twcamp^share|twsrc^android|twgr^twitterdm\",\"17:twcamp^share|twsrc^m5|twgr^email\",\"18:twcamp^share|twsrc^m5|twgr^download\",\"19:twcamp^share|twsrc^android|twgr^copy\",\"20:twcamp^share|twsrc^m5|twgr^copy\",\"21:twcamp^share|twsrc^ios|twgr^copy\",\"22:twcamp^share|twsrc^ios|twgr^snapchat\",\"23:twcamp^share|twsrc^android|twgr^snapchat\",\"24:twcamp^share|twsrc^ios|twgr^whatsapp\",\"25:twcamp^share|twsrc^ios|twgr^fbmessenger\",\"26:twcamp^share|twsrc^ios|twgr^facebook\",\"27:twcamp^share|twsrc^ios|twgr^gmail\",\"28:twcamp^share|twsrc^ios|twgr^telegram\",\"29:twcamp^share|twsrc^ios|twgr^line\",\"30:twcamp^share|twsrc^ios|twgr^viber\",\"31:twcamp^share|twsrc^android|twgr^slack\",\"32:twcamp^share|twsrc^android|twgr^kakao\",\"33:twcamp^share|twsrc^android|twgr^discord\",\"34:twcamp^share|twsrc^android|twgr^reddit\",\"35:twcamp^share|twsrc^android|twgr^telegram\",\"36:twcamp^share|twsrc^android|twgr^instagram\",\"37:twcamp^share|twsrc^android|twgr^daum\",\"38:twcamp^share|twsrc^ios|twgr^instagram\",\"39:twcamp^share|twsrc^ios|twgr^linkedin\",\"40:twcamp^share|twsrc^android|twgr^linkedin\",\"41:twcamp^share|twsrc^gryphon|twgr^copy\",\"42:twcamp^share|twsrc^iphone|twgr^sms\",\"43:twcamp^share|twsrc^iphone|twgr^email\",\"44:twcamp^share|twsrc^iphone|twgr^other\",\"45:twcamp^share|twsrc^iphone|twgr^download\",\"46:twcamp^share|twsrc^iphone|twgr^copy\",\"47:twcamp^share|twsrc^iphone|twgr^snapchat\",\"48:twcamp^share|twsrc^iphone|twgr^whatsapp\",\"49:twcamp^share|twsrc^iphone|twgr^fbmessenger\",\"50:twcamp^share|twsrc^iphone|twgr^facebook\",\"51:twcamp^share|twsrc^iphone|twgr^gmail\",\"52:twcamp^share|twsrc^iphone|twgr^telegram\",\"53:twcamp^share|twsrc^iphone|twgr^line\",\"54:twcamp^share|twsrc^iphone|twgr^viber\",\"55:twcamp^share|twsrc^iphone|twgr^instagram\",\"56:twcamp^share|twsrc^iphone|twgr^linkedin\",\"57:twcamp^share|twsrc^ipad|twgr^sms\",\"58:twcamp^share|twsrc^ipad|twgr^email\",\"59:twcamp^share|twsrc^ipad|twgr^other\",\"60:twcamp^share|twsrc^ipad|twgr^download\",\"61:twcamp^share|twsrc^ipad|twgr^copy\",\"62:twcamp^share|twsrc^ipad|twgr^snapchat\",\"63:twcamp^share|twsrc^ipad|twgr^whatsapp\",\"64:twcamp^share|twsrc^ipad|twgr^fbmessenger\",\"65:twcamp^share|twsrc^ipad|twgr^facebook\",\"66:twcamp^share|twsrc^ipad|twgr^gmail\",\"67:twcamp^share|twsrc^ipad|twgr^telegram\",\"68:twcamp^share|twsrc^ipad|twgr^line\",\"69:twcamp^share|twsrc^ipad|twgr^viber\",\"70:twcamp^share|twsrc^ipad|twgr^instagram\",\"71:twcamp^share|twsrc^ipad|twgr^linkedin\"]},\"smbo_legacy_pac_is_in_follow_position_test\":{\"value\":false},\"social_context_and_topic_context_refresh_alignment_enabled\":{\"value\":false},\"spaces_2022_h2_clipping\":{\"value\":true},\"spaces_2022_h2_clipping_consumption\":{\"value\":true},\"spaces_2022_h2_clipping_duration_seconds\":{\"value\":30},\"spaces_2022_h2_follow_host\":{\"value\":true},\"spaces_2022_h2_reactions_web_send\":{\"value\":true},\"spaces_2022_h2_spacebar_use_mock_data\":{\"value\":false},\"spaces_2022_h2_spacebar_web_sidebar\":{\"value\":true},\"spaces_2022_h2_spacebar_web_topnavbar\":{\"value\":\"purple\"},\"spaces_2022_h2_spaces_communities\":{\"value\":true},\"standardized_nudges_misinfo\":{\"value\":true},\"stateful_login_intent_enabled\":{\"value\":true},\"subscriptions_blue_premium_labeling_enabled\":{\"value\":true},\"subscriptions_blue_verified_edit_profile_error_message_enabled\":{\"value\":true},\"subscriptions_enabled\":{\"value\":true},\"subscriptions_feature_1002\":{\"value\":true},\"subscriptions_feature_1003\":{\"value\":true},\"subscriptions_feature_1005\":{\"value\":true},\"subscriptions_feature_1006\":{\"value\":false},\"subscriptions_feature_1007\":{\"value\":true},\"subscriptions_feature_1009\":{\"value\":true},\"subscriptions_feature_1011\":{\"value\":true},\"subscriptions_feature_1012\":{\"value\":true},\"subscriptions_feature_1013\":{\"value\":false},\"subscriptions_feature_1014\":{\"value\":true},\"subscriptions_feature_account_analytics\":{\"value\":true},\"subscriptions_feature_article_composer\":{\"value\":false},\"subscriptions_feature_can_hide_checkmark\":{\"value\":true},\"subscriptions_feature_extend_profile\":{\"value\":true},\"subscriptions_feature_hide_subscriptions\":{\"value\":true},\"subscriptions_feature_hide_your_likes\":{\"value\":true},\"subscriptions_feature_highlights\":{\"value\":true},\"subscriptions_feature_labs_1004\":{\"value\":true},\"subscriptions_long_video_rweb_new_copy_enabled\":{\"value\":true},\"subscriptions_long_video_upload\":{\"value\":true},\"subscriptions_marketing_page_include_tax_enabled\":{\"value\":false},\"subscriptions_premium_tiers_default_product\":{\"value\":\"BlueVerifiedPlus\"},\"subscriptions_premium_tiers_encrypted_dms_gating_update_enabled\":{\"value\":true},\"subscriptions_premium_tiers_marketing_page_enabled\":{\"value\":true},\"subscriptions_premium_tiers_switching_enabled\":{\"value\":false},\"subscriptions_sign_up_enabled\":{\"value\":true},\"subscriptions_stripe_testing\":{\"value\":false},\"subscriptions_verification_info_is_identity_verified_enabled\":{\"value\":true},\"subscriptions_verification_info_verified_since_enabled\":{\"value\":true},\"super_follow_android_web_subscription_enabled\":{\"value\":true},\"super_follow_exclusive_tweet_creation_api_enabled\":{\"value\":true},\"super_follow_onboarding_application_perks_enabled\":{\"value\":true},\"super_follow_onboarding_blue_verified_requirement_enabled\":{\"value\":true},\"super_follow_onboarding_granular_pricing_enabled\":{\"value\":true},\"super_follow_subscriptions_tax_calculation_enabled\":{\"value\":true},\"super_follow_tweet_label_redesign_enabled\":{\"value\":true},\"super_follow_web_application_enabled\":{\"value\":true},\"super_follow_web_deactivate_enabled\":{\"value\":true},\"super_follow_web_debug_enabled\":{\"value\":false},\"super_follow_web_edit_perks_enabled\":{\"value\":true},\"super_follow_web_onboarding_enabled\":{\"value\":true},\"targeted_project_friday_enabled\":{\"value\":false},\"topic_landing_page_clearer_controls_enabled\":{\"value\":true},\"topic_landing_page_cta_text\":{\"value\":\"control\"},\"topic_landing_page_share_enabled\":{\"value\":true},\"topics_context_controls_followed_variation\":{\"value\":\"see_more\"},\"topics_context_controls_implicit_context_x_enabled\":{\"value\":true},\"topics_context_controls_implicit_variation\":{\"value\":\"see_more\"},\"topics_context_controls_inline_prompt_enabled\":{\"value\":false},\"toxic_reply_filter_inline_callout_enabled\":{\"value\":false},\"toxic_reply_filter_settings_enabled\":{\"value\":false},\"traffic_rewrite_map\":{\"value\":[]},\"trusted_friends_audience_control_exp_variant\":{\"value\":\"control\"},\"trusted_friends_consumption_enabled\":{\"value\":true},\"trusted_friends_dash_discovery_enabled\":{\"value\":true},\"trusted_friends_tweet_creation_enabled\":{\"value\":true},\"tweet_awards_web_coin_purchase_enabled\":{\"value\":false},\"tweet_awards_web_coin_purchase_sandbox_enabled\":{\"value\":false},\"tweet_awards_web_non_focal_tweet_coins_enabled\":{\"value\":false},\"tweet_awards_web_tipping_enabled\":{\"value\":false},\"tweet_limited_actions_config_community_tweet_community_deleted\":{\"value\":[\"add_to_bookmarks\",\"add_to_moment\",\"embed\",\"follow\",\"hide_community_tweet\",\"like\",\"lists_add_remove\",\"mute_conversation\",\"pin_to_profile\",\"quote_tweet\",\"react\",\"remove_from_community\",\"reply\",\"retweet\",\"send_via_dm\",\"share_tweet_via\",\"view_hidden_replies\",\"view_tweet_activity\",\"vote_on_poll\",\"highlight\"]},\"tweet_limited_actions_config_community_tweet_community_not_found\":{\"value\":[\"add_to_bookmarks\",\"add_to_moment\",\"embed\",\"follow\",\"hide_community_tweet\",\"like\",\"lists_add_remove\",\"mute_conversation\",\"pin_to_profile\",\"quote_tweet\",\"react\",\"remove_from_community\",\"reply\",\"retweet\",\"send_via_dm\",\"share_tweet_via\",\"view_hidden_replies\",\"view_tweet_activity\",\"vote_on_poll\",\"highlight\"]},\"tweet_limited_actions_config_community_tweet_community_suspended\":{\"value\":[\"add_to_bookmarks\",\"add_to_moment\",\"embed\",\"follow\",\"hide_community_tweet\",\"like\",\"lists_add_remove\",\"mute_conversation\",\"pin_to_profile\",\"quote_tweet\",\"react\",\"remove_from_community\",\"reply\",\"retweet\",\"send_via_dm\",\"share_tweet_via\",\"view_hidden_replies\",\"view_tweet_activity\",\"vote_on_poll\",\"highlight\"]},\"tweet_limited_actions_config_community_tweet_hidden\":{\"value\":[\"add_to_bookmarks\",\"add_to_moment\",\"embed\",\"follow\",\"hide_community_tweet\",\"like\",\"lists_add_remove\",\"mute_conversation\",\"pin_to_profile\",\"quote_tweet\",\"react\",\"reply\",\"retweet\",\"send_via_dm\",\"share_tweet_via\",\"view_hidden_replies\",\"view_tweet_activity\",\"vote_on_poll\",\"highlight\"]},\"tweet_limited_actions_config_community_tweet_member\":{\"value\":[\"embed\",\"pin_to_profile\",\"retweet\",\"highlight\"]},\"tweet_limited_actions_config_community_tweet_member_removed\":{\"value\":[\"add_to_bookmarks\",\"add_to_moment\",\"embed\",\"follow\",\"hide_community_tweet\",\"like\",\"lists_add_remove\",\"mute_conversation\",\"pin_to_profile\",\"quote_tweet\",\"react\",\"remove_from_community\",\"reply\",\"retweet\",\"send_via_dm\",\"share_tweet_via\",\"view_hidden_replies\",\"view_tweet_activity\",\"vote_on_poll\",\"highlight\"]},\"tweet_limited_actions_config_community_tweet_non_member\":{\"value\":[\"embed\",\"like\",\"pin_to_profile\",\"react\",\"reply\",\"reply_down_vote\",\"retweet\",\"share_tweet_via\",\"vote_on_poll\",\"highlight\"]},\"tweet_limited_actions_config_disable_state_media_autoplay\":{\"value\":[\"autoplay\"]},\"tweet_limited_actions_config_dpa_enabled\":{\"value\":true},\"tweet_limited_actions_config_dynamic_product_ad\":{\"value\":[\"reply\",\"retweet\",\"quote_tweet\",\"share_tweet_via\",\"send_via_dm\",\"copy_link\",\"add_to_bookmarks\",\"like\"]},\"tweet_limited_actions_config_enabled\":{\"value\":true},\"tweet_limited_actions_config_freedom_of_speech_not_reach\":{\"value\":[\"reply\",\"retweet\",\"quote_tweet\",\"share_tweet_via\",\"add_to_bookmarks\",\"pin_to_profile\",\"copy_link\",\"send_via_dm\",\"like\",\"embed\",\"highlight\",\"edit_tweet\"]},\"tweet_limited_actions_config_limit_trusted_friends_tweet\":{\"value\":[\"retweet\",\"quote_tweet\",\"share_tweet_via\",\"send_via_dm\",\"copy_link\",\"view_tweet_activity\",\"embed\",\"add_to_moment\"]},\"tweet_limited_actions_config_non_compliant\":{\"value\":[\"reply\",\"retweet\",\"like\",\"react\",\"send_via_dm\",\"add_to_bookmarks\",\"add_to_moment\",\"pin_to_profile\",\"view_tweet_activity\",\"share_tweet_via\",\"copy_link\",\"highlight\"]},\"tweet_limited_actions_config_skip_tweet_detail\":{\"value\":[\"reply\"]},\"tweet_limited_actions_config_skip_tweet_detail_enabled\":{\"value\":true},\"tweet_limited_actions_config_soft_nudge_with_quote_tweet\":{\"value\":[\"show_retweet_action_menu\"]},\"tweet_with_visibility_results_all_gql_limited_actions_enabled\":{\"value\":false},\"tweet_with_visibility_results_partial_gql_limited_actions_enabled\":{\"value\":true},\"tweet_with_visibility_results_prefer_gql_limited_actions_policy_enabled\":{\"value\":true},\"tweetypie_unmention_optimization_enabled\":{\"value\":true},\"twitter_chat_communities_chat_enabled\":{\"value\":false},\"twitter_delegate_enabled\":{\"value\":false},\"twitter_delegate_normal_limit\":{\"value\":5},\"twitter_delegate_subscriber_limit\":{\"value\":25},\"ucpd_enabled\":{\"value\":true},\"unified_cards_collection_ads_convert_to_image_website_card\":{\"value\":false},\"unified_cards_dpa_cta_button_enabled\":{\"value\":true},\"unified_cards_dpa_metadata_enabled\":{\"value\":true},\"unified_cards_dpa_placeholder_media_key\":{\"value\":[\"3_1485707239990054912\"]},\"user_display_name_max_limit\":{\"value\":50},\"verified_phone_label_enabled\":{\"value\":false},\"view_counts_everywhere_api_enabled\":{\"value\":true},\"view_counts_public_visibility_enabled\":{\"value\":true},\"vod_attribution_tweet_detail_pivot_enabled\":{\"value\":true},\"voice_consumption_enabled\":{\"value\":true},\"voice_rooms_card_version\":{\"value\":2},\"voice_rooms_cohosts_enabled\":{\"value\":true},\"voice_rooms_discovery_page_enabled\":{\"value\":false},\"voice_rooms_end_screen_participants\":{\"value\":true},\"voice_rooms_expanded_dock\":{\"value\":true},\"voice_rooms_expanded_dock_reactions\":{\"value\":true},\"voice_rooms_host_analytics_enabled\":{\"value\":true},\"voice_rooms_recent_search_audiospace_ring_enabled\":{\"value\":true},\"voice_rooms_replay_consumption\":{\"value\":true},\"voice_rooms_search_results_page_audiospace_ring_enabled\":{\"value\":false},\"voice_rooms_sharing_listening_data_with_followers_setting_enabled\":{\"value\":true},\"voice_rooms_speaking_enabled\":{\"value\":true},\"voice_rooms_typeahead_audiospace_ring_enabled\":{\"value\":true},\"web_image_large_webp_variants\":{\"value\":false},\"web_video_bitrate_persistence_enabled\":{\"value\":false},\"web_video_caption_repositioning_enabled\":{\"value\":true},\"web_video_hls_android_mse_enabled\":{\"value\":true},\"web_video_hls_mp4_threshold_sec\":{\"value\":0},\"web_video_hls_variant_version\":{\"value\":\"1\"},\"web_video_hlsjs_version\":{\"value\":\"\"},\"web_video_playback_rate_enabled\":{\"value\":true},\"web_video_player_size_cap_disabled\":{\"value\":false},\"web_video_prefetch_playlist_autoplay_disabled\":{\"value\":false},\"web_video_safari_hlsjs_enabled\":{\"value\":true},\"web_video_transcribed_captions_enabled\":{\"value\":false},\"xprofile_consumption_enabled\":{\"value\":false},\"xprofile_editing_enabled\":{\"value\":false},\"xprofile_emojis_enabled\":{\"value\":false}},\"impression_pointers\":{},\"impressions\":{},\"keysRead\":{},\"settingsVersion\":\"52c4c85c3892294a0086cfc05550eb86\"},\"debug\":{},\"featureSetToken\":\"5724e05a34a3d05a84ada0c21e418c017df061ec\",\"isLoaded\":true,\"isLoading\":false,\"customOverrides\":{}},\"settings\":{\"local\":{\"nextPushCheckin\":0,\"shouldAutoPlayGif\":false,\"scale\":\"normal\",\"themeColor\":\"blue500\",\"highContrastEnabled\":false,\"loginPromptLastShown\":0,\"reducedMotionEnabled\":false,\"showTweetMediaDetailDrawer\":true,\"autoPollNewTweets\":false,\"shouldAutoTagLocation\":false,\"undoPreview\":{},\"replyVotingSurveyClicked\":0,\"pushNotificationsPermission\":null},\"remote\":{\"settings\":{\"display_sensitive_media\":false},\"fetchStatus\":\"none\"},\"dataSaver\":{\"dataSaverMode\":false},\"transient\":{\"loginPromptShown\":false,\"lastViewedDmInboxPath\":\"/messages\",\"themeFocus\":\"\"}},\"devices\":{\"browserPush\":{\"fetchStatus\":\"none\",\"pushNotificationsPrompt\":{\"dismissed\":false,\"fetchStatus\":\"none\"},\"subscribed\":false,\"supported\":null},\"devices\":{\"data\":{\"emails\":[],\"phone_numbers\":[]},\"fetchStatus\":\"none\"},\"notificationSettings\":{\"push_settings\":{\"error\":null,\"fetchStatus\":\"none\"},\"push_settings_template\":{\"template\":{\"settings\":[]}},\"checkin_time\":null}},\"session\":{\"country\":\"ES\",\"isActiveCreator\":false,\"isRestrictedSession\":false,\"guestId\":\"169876428665687112\",\"hasCommunityMemberships\":false,\"language\":\"en\",\"oneFactorLoginEligibility\":{\"fetchStatus\":\"none\"},\"ssoInitTokens\":{}},\"developer\":{\"dtabBarInfo\":{\"hide\":false}},\"ads\":{\"typeahead\":{\"targetingLocation\":{},\"forecastAudience\":{}}}};window.__META_DATA__={\"env\":\"prod\",\"isCanary\":false,\"sha\":\"7aac690f44781204067cadce6126c8d5d4a3fead\",\"isLoggedIn\":false,\"hasMultiAccountCookie\":false,\"uaParserTags\":[\"m2\",\"rweb_unsupported\",\"msw\"],\"serverDate\":1698764286725,\"cookies\":{\"version\":\"1661819456366\",\"fetchedTime\":1661971138705,\"categories\":{\"2\":[\"Authorization\",\"DECLINED_DATE\",\"LAST_INVITATION_VIEW\",\"NEW_SUBSCRIPTION_ACCOUNT\",\"SUBMITTED_DATE\",\"_ep_sess\",\"_mb_tk\",\"_sl\",\"_support_session\",\"_ttc_session\",\"_twitter_sess\",\"aa_u\",\"ab_decider\",\"ads_prefs\",\"aem-lang-preference\",\"app_shell_visited\",\"att\",\"auth_multi\",\"auth_token\",\"backendDataInSessionFlag\",\"bouncer_reset_cookie\",\"cd_user_id\",\"client_token\",\"cms-csp-nonce\",\"co\",\"connect.sid\",\"cookies_enabled\",\"csrf_id\",\"csrf_same_site\",\"csrf_same_site_set\",\"csrftoken\",\"ct0\",\"d_prefs\",\"daa\",\"dnt\",\"dtab_local\",\"email_read_only\",\"email_uid\",\"eu_cn\",\"fm\",\"form-lead-gen\",\"gscr\",\"gt\",\"guest_id\",\"kampyleInvitePresented\",\"kampyleSessionPageCounter\",\"kampyleUserPercentile\",\"kampyleUserSessionCount\",\"kampyleUserSessionsCount\",\"kampyle_userid\",\"kdt\",\"lang\",\"lang-preference\",\"language\",\"lastOwnerId\",\"lscr\",\"lv-ctx-\",\"lv-ctx-zzz*\",\"lv-uid\",\"m_session\",\"mdLogger\",\"md_isSurveySubmittedInSession\",\"messages\",\"mobile_ads_stat_type\",\"mobile_ads_time_interval\",\"momentmaker.tos.accepted*\",\"muc\",\"night_mode\",\"request_method\",\"scroll0\",\"scroll1\",\"sessionid\",\"shopify_app_session\",\"shopify_app_session.sig\",\"signup_ui_metrics\",\"ssa-calendar-signup\",\"studio_account\",\"timezone\",\"tooltip\",\"tweetdeck_version\",\"twid\",\"ui_metrics\",\"user_id\",\"zipbox_auth_token\",\"zipbox_forms_auth_token\"]}},\"userHash\":\"5b5bcf3ffe248bf8640c003f59a9cda5ce0b7a7779f2aaa567835bcdc00874d0\"};</script><script id=\"nonce-csp\" nonce=\"MTBlMjZlZjMtM2ZjMi00OTllLWJjOTctZWRhMGY1YTc3NWMw\"></script><script charset=\"utf-8\" nonce=\"MTBlMjZlZjMtM2ZjMi00OTllLWJjOTctZWRhMGY1YTc3NWMw\" type=\"text/javascript\">window.__SCRIPTS_LOADED__ = {};function _typeof(o){\"@babel/helpers - typeof\";return _typeof=\"function\"==typeof Symbol&&\"symbol\"==typeof Symbol.iterator?function(o){return typeof o;}:function(o){return o&&\"function\"==typeof Symbol&&o.constructor===Symbol&&o!==Symbol.prototype?\"symbol\":typeof o;},_typeof(o);}function _slicedToArray(arr,i){return _arrayWithHoles(arr)||_iterableToArrayLimit(arr,i)||_unsupportedIterableToArray(arr,i)||_nonIterableRest();}function _nonIterableRest(){throw new TypeError(\"Invalid attempt to destructure non-iterable instance.\\nIn order to be iterable, non-array objects must have a [Symbol.iterator]() method.\");}function _unsupportedIterableToArray(o,minLen){if(!o)return;if(typeof o===\"string\")return _arrayLikeToArray(o,minLen);var n=Object.prototype.toString.call(o).slice(8,-1);if(n===\"Object\"&&o.constructor)n=o.constructor.name;if(n===\"Map\"||n===\"Set\")return Array.from(o);if(n===\"Arguments\"||/^(?:Ui|I)nt(?:8|16|32)(?:Clamped)?Array$/.test(n))return _arrayLikeToArray(o,minLen);}function _arrayLikeToArray(arr,len){if(len==null||len>arr.length)len=arr.length;for(var i=0,arr2=new Array(len);i<len;i++)arr2[i]=arr[i];return arr2;}function _iterableToArrayLimit(r,l){var t=null==r?null:\"undefined\"!=typeof Symbol&&r[Symbol.iterator]||r[\"@@iterator\"];if(null!=t){var e,n,i,u,a=[],f=!0,o=!1;try{if(i=(t=t.call(r)).next,0===l){if(Object(t)!==t)return;f=!1;}else for(;!(f=(e=i.call(t)).done)&&(a.push(e.value),a.length!==l);f=!0);}catch(r){o=!0,n=r;}finally{try{if(!f&&null!=t[\"return\"]&&(u=t[\"return\"](),Object(u)!==u))return;}finally{if(o)throw n;}}return a;}}function _arrayWithHoles(arr){if(Array.isArray(arr))return arr;}(function(){\"use strict\";var e,n,o,d,a,i={},r={};function s(e){var n=r[e];if(void 0!==n)return n.exports;var o=r[e]={id:e,loaded:!1,exports:{}};return i[e].call(o.exports,o,o.exports,s),o.loaded=!0,o.exports;}s.m=i,s.c=r,s.amdO={},e=[],s.O=function(n,o,d,a){if(!o){var i=1/0;for(t=0;t<e.length;t++){for(var _e$t=_slicedToArray(e[t],3),o=_e$t[0],d=_e$t[1],a=_e$t[2],r=!0,l=0;l<o.length;l++)(!1&a||i>=a)&&Object.keys(s.O).every(function(e){return s.O[e](o[l]);})?o.splice(l--,1):(r=!1,a<i&&(i=a));if(r){e.splice(t--,1);var c=d();void 0!==c&&(n=c);}}return n;}a=a||0;for(var t=e.length;t>0&&e[t-1][2]>a;t--)e[t]=e[t-1];e[t]=[o,d,a];},s.n=function(e){var n=e&&e.__esModule?function(){return e[\"default\"];}:function(){return e;};return s.d(n,{a:n}),n;},o=Object.getPrototypeOf?function(e){return Object.getPrototypeOf(e);}:function(e){return e.__proto__;},s.t=function(e,d){if(1&d&&(e=this(e)),8&d)return e;if(\"object\"==_typeof(e)&&e){if(4&d&&e.__esModule)return e;if(16&d&&\"function\"==typeof e.then)return e;}var a=Object.create(null);s.r(a);var i={};n=n||[null,o({}),o([]),o(o)];for(var r=2&d&&e;\"object\"==_typeof(r)&&!~n.indexOf(r);r=o(r))Object.getOwnPropertyNames(r).forEach(function(n){return i[n]=function(){return e[n];};});return i[\"default\"]=function(){return e;},s.d(a,i),a;},s.d=function(e,n){for(var o in n)s.o(n,o)&&!s.o(e,o)&&Object.defineProperty(e,o,{enumerable:!0,get:n[o]});},s.f={},s.e=function(e){return Promise.all(Object.keys(s.f).reduce(function(n,o){return s.f[o](e,n),n;},[]));},s.u=function(e){return e+\".\"+{vendor:\"bc4db04\",\"i18n/ar\":\"6909140\",\"i18n/ar-x-fm\":\"3b9c888\",\"i18n/bg\":\"a202e9f\",\"i18n/bn\":\"c5f9bc3\",\"i18n/ca\":\"afe54de\",\"i18n/cs\":\"4b08c74\",\"i18n/da\":\"748b9b9\",\"i18n/de\":\"182745c\",\"i18n/el\":\"d6785dd\",\"i18n/emoji-ar\":\"8275ada\",\"i18n/emoji-ar-x-fm\":\"b8248bb\",\"i18n/emoji-bg\":\"b267854\",\"i18n/emoji-bn\":\"68c1c6d\",\"i18n/emoji-ca\":\"196b05c\",\"i18n/emoji-cs\":\"10d1245\",\"i18n/emoji-da\":\"a3f8044\",\"i18n/emoji-de\":\"e8f886b\",\"i18n/emoji-el\":\"ebe6c13\",\"i18n/emoji-en\":\"ae5103c\",\"i18n/emoji-en-GB\":\"b9c25fc\",\"i18n/emoji-en-ss\":\"b9f3ad3\",\"i18n/emoji-en-xx\":\"2499a6d\",\"i18n/emoji-es\":\"39b24a0\",\"i18n/emoji-eu\":\"2309582\",\"i18n/emoji-fa\":\"ba57776\",\"i18n/emoji-fi\":\"838945b\",\"i18n/emoji-fil\":\"a34b0db\",\"i18n/emoji-fr\":\"b19a1f0\",\"i18n/emoji-ga\":\"0bd870c\",\"i18n/emoji-gl\":\"58b4c3d\",\"i18n/emoji-gu\":\"2cc756f\",\"i18n/emoji-ha\":\"6c0b172\",\"i18n/emoji-he\":\"b790f25\",\"i18n/emoji-hi\":\"b8f895d\",\"i18n/emoji-hr\":\"cc0e374\",\"i18n/emoji-hu\":\"a2fb927\",\"i18n/emoji-id\":\"2bb797e\",\"i18n/emoji-ig\":\"6ad2776\",\"i18n/emoji-it\":\"688494d\",\"i18n/emoji-ja\":\"13a7632\",\"i18n/emoji-kn\":\"5fd3002\",\"i18n/emoji-ko\":\"ea7f505\",\"i18n/emoji-mr\":\"c43b969\",\"i18n/emoji-ms\":\"73fd706\",\"i18n/emoji-nb\":\"e27a095\",\"i18n/emoji-nl\":\"4fa277b\",\"i18n/emoji-pl\":\"432fe43\",\"i18n/emoji-pt\":\"4dd0b37\",\"i18n/emoji-ro\":\"aa629ca\",\"i18n/emoji-ru\":\"044dd60\",\"i18n/emoji-sk\":\"9a18325\",\"i18n/emoji-sr\":\"b7badd9\",\"i18n/emoji-sv\":\"002d6b6\",\"i18n/emoji-ta\":\"f2f44a0\",\"i18n/emoji-th\":\"3033908\",\"i18n/emoji-tr\":\"1653813\",\"i18n/emoji-uk\":\"5a8665d\",\"i18n/emoji-ur\":\"ae52d39\",\"i18n/emoji-vi\":\"92beb3a\",\"i18n/emoji-yo\":\"1fac319\",\"i18n/emoji-zh\":\"dafa495\",\"i18n/emoji-zh-Hant\":\"9788ace\",\"i18n/en\":\"a261f6e\",\"i18n/en-GB\":\"ac80d01\",\"i18n/en-ss\":\"392b291\",\"i18n/en-xx\":\"f72ec75\",\"i18n/es\":\"1e61bea\",\"i18n/eu\":\"e17522f\",\"i18n/fa\":\"1f97511\",\"i18n/fi\":\"ddf5fb1\",\"i18n/fil\":\"12b5fa2\",\"i18n/fr\":\"122cd11\",\"i18n/ga\":\"fd6bbcd\",\"i18n/gl\":\"f9068f9\",\"i18n/gu\":\"442d795\",\"i18n/ha\":\"5ebdd7f\",\"i18n/he\":\"eb7dc58\",\"i18n/hi\":\"bbea1c5\",\"i18n/hr\":\"6bcd350\",\"i18n/hu\":\"aea9f46\",\"i18n/id\":\"2d74bd8\",\"i18n/ig\":\"8af1285\",\"i18n/index-node\":\"1ae27ff\",\"i18n/it\":\"e3fba75\",\"i18n/ja\":\"3e5f83d\",\"i18n/kn\":\"7ab8562\",\"i18n/ko\":\"e1a366d\",\"i18n/mr\":\"5259672\",\"i18n/ms\":\"f041ca8\",\"i18n/nb\":\"e844668\",\"i18n/nl\":\"220c0d2\",\"i18n/pl\":\"e39486a\",\"i18n/pt\":\"6d1758a\",\"i18n/ro\":\"81e0e92\",\"i18n/ru\":\"7022059\",\"i18n/sk\":\"3b2524e\",\"i18n/sr\":\"6779768\",\"i18n/sv\":\"64dd3fd\",\"i18n/ta\":\"942aa59\",\"i18n/th\":\"937d80c\",\"i18n/tr\":\"5549494\",\"i18n/uk\":\"f55a57e\",\"i18n/ur\":\"6481cd3\",\"i18n/vi\":\"f1557c0\",\"i18n/yo\":\"720d2cf\",\"i18n/zh\":\"390be2a\",\"i18n/zh-Hant\":\"445c791\",\"bundle.NetworkInstrument\":\"1aed29f\",\"shared~loader.AudioDock~loader.DMDrawer~bundle.AudioSpacePeek~bundle.AudioSpaceAnalytics~bundle.AudioSpaceRep\":\"e313f6a\",\"shared~loader.AudioDock~bundle.AudioSpacePeek~bundle.AudioSpaceAnalytics~bundle.AudioSpaceReport~bundle.Birdw\":\"7868998\",\"shared~loader.AudioDock~loader.DMDrawer~bundle.Articles~bundle.AudioSpaceDetail~bundle.AudioSpacePeek~bundle.\":\"9b666aa\",\"shared~loader.AudioDock~loader.DashMenu~loader.SideNav~loader.Typeahead~loader.AppModules~loader.DMDrawer~bun\":\"92418d4\",\"shared~loader.AudioDock~loader.DashMenu~loader.SideNav~loader.Typeahead~loader.DMDrawer~bundle.Account~bundle\":\"bc1ebde\",\"shared~loader.AudioDock~loader.Typeahead~loader.DMDrawer~bundle.Articles~bundle.AudioSpaceDetail~bundle.Audio\":\"cb3a840\",\"shared~loader.AudioDock~loader.Typeahead~loader.AppModules~loader.DMDrawer~bundle.Articles~bundle.AudioSpaceD\":\"579ee64\",\"shared~loader.AudioDock~loader.DashMenu~loader.SideNav~loader.Typeahead~loader.DMDrawer~bundle.MultiAccount~b\":\"4450533\",\"shared~loader.AudioDock~loader.DMDrawer~bundle.Articles~bundle.AudioSpacePeek~bundle.AudioSpaceDiscovery~bund\":\"bd325c0\",\"shared~loader.AudioDock~loader.DMDrawer~bundle.AudioSpaceDetail~bundle.AudioSpacePeek~bundle.AudioSpaceDiscov\":\"db11819\",\"loader.AudioDock\":\"bc0ceb6\",\"loader.richScribeAction\":\"1b4612c\",\"loader.HoverCard\":\"fe4f10e\",\"shared~loader.DashMenu~loader.DMDrawer~bundle.AccountAnalytics~bundle.Articles~bundle.AudioSpacePeek~bundle.A\":\"47fc160\",\"shared~loader.DashMenu~loader.SideNav~loader.AppModules~loader.DMDrawer~bundle.MultiAccount~bundle.Birdwatch~\":\"05efa43\",\"shared~loader.DashMenu~loader.SideNav~loader.DMDrawer~bundle.MultiAccount~bundle.AccountAnalytics~bundle.Comm\":\"3e94f3d\",\"shared~loader.DashMenu~bundle.Account~ondemand.SettingsRevamp~ondemand.SettingsMonetization~bundle.TweetCoinD\":\"0a4a3e1\",\"shared~loader.DashMenu~bundle.Account~ondemand.SettingsInternals~ondemand.SettingsRevamp~bundle.Settings\":\"6e5f8ff\",\"shared~loader.DashMenu~bundle.Account~bundle.TwitterBlue~bundle.LoggedOutHome~bundle.Search\":\"e8cbf27\",\"shared~loader.DashMenu~loader.SideNav~bundle.MultiAccount~bundle.Communities~ondemand.SettingsMonetization\":\"c4b0863\",\"shared~loader.DashMenu~loader.SideNav~bundle.MultiAccount\":\"9fc7d31\",\"shared~loader.DashMenu~bundle.Account\":\"dc7787c\",\"loader.DashMenu\":\"e96b575\",\"shared~loader.directMessagesData~loader.Typeahead~loader.DMDrawer~ondemand.DirectMessagesCrypto~bundle.Commun\":\"6ad3cee\",\"shared~loader.directMessagesData~loader.Typeahead~loader.DMDrawer~bundle.Communities~bundle.TwitterArticles~b\":\"bdb8160\",\"shared~loader.directMessagesData~loader.DMDrawer~ondemand.SettingsInternals~bundle.DirectMessages~bundle.DMRi\":\"fc6d8a1\",\"shared~loader.DMDrawer~bundle.AboutThisAd~bundle.NotMyAccount~bundle.MultiAccount~bundle.Articles~bundle.Audi\":\"e348290\",\"shared~loader.Typeahead~loader.DMDrawer~bundle.MultiAccount~bundle.Articles~bundle.AudioSpaceDetail~bundle.Au\":\"9705a68\",\"shared~loader.DMDrawer~bundle.Articles~bundle.AudioSpaceDetail~bundle.AudioSpaceDiscovery~bundle.AudioSpaceba\":\"8b11df0\",\"shared~loader.DMDrawer~bundle.Articles~bundle.AudioSpacePeek~bundle.Birdwatch~~bundle.Communities~bundle.Twit\":\"9415dab\",\"shared~bundle.Articles~bundle.AudioSpaceDetail~bundle.AudioSpaceDiscovery~bundle.AudioSpacebarScreen~bundle.B\":\"13da221\",\"shared~bundle.AudioSpaceDetail~bundle.AudioSpaceDiscovery~bundle.AudioSpacebarScreen~bundle.Birdwatch~bundle.\":\"7286acf\",\"shared~bundle.Birdwatch~bundle.TwitterArticles~bundle.Compose~bundle.Settings~bundle.Display~bundle.Ocf~bundl\":\"72b9aa5\",\"shared~loader.DMDrawer~bundle.Articles~bundle.AudioSpaceDiscovery~bundle.Birdwatch~bundle.Communities~bundle.\":\"fb7a3e1\",\"shared~loader.DMDrawer~bundle.Bookmarks~bundle.Communities~bundle.TwitterArticles~bundle.DirectMessages~bundl\":\"3c1c6a3\",\"shared~bundle.Bookmarks~bundle.Communities~bundle.TwitterArticles~bundle.Explore~bundle.LiveEvent~bundle.Home\":\"0e25f60\",\"shared~bundle.DirectMessages~loader.PushNotificationsPrompt~loader.MessageHandler~loader.promptHandler~bundle\":\"9497ab6\",\"shared~bundle.Notifications~ondemand.LeaveThisConversation\":\"da8f305\",\"bundle.Notifications\":\"c284d43\",\"loader.NewTweetsPill\":\"839bc78\",\"shared~loader.SideNav~bundle.AccountAnalytics~bundle.Communities~ondemand.SettingsInternals~ondemand.Settings\":\"698d1f3\",\"shared~loader.SideNav~bundle.MultiAccount\":\"67eb5cd\",\"loader.SideNav\":\"49931bd\",\"shared~loader.Typeahead~loader.DMDrawer~bundle.AudioSpacePeek~bundle.Birdwatch~bundle.Communities~bundle.Twit\":\"fb174d6\",\"shared~loader.Typeahead~loader.DMDrawer~bundle.MultiAccount~bundle.Birdwatch~bundle.Communities~bundle.Compos\":\"4c3d40f\",\"shared~loader.Typeahead~loader.DMDrawer~bundle.Communities~bundle.TwitterArticles~bundle.Compose~bundle.Deleg\":\"18ffaf1\",\"shared~loader.Typeahead~loader.DMDrawer~bundle.Communities~bundle.TwitterArticles~bundle.Compose~bundle.Setti\":\"fe1467d\",\"shared~loader.Typeahead~loader.DMDrawer~bundle.Communities~bundle.Delegate~bundle.DirectMessages~bundle.DMRic\":\"aa5cb10\",\"shared~loader.Typeahead~bundle.Communities~bundle.Delegate~bundle.Ocf~bundle.LoggedOutHome~bundle.Search~bund\":\"0d342d9\",\"shared~loader.Typeahead~ondemand.SettingsInternals~bundle.LoggedOutHome~bundle.Search~bundle.UserLists~loader\":\"e2f3dd8\",\"shared~loader.Typeahead~loader.AppModules~bundle.AudioSpaceDiscovery~bundle.LoggedOutHome~bundle.Search\":\"6f08bad\",\"shared~loader.Typeahead~bundle.LoggedOutHome~bundle.Search\":\"a9d14b0\",\"loader.Typeahead\":\"f6ddc49\",\"shared~loader.AppModules~bundle.LoggedOutHome~bundle.Search~ondemand.SettingsRevamp~bundle.Settings\":\"a72c1c5\",\"shared~loader.AppModules~bundle.LoggedOutHome~bundle.Search\":\"3d142bd\",\"shared~loader.AppModules~bundle.Ocf\":\"6ef9541\",\"shared~loader.AppModules~loader.LoggedOutNotifications\":\"776fdd1\",\"shared~loader.AppModules~bundle.Conversation\":\"e869f78\",\"loader.AppModules\":\"9602416\",\"ondemand.Dropdown\":\"7a7ef46\",\"shared~loader.DMDrawer~bundle.AudioSpacePeek~bundle.Birdwatch~bundle.TwitterArticles~bundle.Compose~~bundle.S\":\"d5f2313\",\"shared~loader.DMDrawer~bundle.AccountAnalytics~bundle.AudioSpacePeek~bundle.Birdwatch~bundle.BookmarkFolders~\":\"4c88762\",\"shared~loader.DMDrawer~bundle.Birdwatch~bundle.BookmarkFolders~bundle.Communities~bundle.TwitterArticles~bund\":\"ad1333a\",\"shared~loader.DMDrawer~ondemand.DirectMessagesCrypto~bundle.Communities~bundle.Delegate~ondemand.SettingsInte\":\"49e32f8\",\"shared~loader.DMDrawer~bundle.Compose~bundle.DirectMessages~bundle.DMRichTextCompose~bundle.LiveEvent~bundle.\":\"14a8f7d\",\"shared~loader.DMDrawer~bundle.Compose~bundle.DirectMessages~bundle.DMRichTextCompose~bundle.JobSearch~bundle.\":\"8103552\",\"shared~loader.DMDrawer~bundle.Compose~bundle.DirectMessages~bundle.DMRichTextCompose~loader.HWCard~loader.Tim\":\"615bd13\",\"shared~loader.DMDrawer~~bundle.TwitterArticles~bundle.Compose~bundle.ComposeMedia~bundle.AccountVerification~\":\"d76ca12\",\"shared~loader.DMDrawer~bundle.TwitterArticles~bundle.Compose~bundle.ComposeMedia~bundle.AccountVerification~b\":\"15cef26\",\"shared~loader.DMDrawer~bundle.TwitterArticles~bundle.Compose~bundle.AccountVerification~bundle.SettingsProfil\":\"5c97d81\",\"shared~loader.DMDrawer~bundle.AudioSpacePeek~bundle.Compose~~bundle.DMRichTextCompose~bundle.DirectMessages~b\":\"242306f\",\"shared~loader.DMDrawer~bundle.Communities~ondemand.SettingsMonetization~ondemand.SettingsSuperFollows~bundle.\":\"611c882\",\"shared~loader.DMDrawer~bundle.Articles~bundle.DirectMessages~bundle.DMRichTextCompose~bundle.LiveEvent~bundle\":\"919b4b1\",\"shared~loader.DMDrawer~bundle.Birdwatch~bundle.Communities~bundle.Compose~bundle.DirectMessages~bundle.DMRich\":\"350dad2\",\"shared~loader.DMDrawer~bundle.TwitterArticles~bundle.Compose~bundle.DirectMessages~bundle.DMRichTextCompose~b\":\"9c4a09a\",\"shared~loader.DMDrawer~bundle.DirectMessages~bundle.DMRichTextCompose~bundle.TweetMediaDetail~bundle.UserAvat\":\"ccb840b\",\"shared~loader.DMDrawer~bundle.Communities~bundle.DirectMessages~bundle.DMRichTextCompose~bundle.LiveEvent~loa\":\"f0de48c\",\"shared~loader.DMDrawer~bundle.Compose~bundle.SettingsExtendedProfile~bundle.DirectMessages~bundle.DMRichTextC\":\"8ccdc43\",\"shared~loader.DMDrawer~bundle.DMRichTextCompose~bundle.DirectMessages~bundle.UserFollowLists~bundle.UserProfi\":\"2bac5a6\",\"shared~loader.DMDrawer~bundle.Articles~bundle.Compose~bundle.DirectMessages~bundle.UserProfile~bundle.RichTex\":\"ab5c0cb\",\"shared~loader.DMDrawer~bundle.Compose~bundle.DMRichTextCompose~bundle.DirectMessages~bundle.RichTextCompose\":\"599f570\",\"shared~loader.DMDrawer~bundle.DirectMessages~bundle.LiveEvent~bundle.UserProfile~loader.TimelineRenderer\":\"91718c6\",\"shared~loader.DMDrawer~bundle.Communities~bundle.DirectMessages~bundle.DMRichTextCompose~ondemand.Verified\":\"045a38b\",\"shared~loader.DMDrawer~bundle.DMRichTextCompose~bundle.DirectMessages\":\"b0c5114\",\"shared~loader.DMDrawer~bundle.DirectMessages~bundle.DMRichTextCompose\":\"cc34bbf\",\"shared~loader.DMDrawer~bundle.DirectMessages\":\"5e0bac9\",\"loader.DMDrawer\":\"b28dcbd\",\"ondemand.s\":\"e75b3e9\",\"shared~ondemand.DirectMessagesCrypto~ondemand.SettingsRevamp\":\"fd50496\",\"ondemand.DirectMessagesCrypto\":\"9593cfa\",\"shared~bundle.AboutThisAd~bundle.NotMyAccount~bundle.MultiAccount~bundle.Articles~bundle.AudioSpacePeek~bundl\":\"c1650a2\",\"shared~bundle.AboutThisAd~bundle.NotMyAccount~bundle.MultiAccount~bundle.AudioSpacePeek~bundle.Birdwatch~bund\":\"6d93e9e\",\"bundle.AboutThisAd\":\"124855e\",\"bundle.NotMyAccount\":\"3545cd0\",\"bundle.Account\":\"54d4bc2\",\"shared~bundle.MultiAccount~bundle.AudioSpacePeek~bundle.Birdwatch~bundle.BookmarkFolders~bundle.Communities~b\":\"78157cd\",\"shared~bundle.MultiAccount~bundle.Communities~ondemand.SettingsRevamp~ondemand.SettingsInternals~bundle.Direc\":\"2e8710a\",\"shared~bundle.MultiAccount~bundle.Login~bundle.SmsLogin~ondemand.IntentPrompt\":\"ffca940\",\"shared~bundle.MultiAccount~bundle.Login~ondemand.IntentPrompt\":\"71373dc\",\"bundle.MultiAccount\":\"3910572\",\"shared~bundle.AccountAnalytics~bundle.AudioSpaceAnalytics~bundle.ProfessionalHome~bundle.ConversationWithRela\":\"66bd760\",\"shared~bundle.AccountAnalytics~bundle.ProfessionalHome~bundle.ConversationWithRelay\":\"85b6573\",\"shared~bundle.AccountAnalytics~bundle.ProfessionalHome\":\"779ef57\",\"bundle.AccountAnalytics\":\"2cee5d2\",\"shared~bundle.Articles~bundle.Communities~bundle.TwitterArticles~bundle.Delegate~ondemand.SettingsInternals~o\":\"4a7ac2a\",\"shared~bundle.Articles~loader.ArticleHandler\":\"632a666\",\"bundle.Articles\":\"d75e3ed\",\"shared~bundle.AudioSpaceDetail~bundle.AudioSpacePeek\":\"1549578\",\"bundle.AudioSpaceDetail\":\"00c8c31\",\"shared~bundle.AudioSpacePeek~bundle.Communities~bundle.TwitterArticles~bundle.Compose~loader.CommunityHandler\":\"87b2757\",\"shared~bundle.AudioSpacePeek~bundle.Communities~bundle.Compose~loader.CommunityHandler~bundle.RichTextCompose\":\"986a339\",\"shared~bundle.AudioSpacePeek~bundle.Communities~loader.CommunityHandler\":\"cb6adee\",\"shared~bundle.AudioSpacePeek~loader.CommunityHandler\":\"db82eee\",\"shared~bundle.AudioSpacePeek~loader.AudioContextSpaceClip\":\"b773fde\",\"bundle.AudioSpacePeek\":\"0476f44\",\"shared~bundle.AudioSpaceDiscovery~bundle.AudioSpacebarScreen~bundle.Birdwatch~bundle.LiveEvent~bundle.Explore\":\"0d5dd1c\",\"bundle.AudioSpaceDiscovery\":\"2295cea\",\"bundle.AudioSpaceAnalytics\":\"de355bc\",\"bundle.AudioSpaceReport\":\"2c5b094\",\"shared~bundle.AudioSpacebarScreen~loader.Spacebar~loader.SidebarSpacebar\":\"16d7dd9\",\"bundle.AudioSpacebarScreen\":\"b2149bf\",\"shared~bundle.Birdwatch~bundle.Communities~bundle.TwitterArticles~bundle.ComposeMedia~ondemand.SettingsIntern\":\"4649387\",\"shared~bundle.Birdwatch~bundle.Communities~bundle.TwitterArticles~bundle.AccountVerification~ondemand.Setting\":\"1c8d19f\",\"shared~bundle.Birdwatch~bundle.TwitterArticles~bundle.SettingsProfessionalProfileProfileSpotlight~bundle.User\":\"57789fc\",\"shared~bundle.Birdwatch~bundle.BookmarkFolders~bundle.Communities~bundle.TwitterArticles~bundle.Compose~bundl\":\"67a2944\",\"shared~bundle.Birdwatch~ondemand.SettingsInternals~bundle.Explore~bundle.Topics~bundle.Trends~loader.ExploreS\":\"abaa397\",\"shared~bundle.Birdwatch~bundle.AccountAutomation~ondemand.SettingsInternals~ondemand.SettingsRevamp~bundle.Se\":\"3118171\",\"shared~bundle.Birdwatch~bundle.Explore~bundle.GenericTimeline~bundle.Ocf~bundle.Topics~bundle.FollowerRequest\":\"cff245e\",\"shared~bundle.Birdwatch~bundle.Explore~bundle.GenericTimeline~bundle.Ocf~bundle.Topics\":\"1cfbdc2\",\"shared~bundle.Birdwatch~loader.inlineTombstoneHandler~loader.tweetHandler~loader.immersiveTweetHandler\":\"e75e4da\",\"shared~bundle.Birdwatch~loader.inlineTombstoneHandler~loader.tweetHandler~loader.TweetCurationActionMenu\":\"4ef4e0e\",\"shared~bundle.Birdwatch~loader.inlineTombstoneHandler~loader.tweetHandler\":\"9f9ee34\",\"shared~bundle.Birdwatch~bundle.Explore~bundle.Topics\":\"a5362b8\",\"shared~bundle.Birdwatch~bundle.ProfessionalHome~icons/IconPromoteMode-js\":\"974c814\",\"bundle.Birdwatch\":\"e637aac\",\"shared~bundle.BookmarkFolders~bundle.Communities~bundle.TwitterArticles~bundle.Settings\":\"ee7bc0f\",\"shared~bundle.BookmarkFolders~bundle.TwitterArticles\":\"42bf924\",\"bundle.BookmarkFolders\":\"402a187\",\"bundle.Bookmarks\":\"2a9d9d4\",\"src_app_screens_BrandedLikesPreview_index_js-modules_icons_src_react_icons_IconArrowRight_js\":\"7182ab5\",\"shared~ondemand.SettingsRevamp~ondemand.SettingsMonetization~ondemand.SettingsSuperFollows~bundle.LiveEvent~b\":\"f0dae9e\",\"shared~bundle.LiveEvent~bundle.HomeTimeline~loader.EventSummaryHandler~loader.ListHandler~loader.MomentSummar\":\"bebe62b\",\"shared~bundle.LiveEvent~bundle.HomeTimeline~loader.EventSummaryHandler~loader.ListHandler~loader.TileHandler~\":\"00fbc7b\",\"shared~bundle.LiveEvent~bundle.Report~loader.EventSummaryHandler~loader.MomentSummaryHandler\":\"eae6e62\",\"shared~bundle.LiveEvent~ondemand.InlinePlayer~loader.AudioOnlyVideoPlayer\":\"4d728d7\",\"shared~bundle.LiveEvent~loader.newsPreviewHandler\":\"9191f8b\",\"bundle.LiveEvent\":\"5804fb7\",\"bundle.Collection\":\"097044d\",\"shared~bundle.Communities~bundle.TwitterArticles~bundle.ComposeMedia~bundle.SettingsProfile~bundle.Ocf~bundle\":\"cd46c6b\",\"shared~bundle.Communities~bundle.TwitterArticles~bundle.SettingsProfile~bundle.Ocf~bundle.UserLists\":\"f4373ee\",\"shared~bundle.Communities~bundle.Compose~bundle.Delegate~bundle.GraduatedAccess~bundle.RichTextCompose\":\"5859b7e\",\"shared~bundle.Communities~bundle.SettingsProfessionalProfileProfileSpotlight~bundle.SettingsProfessionalProfi\":\"01f360d\",\"shared~bundle.Communities~bundle.ReportCenter~bundle.SafetyCenter~bundle.UserProfile\":\"30a802b\",\"shared~bundle.Communities~bundle.Settings~bundle.Display\":\"b30c24e\",\"shared~bundle.Communities~ondemand.SettingsMonetization\":\"d2d752a\",\"shared~bundle.Communities~bundle.UserLists\":\"1df4fac\",\"bundle.Communities\":\"643931f\",\"shared~bundle.TwitterArticles~bundle.Compose~ondemand.ComposeScheduling~bundle.SettingsInternals~ondemand.Set\":\"f5aa4c1\",\"shared~bundle.TwitterArticles~bundle.ComposeMedia~loaders.video.VideoPlayerDefaultUI~loaders.video.VideoPlaye\":\"5aa47da\",\"shared~bundle.TwitterArticles~bundle.Compose~bundle.SettingsExtendedProfile~bundle.DMRichTextCompose~ondemand\":\"6384c27\",\"shared~bundle.TwitterArticles~bundle.SettingsProfile~bundle.DirectMessages~bundle.Ocf~bundle.UserLists~loader\":\"39bf0f7\",\"shared~bundle.TwitterArticles~bundle.ComposeMedia~loaders.video.PlayerBase~loader.MediaPreviewVideoPlayer~loa\":\"e625651\",\"shared~bundle.TwitterArticles~bundle.ComposeMedia~ondemand.SettingsRevamp~bundle.SettingsInternals~bundle.Adv\":\"2b0c34a\",\"shared~bundle.TwitterArticles~bundle.SettingsExtendedProfile~ondemand.Verified\":\"d16ef8e\",\"shared~bundle.TwitterArticles~bundle.Compose~bundle.RichTextCompose\":\"e75c5a2\",\"shared~bundle.TwitterArticles~bundle.ComposeMedia\":\"f1f7d2f\",\"shared~bundle.TwitterArticles~bundle.GifSearch\":\"7514087\",\"shared~bundle.TwitterArticles~loader.TweetCurationActionMenu\":\"6dcc39a\",\"bundle.TwitterArticles\":\"54ddded\",\"shared~bundle.Compose~ondemand.SettingsMonetization~ondemand.SettingsSuperFollows~bundle.SuperFollowsSubscrib\":\"faf1352\",\"shared~bundle.Compose~loader.TweetCurationActionMenu~bundle.RichTextCompose\":\"932083f\",\"shared~bundle.Compose~bundle.Ocf~bundle.RichTextCompose\":\"fff6b10\",\"shared~bundle.Compose~bundle.Place~icons/IconFoursquareNoMargin-js\":\"7fba894\",\"shared~bundle.Compose~ondemand.ComposeScheduling~bundle.RichTextCompose\":\"5fad251\",\"shared~bundle.Compose~bundle.RichTextCompose\":\"1963ae1\",\"shared~bundle.Compose~ondemand.ComposeScheduling\":\"9dded21\",\"bundle.Compose\":\"cbfbb2a\",\"bundle.ComposeMedia\":\"a97b1d8\",\"shared~ondemand.ComposeScheduling~bundle.Ocf~bundle.AdvancedSearch~ondemand.EditBirthdate\":\"c0179c6\",\"shared~ondemand.ComposeScheduling~bundle.SettingsProfessionalProfileLocationSpotlight\":\"0849833\",\"shared~ondemand.ComposeScheduling~ondemand.ProfileSidebar\":\"e1f8006\",\"ondemand.ComposeScheduling\":\"518b7f5\",\"bundle.ConnectTab\":\"ac9a16c\",\"src_app_components_SidebarLayout_SidebarContext_js-src_app_containers_LoginSignupSheet_index_-943cca\":\"2b3ccff\",\"shared~bundle.Delegate~ondemand.SettingsInternals~ondemand.SettingsRevamp~bundle.AccountAutomation~bundle.Set\":\"1e85134\",\"shared~bundle.Delegate~ondemand.SettingsMonetization~bundle.TweetCoinDetails~ondemand.Verified\":\"2ab6da2\",\"shared~ondemand.SettingsRevamp~ondemand.SettingsInternals~bundle.Delegate~bundle.AdvancedSearch\":\"fd861a7\",\"shared~bundle.Delegate~bundle.UserLists\":\"c4082b2\",\"bundle.Delegate\":\"0d346c3\",\"shared~bundle.AccountVerification~bundle.BadgeViolationsNotification~bundle.SettingsRevamp\":\"162f24f\",\"bundle.AccountVerification\":\"0925c81\",\"shared~ondemand.SettingsInternals~bundle.Place~bundle.Search~bundle.QuoteTweetActivity~bundle.TweetActivity\":\"ce056c6\",\"shared~ondemand.SettingsInternals~bundle.Explore~bundle.Trends~loader.ExploreSidebar\":\"5bf1421\",\"shared~ondemand.SensitiveMediaSettings~ondemand.SettingsRevamp~ondemand.SettingsInternals~bundle.SettingsTran\":\"cd056af\",\"shared~ondemand.SettingsInternals~bundle.SettingsRevamp~bundle.SettingsTransparency\":\"395a6fd\",\"shared~ondemand.SettingsInternals~ondemand.SettingsRevamp~ondemand.Verified\":\"b72f71b\",\"shared~ondemand.SettingsInternals~loader.TweetCurationActionMenu~icons/IconIllustrationSafetyMute-js\":\"6da114d\",\"shared~ondemand.SettingsRevamp~ondemand.SettingsInternals\":\"3916ef6\",\"shared~ondemand.SettingsInternals~bundle.Ocf\":\"336156b\",\"shared~ondemand.SettingsInternals~bundle.SuperFollowsManage\":\"3e547fb\",\"shared~ondemand.SettingsInternals~bundle.UserProfile\":\"d119429\",\"shared~ondemand.SettingsInternals~bundle.OAuth\":\"fb82e29\",\"ondemand.SettingsInternals\":\"66c4b5a\",\"shared~ondemand.SettingsRevamp~ondemand.SettingsMonetization~ondemand.SettingsSuperFollows~ondemand.SettingsA\":\"d691ce4\",\"shared~ondemand.SettingsRevamp~bundle.TwitterBlue~bundle.Conversation~bundle.TwitterCoinsManagement~ondemand.\":\"a233018\",\"shared~ondemand.SettingsRevamp~bundle.SettingsInternals~bundle.SettingsProfessionalProfileLocationSpotlight~b\":\"b6239ae\",\"shared~ondemand.SettingsRevamp~bundle.NotABot~bundle.TwitterBlue\":\"49a8ace\",\"shared~ondemand.SettingsRevamp~ondemand.SettingsMonetization~bundle.ConversationWithRelay\":\"17a88f6\",\"shared~ondemand.SettingsRevamp~bundle.HomeTimeline\":\"59ca678\",\"shared~ondemand.SettingsRevamp~ondemand.SettingsMonetization\":\"d06ed97\",\"shared~ondemand.SettingsRevamp~bundle.SafetyModeModal\":\"f0c5a92\",\"shared~ondemand.SettingsRevamp~bundle.TwitterBlue\":\"8310d33\",\"ondemand.SettingsRevamp\":\"2386a84\",\"shared~bundle.AccountAutomation~bundle.SettingsRevamp\":\"19aac8c\",\"bundle.AccountAutomation\":\"2b918b8\",\"shared~bundle.Settings~bundle.Display~bundle.Ocf\":\"d7c0240\",\"shared~bundle.Settings~bundle.Display\":\"969d17b\",\"shared~bundle.Settings~bundle.SettingsRevamp\":\"2e7b427\",\"bundle.Settings\":\"25ed301\",\"bundle.SettingsInternals\":\"1e79580\",\"shared~bundle.SettingsProfile~bundle.SettingsExtendedProfile~bundle.ExtendedUserProfile~bundle.UserProfile\":\"5ad2874\",\"shared~bundle.SettingsProfile~bundle.SettingsExtendedProfile~bundle.ExtendedUserProfile\":\"b5f7245\",\"shared~bundle.SettingsProfile~bundle.Ocf\":\"1d08eef\",\"shared~bundle.SettingsProfile~bundle.UserProfile\":\"f3cd1f0\",\"bundle.SettingsProfile\":\"ab45589\",\"shared~bundle.SettingsExtendedProfile~ondemand.SettingsSuperFollows~ondemand.Verified\":\"d356772\",\"shared~bundle.SettingsExtendedProfile~bundle.ExtendedUserProfile\":\"b234cb7\",\"bundle.SettingsExtendedProfile\":\"d6b85d6\",\"ondemand.SensitiveMediaSettings\":\"432a379\",\"shared~ondemand.SettingsMonetization~ondemand.SettingsSuperFollows~bundle.JobSearch~bundle.TweetCoinDetails~b\":\"ecedde2\",\"shared~ondemand.SettingsMonetization~ondemand.SettingsSuperFollows~bundle.SuperFollowsManage~bundle.SuperFoll\":\"4f1466f\",\"shared~ondemand.SettingsMonetization~ondemand.SettingsSuperFollows~bundle.SuperFollowsSubscribe\":\"ef5099a\",\"shared~ondemand.SettingsMonetization~ondemand.SettingsSuperFollows\":\"d35c8ee\",\"ondemand.SettingsMonetization\":\"1a95376\",\"shared~ondemand.SettingsSuperFollows~bundle.Ocf~bundle.TwitterBlue\":\"cbac498\",\"shared~ondemand.SettingsSuperFollows~bundle.SuperFollowsSubscribe~loader.TweetCurationActionMenu\":\"1c8fd50\",\"ondemand.SettingsSuperFollows\":\"ba9891b\",\"ondemand.SettingsAwards\":\"63ef608\",\"bundle.DirectMessages\":\"a0daaa1\",\"bundle.DMRichTextCompose\":\"6a9de80\",\"bundle.Display\":\"cc0e207\",\"bundle.Explore\":\"8402210\",\"bundle.GenericTimeline\":\"8a08cad\",\"bundle.GifSearch\":\"2a279aa\",\"bundle.GraduatedAccess\":\"cda2ca6\",\"shared~bundle.JobSearch~bundle.UserJobs~ondemand.Verified\":\"777ad5e\",\"shared~bundle.JobSearch~bundle.UserJobs\":\"be2a7ab\",\"bundle.JobSearch\":\"e6e4803\",\"bundle.KeyboardShortcuts\":\"f6b86fd\",\"shared~bundle.HomeTimeline~bundle.Conversation~bundle.TweetMediaDetail~bundle.ImmersiveMediaViewer~loader.Tom\":\"93c8845\",\"shared~bundle.HomeTimeline~loader.EventSummaryHandler~loader.ListHandler~loader.TileHandler\":\"c3c034b\",\"shared~bundle.HomeTimeline~loader.EventSummaryHandler~loader.ListHandler\":\"d220b28\",\"bundle.HomeTimeline\":\"bd67275\",\"shared~bundle.Login~bundle.Ocf\":\"d3cb761\",\"bundle.Login\":\"191a082\",\"bundle.SmsLogin\":\"27bff25\",\"bundle.Logout\":\"0c121fc\",\"bundle.NewsLanding\":\"c7c6ab7\",\"bundle.NotABot\":\"8fd03c1\",\"bundle.BadgeViolationsNotification\":\"6fe189a\",\"bundle.Twitterversary\":\"41bf734\",\"bundle.NotificationDetail\":\"3b315b7\",\"bundle.OAuth\":\"3509dd0\",\"shared~bundle.Ocf~bundle.LoggedOutHome~bundle.Search~loader.TimelineRenderer~loader.SignupModule\":\"d26c143\",\"bundle.Ocf\":\"be1adb9\",\"shared~bundle.Place~bundle.Search~bundle.QuoteTweetActivity~bundle.TweetActivity\":\"de11916\",\"bundle.Place\":\"3e3d2e8\",\"bundle.TwitterBlue\":\"d5463e1\",\"shared~bundle.SettingsProfessionalProfile~bundle.SettingsProfessionalProfileProfileSpotlight~bundle.SettingsP\":\"4f68fd6\",\"bundle.SettingsProfessionalProfile\":\"4a716b9\",\"shared~bundle.SettingsProfessionalProfileProfileSpotlight~bundle.SettingsProfessionalProfileLocationSpotlight\":\"97b7e11\",\"shared~bundle.SettingsProfessionalProfileProfileSpotlight~bundle.SettingsProfessionalProfileCommunitiesSpotli\":\"fc980a5\",\"shared~bundle.SettingsProfessionalProfileProfileSpotlight~bundle.UserProfile\":\"cd09b8c\",\"bundle.SettingsProfessionalProfileProfileSpotlight\":\"24a80b1\",\"shared~bundle.SettingsProfessionalProfileLocationSpotlight~bundle.SettingsProfessionalProfileMobileAppSpotlig\":\"7f176fb\",\"bundle.SettingsProfessionalProfileLocationSpotlight\":\"07e4541\",\"bundle.SettingsProfessionalProfileMobileAppSpotlight\":\"6b2fc39\",\"bundle.SettingsProfessionalProfileCommunitiesSpotlight\":\"f4a3d09\",\"bundle.ProfessionalHome\":\"cd4429a\",\"shared~bundle.ReaderMode~bundle.Conversation~bundle.TweetMediaDetail~bundle.ImmersiveMediaViewer\":\"2f79d3c\",\"bundle.ReaderMode\":\"5a03e81\",\"shared~bundle.Report~loader.EventSummaryHandler~loader.MomentSummaryHandler\":\"eb08f7d\",\"bundle.Report\":\"c50524d\",\"shared~bundle.ReportCenter~bundle.SafetyCenter\":\"f9d2142\",\"bundle.ReportCenter\":\"2665bf1\",\"bundle.SafetyCenter\":\"5174456\",\"shared~bundle.LoggedOutHome~bundle.Search\":\"f4a27a5\",\"bundle.LoggedOutHome\":\"2ecbbf0\",\"bundle.SafetyModeModal\":\"147fcbe\",\"bundle.Search\":\"2051296\",\"bundle.AdvancedSearch\":\"8d08160\",\"shared~bundle.Topics~bundle.UserJobs~bundle.UserLists~bundle.UserFollowLists~bundle.UserProfile~ondemand.Hove\":\"17c72e4\",\"bundle.Topics\":\"d99182e\",\"bundle.ExploreTopics\":\"754ecb9\",\"bundle.Trends\":\"5b9616e\",\"shared~bundle.TrustedFriendsManagement~bundle.UserLists\":\"c015ed0\",\"bundle.TrustedFriendsRedirect\":\"3db58d4\",\"shared~bundle.Conversation~bundle.TweetMediaDetail~bundle.ImmersiveMediaViewer~loader.inlineTombstoneHandler~\":\"58aa9ff\",\"shared~bundle.Conversation~bundle.TweetMediaDetail~bundle.ImmersiveMediaViewer\":\"40aacac\",\"bundle.Conversation\":\"a959ce9\",\"bundle.ConversationWithRelay\":\"d00a447\",\"bundle.TweetMediaTags\":\"8b012c8\",\"bundle.ConversationParticipants\":\"232ed81\",\"shared~bundle.TweetMediaDetail~bundle.UserAvatar~bundle.UserNft\":\"2a35141\",\"shared~bundle.TweetMediaDetail~bundle.ImmersiveMediaViewer\":\"8f581b9\",\"bundle.TweetMediaDetail\":\"7e8e593\",\"bundle.ImmersiveMediaViewer\":\"d644678\",\"shared~bundle.TweetEditHistory~bundle.QuoteTweetActivity~bundle.TweetActivity\":\"1dbf74b\",\"bundle.TweetEditHistory\":\"8291dc0\",\"bundle.ShowMoreUpsell\":\"7e0dc4f\",\"shared~loaders.video.VideoPlayerDefaultUI~loaders.video.VideoPlayerMiniUI~loaders.video.VideoPlayerHashtagHig\":\"e1b4a5f\",\"shared~loaders.video.VideoPlayerDefaultUI~loader.MediaPreviewVideoPlayer~loaders.video.VideoPlayerEventsUI~lo\":\"3067517\",\"shared~loaders.video.VideoPlayerDefaultUI~loaders.video.VideoPlayerHashtagHighlightUI~loaders.video.VideoPlay\":\"c394cdc\",\"shared~loaders.video.VideoPlayerDefaultUI~loaders.video.VideoPlayerEventsUI~loaders.video.VideoPlayerPrerollU\":\"53930a1\",\"shared~loaders.video.VideoPlayerDefaultUI~loaders.video.VideoPlayerMiniUI~loaders.video.VideoPlayerEventsUI\":\"94f747d\",\"shared~loaders.video.VideoPlayerDefaultUI~loaders.video.VideoPlayerEventsUI~loader.immersiveTweetHandler\":\"b3d0ba8\",\"shared~loaders.video.VideoPlayerDefaultUI~loaders.video.VideoPlayerEventsUI\":\"2e99325\",\"shared~loaders.video.VideoPlayerDefaultUI~loaders.video.VideoPlayerPrerollUI\":\"eacf516\",\"shared~loaders.video.VideoPlayerDefaultUI~loaders.video.VideoPlayerMiniUI\":\"5b91d27\",\"loaders.video.VideoPlayerDefaultUI\":\"fd34107\",\"loaders.video.VideoPlayerMiniUI\":\"8d0a451\",\"loaders.video.VideoPlayerHashtagHighlightUI\":\"b7c8a3a\",\"bundle.QuoteTweetActivity\":\"a342056\",\"bundle.TweetActivity\":\"055beee\",\"bundle.TweetCoinDetails\":\"b1803ba\",\"bundle.TwitterBluePaymentFailureFix\":\"4ee3b2f\",\"bundle.TwitterCoinsManagement\":\"ffebb57\",\"shared~bundle.UserJobs~ondemand.Verified\":\"06044b5\",\"bundle.UserJobs\":\"b54bda5\",\"shared~bundle.UserLists~loader.ListHandler~ondemand.HoverCard\":\"cea94c0\",\"shared~bundle.UserLists~ondemand.HoverCard\":\"9d01cfb\",\"bundle.UserLists\":\"fe931a0\",\"bundle.UserAvatar\":\"c72086d\",\"bundle.UserNft\":\"c104a3f\",\"bundle.UserRedirect\":\"39da1de\",\"bundle.SuperFollowsManage\":\"0393292\",\"bundle.FollowerRequests\":\"d9669d9\",\"bundle.ProfileRedirect\":\"9972e80\",\"bundle.SuperFollowsSubscribe\":\"220bde5\",\"shared~bundle.UserFollowLists~bundle.UserProfile\":\"0b3852e\",\"bundle.UserFollowLists\":\"9601b81\",\"shared~bundle.ExtendedUserProfile~bundle.UserProfile\":\"5aa1e73\",\"bundle.ExtendedUserProfile\":\"c56776a\",\"shared~bundle.UserProfile~loader.IconLabelHandler\":\"da941bc\",\"bundle.UserProfile\":\"450a480\",\"ondemand.Verified\":\"f7314e5\",\"ondemand.StaticAssets\":\"5b28fa7\",\"shared~ondemand.EmojiPickerData~ondemand.ParticipantReaction~ondemand.EmojiPicker\":\"fa88427\",\"shared~ondemand.HoverCard~loader.topicLandingHeaderHandler\":\"7f27660\",\"ondemand.HoverCard\":\"f20c3f2\",\"shared~ondemand.ParticipantReaction~ondemand.EmojiPicker\":\"f71c891\",\"ondemand.ParticipantReaction\":\"667a533\",\"loader.HWCard\":\"1d2c781\",\"loader.AudioContextVoiceMedia\":\"ba87b28\",\"shared~loader.AudioContextSpaceClip~ondemand.InlinePlayer\":\"5214d68\",\"loader.AudioContextSpaceClip\":\"211a1cc\",\"loader.AudioContextSpaceMedia\":\"b9980ed\",\"shared~ondemand.InlinePlayer~loader.AudioOnlyVideoPlayer~loader.immersiveTweetHandler\":\"068f753\",\"ondemand.InlinePlayer\":\"a87e766\",\"ondemand.video.PlayerHls1.2\":\"3f0019c\",\"loaders.video.PlayerHls1.1\":\"173b51b\",\"loader.AudioOnlyVideoPlayer\":\"7220265\",\"shared~loader.WideLayout~loader.ProfileClusterFollow\":\"0d763a5\",\"loader.WideLayout\":\"d8a496a\",\"bundle.SettingsRevamp\":\"111cdd9\",\"ondemand.NotFound\":\"3118fbd\",\"bundle.SettingsTransparency\":\"5a2d179\",\"bundle.Download\":\"d386fab\",\"loader.AbsolutePower\":\"6681df1\",\"ondemand.LottieWeb\":\"0e2c016\",\"loader.Confetti\":\"dd97a1d\",\"loader.TimelineRenderer\":\"8458466\",\"loader.DividerHandler\":\"873ae75\",\"loader.TombstonedEntryHandler\":\"5ac16d6\",\"loader.ArticleHandler\":\"68f9a9a\",\"loader.collectionHeaderHandler\":\"04d33ff\",\"loader.CommunityHandler\":\"3df990d\",\"shared~loader.GapHandler~loader.ConversationGapHandler\":\"b2c688e\",\"shared~loader.GapHandler~loader.newsEntriesGapHandler\":\"1a2f4f6\",\"loader.GapHandler\":\"1506f84\",\"shared~loader.EventSummaryHandler~loader.TrendHandler\":\"6f9f008\",\"loader.EventSummaryHandler\":\"9c849d2\",\"loader.IconLabelHandler\":\"cc23359\",\"loader.InlinePromptHandler\":\"e1f85fe\",\"ondemand.jobLoader\":\"99a9f81\",\"loader.TransparentLabelHandler\":\"846835b\",\"loader.LabelHandler\":\"f85cc51\",\"loader.ListHandler\":\"c63b8ac\",\"shared~loader.PushNotificationsPrompt~loader.MessageHandler\":\"9aaf323\",\"loader.MessageHandler\":\"b1416dd\",\"loader.MomentAnnotationHandler\":\"402141b\",\"loader.MomentSummaryHandler\":\"94f3d7d\",\"loader.newsEntriesGapHandler\":\"168c7c2\",\"loader.newsArticleHandler\":\"5c1f72b\",\"loader.newsPreviewHandler\":\"c8f6757\",\"shared~loader.NotificationHandler~icons/IconNotificationsMilestone-js\":\"09ceaeb\",\"loader.NotificationHandler\":\"c86d163\",\"loader.PagedCarouselItemHandler\":\"a25f8ba\",\"loader.promptHandler\":\"7e49fd7\",\"loader.RelatedSearchHandler\":\"9607da5\",\"loader.ScoreEventSummaryHandler\":\"cf42950\",\"loader.selfThreadTweetComposerHandler\":\"9b4d5a0\",\"loader.spellingHandler\":\"2bec732\",\"loader.ThreadHeaderHandler\":\"8803436\",\"loader.TileHandler\":\"06e0981\",\"loader.TimelineCardHandler\":\"b9f1d73\",\"loader.CarouselTimelineHandler\":\"69d4504\",\"loader.ConversationGapHandler\":\"2c60d21\",\"loader.FooterLoader\":\"c3e1388\",\"loader.ModuleHeader\":\"a063113\",\"loader.ImpressionPlaceholderHandler\":\"35709ab\",\"loader.ShowMoreHandler\":\"12ba8c2\",\"loader.VerticalGridListHandler\":\"783a69c\",\"loader.VerticalGridRowHandler\":\"368c3ab\",\"shared~loader.inlineTombstoneHandler~loader.tweetHandler\":\"123f841\",\"loader.inlineTombstoneHandler\":\"b37ed3b\",\"loader.tweetUnavailableTombstoneHandler\":\"354479e\",\"loader.disconnectedRepliesTombstoneHandler\":\"af46e96\",\"shared~loader.topicHandler~loader.TopicFollowPromptHandler\":\"4bbfb50\",\"loader.topicHandler\":\"0bbe1e3\",\"loader.TopicFollowPromptHandler\":\"13ba187\",\"loader.topicLandingHeaderHandler\":\"5517dae\",\"loader.TrendHandler\":\"3c9b834\",\"loader.tweetHandler\":\"52dd99b\",\"loader.unsupportedHandler\":\"7e66d90\",\"loader.UserHandler\":\"32d5ecf\",\"loader.VerticalGridItemHandler\":\"d5c35c3\",\"loader.GetVerifiedSidebar\":\"4e38cb6\",\"shared~loader.Spacebar~loader.SidebarSpacebar\":\"f7391ef\",\"loader.Spacebar\":\"04d744d\",\"loader.SidebarSpacebar\":\"7f085a2\",\"loader.ExploreSidebar\":\"f527dc6\",\"loader.SignupModule\":\"b63d40a\",\"ondemand.RichText\":\"9ba7640\",\"ondemand.EmojiPicker\":\"d879de5\",\"loader.PushNotificationsPrompt\":\"38f6992\",\"loader.MediaPreviewVideoPlayer\":\"217270b\",\"ondemand.ModelViewer\":\"2bb8f09\",\"ondemand.ReactBeautifulDnd\":\"c316da0\",\"ondemand.Spacebar.Mocks\":\"c29c688\",\"loader.PreviewActions\":\"99f360d\",\"loader.TweetCurationActionMenu\":\"ecba768\",\"ondemand.IntentPrompt\":\"f6c95d0\",\"loader.PivotLabelHandler\":\"f2de421\",\"loaders.video.VideoPlayerEventsUI\":\"e21017a\",\"ondemand.countries-ar\":\"e00caa8\",\"ondemand.countries-bg\":\"2c6c7b2\",\"ondemand.countries-bn\":\"2e10d75\",\"ondemand.countries-ca\":\"7af4f7a\",\"ondemand.countries-cs\":\"2d1a247\",\"ondemand.countries-da\":\"a507c55\",\"ondemand.countries-de\":\"17eaa83\",\"ondemand.countries-el\":\"191246e\",\"ondemand.countries-en-GB\":\"d729b6a\",\"ondemand.countries-en\":\"08a1d45\",\"ondemand.countries-es\":\"4eb19ac\",\"ondemand.countries-eu\":\"c120695\",\"ondemand.countries-fa\":\"27d8122\",\"ondemand.countries-fi\":\"05c4e05\",\"ondemand.countries-fil\":\"0e44725\",\"ondemand.countries-fr\":\"e8e99bb\",\"ondemand.countries-ga\":\"879585d\",\"ondemand.countries-gl\":\"b722187\",\"ondemand.countries-gu\":\"f9436b2\",\"ondemand.countries-he\":\"ce757f2\",\"ondemand.countries-hi\":\"93b5635\",\"ondemand.countries-hr\":\"bfb16bd\",\"ondemand.countries-hu\":\"4320f59\",\"ondemand.countries-id\":\"da1183b\",\"ondemand.countries-ig\":\"075adf9\",\"ondemand.countries-it\":\"6d27fea\",\"ondemand.countries-ja\":\"3977485\",\"ondemand.countries-kn\":\"82bb929\",\"ondemand.countries-ko\":\"d053c40\",\"ondemand.countries-mr\":\"f558200\",\"ondemand.countries-ms\":\"fff400b\",\"ondemand.countries-nb\":\"4ec1314\",\"ondemand.countries-nl\":\"cb20249\",\"ondemand.countries-pl\":\"f0f51b4\",\"ondemand.countries-pt\":\"debf548\",\"ondemand.countries-ro\":\"eb70c0d\",\"ondemand.countries-ru\":\"9c0d676\",\"ondemand.countries-sk\":\"54a19e5\",\"ondemand.countries-sr\":\"09aa187\",\"ondemand.countries-sv\":\"7ad71b2\",\"ondemand.countries-ta\":\"c69ea10\",\"ondemand.countries-th\":\"51e5b84\",\"ondemand.countries-tr\":\"8ccd5cc\",\"ondemand.countries-uk\":\"9a51cda\",\"ondemand.countries-ur\":\"3638daa\",\"ondemand.countries-yo\":\"2415d65\",\"ondemand.countries-zh-Hant\":\"6e1de6e\",\"ondemand.countries-zh\":\"8d86009\",\"ondemand.EditBirthdate\":\"1311382\",\"bundle.RichTextCompose\":\"67355e9\",\"ondemand.framerateTracking\":\"30b7692\",\"ondemand.qrcode\":\"63179e4\",\"bundle.TimezoneSelector.timezones\":\"826877a\",\"loader.immersiveTweetHandler\":\"2026ccc\",\"loaders.video.VideoPlayerPrerollUI\":\"e49538e\",\"loader.ProfileClusterFollow\":\"691ae15\",\"ondemand.Balloons\":\"503bf00\",\"icons/IconAccessibilityAlt-js\":\"75d9ca7\",\"icons/IconAccessibilityCircle-js\":\"1b654f7\",\"icons/IconAccount-js\":\"1dddec8\",\"icons/IconAccountNFT-js\":\"bc8f536\",\"icons/IconAccountsStroke-js\":\"c67f52d\",\"icons/IconActivity-js\":\"1d73d56\",\"icons/IconAlerts-js\":\"764232c\",\"icons/IconAlignCenter-js\":\"e2fa30d\",\"icons/IconAlignLeft-js\":\"3088113\",\"icons/IconAlignRight-js\":\"52d9496\",\"icons/IconAltPill-js\":\"58703ba\",\"icons/IconAltPillStroke-js\":\"d088d8d\",\"icons/IconArrowDown-js\":\"8068831\",\"icons/IconArrowDownCircleFill-js\":\"a66180e\",\"icons/IconArrowLeftCircleFill-js\":\"456cbe3\",\"icons/IconArrowRightCircleFill-js\":\"89e00a6\",\"icons/IconArrowUp-js\":\"39bd279\",\"icons/IconArrowUpCircle-js\":\"4875890\",\"icons/IconArrowUpCircleFill-js\":\"1404b84\",\"icons/IconArrowUpLeft-js\":\"d801712\",\"icons/IconAtBold-js\":\"a05b47f\",\"icons/IconAtOff-js\":\"e6b3f7e\",\"icons/IconAttachment-js\":\"961c3e3\",\"icons/IconAudio-js\":\"5a6895e\",\"icons/IconAward-js\":\"640d1ac\",\"icons/IconAwardsFill-js\":\"3a7d1ba\",\"icons/IconBadgeStroke-js\":\"368fb9b\",\"icons/IconBarChartCircleFill-js\":\"b5c4d95\",\"icons/IconBarChartHorizontal-js\":\"ba18de7\",\"icons/IconBarChartHorizontalStroke-js\":\"95854e6\",\"icons/IconBirdwatch-js\":\"db76312\",\"icons/IconBirdwatchFill-js\":\"7ce81a6\",\"icons/IconBoldCompact-js\":\"d846ffa\",\"icons/IconBook-js\":\"5ed9e9e\",\"icons/IconBookStrokeOn-js\":\"11296f1\",\"icons/IconBookmarkCollections-js\":\"3d24f1c\",\"icons/IconBookmarkCollectionsPlusStroke-js\":\"acc4b8d\",\"icons/IconBookmarkCollectionsStroke-js\":\"6c0b611\",\"icons/IconBookmarkErrorStroke-js\":\"61150d8\",\"icons/IconBookmarkPlusStroke-js\":\"926b07d\",\"icons/IconBotStroke-js\":\"e548a60\",\"icons/IconBug-js\":\"0dca996\",\"icons/IconBugStroke-js\":\"a196af3\",\"icons/IconBulletedList-js\":\"204a7fa\",\"icons/IconCamera-js\":\"49a7376\",\"icons/IconCameraFlash-js\":\"e54c2e4\",\"icons/IconCameraFlashOff-js\":\"8ed5d73\",\"icons/IconCameraFlip-js\":\"b882ce7\",\"icons/IconCameraPlus-js\":\"8e1943f\",\"icons/IconCameraPlusStroke-js\":\"1dcf847\",\"icons/IconCameraStroke-js\":\"038ed8f\",\"icons/IconCameraVideo-js\":\"69870bf\",\"icons/IconCameraVideoStroke-js\":\"318660e\",\"icons/IconCameraVideoStrokeOff-js\":\"2c71949\",\"icons/IconCards-js\":\"cd9fa8d\",\"icons/IconCart-js\":\"0c6e6e6\",\"icons/IconCautionStroke-js\":\"e3fc5c2\",\"icons/IconCheckall-js\":\"e5b4946\",\"icons/IconCheckmarkCircleFillWhite-js\":\"2a06a58\",\"icons/IconChevronDown-js\":\"897e984\",\"icons/IconChevronLeft-js\":\"7b0db4a\",\"icons/IconChevronRight-js\":\"74b9ff5\",\"icons/IconChevronUp-js\":\"ff212ef\",\"icons/IconCircleFill-js\":\"03be531\",\"icons/IconClockCircleFill-js\":\"85df2ea\",\"icons/IconClone-js\":\"711aa66\",\"icons/IconCloseCircleFill-js\":\"cc451d2\",\"icons/IconCloseNoMargin-js\":\"c2381f1\",\"icons/IconCloudFill-js\":\"ea333d5\",\"icons/IconCloudStroke-js\":\"b102c73\",\"icons/IconCode-js\":\"5a4c7d2\",\"icons/IconCollaboration-js\":\"079087a\",\"icons/IconCollaborationStroke-js\":\"835994e\",\"icons/IconCollections-js\":\"9728e56\",\"icons/IconColorpicker-js\":\"7493f65\",\"icons/IconColumnStroke-js\":\"a3140c6\",\"icons/IconColumnWidthMedium-js\":\"4e45a26\",\"icons/IconColumnWidthMediumStroke-js\":\"f321107\",\"icons/IconColumnWidthNarrow-js\":\"d029899\",\"icons/IconColumnWidthNarrowStroke-js\":\"b2dfc11\",\"icons/IconColumnWidthWide-js\":\"67887ea\",\"icons/IconColumnWidthWideStroke-js\":\"c542790\",\"icons/IconCommunitiesCloseStroke-js\":\"17d5e1d\",\"icons/IconComposeDm-js\":\"413342a\",\"icons/IconComposeMoments-js\":\"9fdbdeb\",\"icons/IconComposeSpaces-js\":\"5364458\",\"icons/IconConnectArrows-js\":\"b01970a\",\"icons/IconCookies-js\":\"1230f1e\",\"icons/IconCopyCircleFill-js\":\"2480884\",\"icons/IconCreditcardBack-js\":\"e05405a\",\"icons/IconCreditcardFront-js\":\"f5f9d2a\",\"icons/IconDatasaver-js\":\"6b934d0\",\"icons/IconDatasaverStroke-js\":\"afc1dd4\",\"icons/IconDeckStroke-js\":\"28fe8dc\",\"icons/IconDeskBell-js\":\"fe0c5e1\",\"icons/IconDeskBellStroke-js\":\"dcaaede\",\"icons/IconDeviceLaptop-js\":\"84aeda8\",\"icons/IconDeviceNotification-js\":\"3778d04\",\"icons/IconDevicePhone-js\":\"9449df6\",\"icons/IconDeviceTablet-js\":\"ae89799\",\"icons/IconDeviceUnknown-js\":\"e28358c\",\"icons/IconDocument-js\":\"2a76b96\",\"icons/IconDoubleChevronDown-js\":\"437bd55\",\"icons/IconDoubleChevronLeft-js\":\"ecd1844\",\"icons/IconDoubleChevronRight-js\":\"8d10a68\",\"icons/IconDoubleChevronUp-js\":\"7404968\",\"icons/IconDrafts-js\":\"d955aef\",\"icons/IconDrag-js\":\"6fae02f\",\"icons/IconDraggable-js\":\"ea14ad1\",\"icons/IconDraggableVertical-js\":\"1fb11d3\",\"icons/IconDraw-js\":\"82aa5a6\",\"icons/IconDrawer-js\":\"abc0f79\",\"icons/IconDrawerOn-js\":\"b9821df\",\"icons/IconEraser-js\":\"ea6d898\",\"icons/IconEraserStroke-js\":\"bd34cf4\",\"icons/IconErrorCircle-js\":\"2ec6460\",\"icons/IconErrorCircleFillWhite-js\":\"77aa1ad\",\"icons/IconErrorSquare-js\":\"e4a04f5\",\"icons/IconErrorSquareStroke-js\":\"86fe451\",\"icons/IconExiting-js\":\"d7fb57c\",\"icons/IconEyeOff-js\":\"f6f7a45\",\"icons/IconEyedropper-js\":\"67253e6\",\"icons/IconFastforward-js\":\"41f4041\",\"icons/IconFeedback-js\":\"f6bf7fc\",\"icons/IconFilm-js\":\"6afd800\",\"icons/IconFilter-js\":\"c36f2c8\",\"icons/IconFilterBeforeAfter-js\":\"54b148d\",\"icons/IconFlask-js\":\"c38abab\",\"icons/IconFlaskStroke-js\":\"a40b702\",\"icons/IconFolderArrowLeft-js\":\"ff2fd43\",\"icons/IconFollowArrowLeft-js\":\"75713a8\",\"icons/IconFollowArrowLeftStroke-js\":\"4996395\",\"icons/IconFollowArrows-js\":\"ae09fbe\",\"icons/IconFollowClose-js\":\"86d935e\",\"icons/IconFollowPlus-js\":\"fe8a108\",\"icons/IconFollowingStroke-js\":\"d378ae1\",\"icons/IconFrownCircleFill-js\":\"ab3e5b7\",\"icons/IconGaming-js\":\"de7ed3a\",\"icons/IconGifPill-js\":\"000a2a6\",\"icons/IconGovernmentCandidate-js\":\"35d3ddd\",\"icons/IconGovernmentMedia-js\":\"6959deb\",\"icons/IconGrid-js\":\"390fcb1\",\"icons/IconGridPlus-js\":\"435e99b\",\"icons/IconGridStroke-js\":\"1467e04\",\"icons/IconHash-js\":\"645cb89\",\"icons/IconHashStroke-js\":\"2a55060\",\"icons/IconHeartBrokenStroke-js\":\"a51842d\",\"icons/IconHeartBurst-js\":\"244ce1b\",\"icons/IconHeartBurstStroke-js\":\"73f40c8\",\"icons/IconHeartPlus-js\":\"aca8d09\",\"icons/IconHeartStroke-js\":\"5144b3b\",\"icons/IconHelpCircle-js\":\"60b0429\",\"icons/IconHelpCircleFill-js\":\"4662e3a\",\"icons/IconHighlights-js\":\"01706a9\",\"icons/IconHighlightsStroke-js\":\"7715c65\",\"icons/IconHistory-js\":\"ccf6fe9\",\"icons/IconIllustrationConnectAudience-js\":\"ce80902\",\"icons/IconIllustrationConversationTree-js\":\"2d89d10\",\"icons/IconIllustrationNotificationsSecurityAlert-js\":\"6f0e0b1\",\"icons/IconIllustrationNotificationsSecurityUnknown-js\":\"0630a67\",\"icons/IconIllustrationPassiveIncome-js\":\"5a1f18d\",\"icons/IconIllustrationReceiveCoins-js\":\"d919a27\",\"icons/IconIllustrationSafetyAttentionDecrease-js\":\"118a0dd\",\"icons/IconIllustrationSafetyAttentionIncrease-js\":\"58ed4c4\",\"icons/IconIllustrationSafetyBlock-js\":\"b1083de\",\"icons/IconIllustrationSafetyMuteConversation-js\":\"408dbee\",\"icons/IconIllustrationSafetyMuteWords-js\":\"1d9fd27\",\"icons/IconIllustrationSafetyReport-js\":\"2137871\",\"icons/IconIllustrationSafetyReportTweet-js\":\"f06c3ef\",\"icons/IconIllustrationSafetyReportUser-js\":\"0ceda1a\",\"icons/IconIllustrationSparkleOff-js\":\"133cb61\",\"icons/IconIllustrationSparkleOn-js\":\"3dbac4a\",\"icons/IconIncoming-js\":\"509d50c\",\"icons/IconIncomingFill-js\":\"d20d6a2\",\"icons/IconInformationSquare-js\":\"247dcaa\",\"icons/IconInformationSquareStroke-js\":\"98a92ed\",\"icons/IconItalic-js\":\"3920800\",\"icons/IconKeyStroke-js\":\"38c7fb9\",\"icons/IconLayers-js\":\"78dc848\",\"icons/IconLayersStroke-js\":\"c2af4fd\",\"icons/IconLightbulbStrokeOff-js\":\"2b97200\",\"icons/IconLightbulbStrokeOn-js\":\"05e5254\",\"icons/IconLivePhotoOff-js\":\"c0aa505\",\"icons/IconLivePhotoOn-js\":\"70b104e\",\"icons/IconLivePill-js\":\"23efe2c\",\"icons/IconLivePillStroke-js\":\"6909dc0\",\"icons/IconLocationArrowStroke-js\":\"8727442\",\"icons/IconLocationCurrent-js\":\"1fefb92\",\"icons/IconLockCircleFill-js\":\"6ad325b\",\"icons/IconLockStroke-js\":\"4aecd40\",\"icons/IconLogoGmail-js\":\"b6ee33b\",\"icons/IconLogoGoogleG-js\":\"bfe6665\",\"icons/IconLogoInstagram-js\":\"ff22f7d\",\"icons/IconLogoKakaotalk-js\":\"8ec8393\",\"icons/IconLogoLine-js\":\"58e4afe\",\"icons/IconLogoMail-js\":\"99efc54\",\"icons/IconLogoMessages-js\":\"df80086\",\"icons/IconLogoMessenger-js\":\"3f818db\",\"icons/IconLogoReddit-js\":\"bcacc16\",\"icons/IconLogoSlack-js\":\"70e97f1\",\"icons/IconLogoSnapchat-js\":\"1ff4ed2\",\"icons/IconLogoTelegram-js\":\"ef42ba6\",\"icons/IconLogoViber-js\":\"6120a2a\",\"icons/IconLogoWhatsapp-js\":\"0855761\",\"icons/IconManageDeckStroke-js\":\"fa7cf0d\",\"icons/IconMediaCollapse-js\":\"6396e2c\",\"icons/IconMediaDock-js\":\"8394998\",\"icons/IconMediaExpand-js\":\"678ac3f\",\"icons/IconMediaSlowmotion-js\":\"1109a77\",\"icons/IconMediaUndock-js\":\"59254a4\",\"icons/IconMediumNewsStroke-js\":\"47166bb\",\"icons/IconMediumPlus-js\":\"80327ce\",\"icons/IconMediumTrashcanStroke-js\":\"bc471de\",\"icons/IconMegaphone-js\":\"818b601\",\"icons/IconMegaphoneStroke-js\":\"c841aa6\",\"icons/IconMenu-js\":\"637c21b\",\"icons/IconMessagesArrowLeftStroke-js\":\"499d774\",\"icons/IconMinus-js\":\"bad143d\",\"icons/IconMinusCircleFill-js\":\"b67d001\",\"icons/IconModerationPlus-js\":\"cc6c0e1\",\"icons/IconModeratorClose-js\":\"9506a5d\",\"icons/IconModeratorPlus-js\":\"b82082b\",\"icons/IconModeratorStroke-js\":\"eb75bb2\",\"icons/IconMoonStroke-js\":\"bce6e36\",\"icons/IconNewColumnStroke-js\":\"f2c8ba8\",\"icons/IconNewDeckStroke-js\":\"9360320\",\"icons/IconNews-js\":\"6c868c2\",\"icons/IconNewsStroke-js\":\"85e9c72\",\"icons/IconNotes-js\":\"948ff0d\",\"icons/IconNotesStroke-js\":\"6cc4b21\",\"icons/IconNotificationsCircleFill-js\":\"948751d\",\"icons/IconNotificationsHighlight-js\":\"2465929\",\"icons/IconNotificationsOff-js\":\"c9b7914\",\"icons/IconNotificationsRecommendation-js\":\"ef3d467\",\"icons/IconNotificationsSafety-js\":\"d9a4588\",\"icons/IconNotificationsSecurityAlert-js\":\"8c7a883\",\"icons/IconNotificationsSecurityUnknown-js\":\"1010cce\",\"icons/IconNumberedList-js\":\"8655626\",\"icons/IconOverflow-js\":\"df34029\",\"icons/IconPaintbrushBox-js\":\"d5c3bca\",\"icons/IconPaintbrushBoxBristles-js\":\"0c5b253\",\"icons/IconPaintbrushBoxHandle-js\":\"0982aa6\",\"icons/IconPaintbrushStroke-js\":\"e55c4e0\",\"icons/IconPasswordCircle-js\":\"ef79419\",\"icons/IconPencil-js\":\"e07defe\",\"icons/IconPencilPlus-js\":\"cbdfa0d\",\"icons/IconPeopleGroup-js\":\"4973fa6\",\"icons/IconPeriscope-js\":\"15c328c\",\"icons/IconPersonArrowLeft-js\":\"fc7f6d3\",\"icons/IconPersonArrowLeftStroke-js\":\"7dedb4f\",\"icons/IconPersonCheckmark-js\":\"f408876\",\"icons/IconPersonCheckmarkStroke-js\":\"0ebc1d4\",\"icons/IconPersonHeart-js\":\"cfeced7\",\"icons/IconPersonHeartStroke-js\":\"b4df65a\",\"icons/IconPhone-js\":\"c44f6af\",\"icons/IconPhoto-js\":\"d41a4be\",\"icons/IconPhotoCrop-js\":\"4bf4b2b\",\"icons/IconPhotoEnhance-js\":\"f8ec384\",\"icons/IconPhotoLoad-js\":\"b2e8749\",\"icons/IconPhotoReorder-js\":\"1afc457\",\"icons/IconPhotoRotate-js\":\"8e5986b\",\"icons/IconPhotoStroke-js\":\"f989dcc\",\"icons/IconPin-js\":\"79b56fd\",\"icons/IconPinStrokeOff-js\":\"a548f3b\",\"icons/IconPlayCircle-js\":\"5ba333e\",\"icons/IconPlayCircleFill-js\":\"1b08400\",\"icons/IconPlayCircleWhite-js\":\"f03cd97\",\"icons/IconPlus-js\":\"d06732f\",\"icons/IconPlusCircle-js\":\"ca4bdd7\",\"icons/IconPlusCircleFill-js\":\"6ed0c47\",\"icons/IconProfanity-js\":\"1c60e83\",\"icons/IconPromotedCircle-js\":\"d5da4bd\",\"icons/IconPromotedPill-js\":\"a82869c\",\"icons/IconQrCode-js\":\"8d21ee5\",\"icons/IconQrCodeScanner-js\":\"c616eec\",\"icons/IconQuickshare-js\":\"a857d14\",\"icons/IconQuickshareStroke-js\":\"4727c40\",\"icons/IconQuoteBlock-js\":\"5af4afd\",\"icons/IconQuoteStroke-js\":\"d7b58d3\",\"icons/IconRatingHalfNoMargin-js\":\"058a2d0\",\"icons/IconRepliesStroke-js\":\"b1f73fd\",\"icons/IconReplyOff-js\":\"fa39be6\",\"icons/IconReplyPlusStroke-js\":\"acd6772\",\"icons/IconRewind-js\":\"b061991\",\"icons/IconRocket-js\":\"d83dda1\",\"icons/IconRocketStroke-js\":\"ccf938e\",\"icons/IconSafetyFill-js\":\"ad81053\",\"icons/IconSafetyMode-js\":\"bc51c37\",\"icons/IconSchedule-js\":\"bad129b\",\"icons/IconSearchPersonStroke-js\":\"55e515b\",\"icons/IconShare-js\":\"6a78c9d\",\"icons/IconShareStroke-js\":\"48956e8\",\"icons/IconShareStrokeBold-js\":\"beb7cf2\",\"icons/IconShopping-js\":\"e439579\",\"icons/IconShoppingStroke-js\":\"58956e9\",\"icons/IconSkip-js\":\"e91199d\",\"icons/IconSkipRewind-js\":\"7081a49\",\"icons/IconSmileCircleFill-js\":\"df4ec78\",\"icons/IconSortArrowDown-js\":\"5e2505e\",\"icons/IconSortArrowDownStroke-js\":\"7748b34\",\"icons/IconSortArrows-js\":\"571393d\",\"icons/IconSortDown-js\":\"8c4c8c9\",\"icons/IconSortUp-js\":\"fb75130\",\"icons/IconSparkle-js\":\"00066ec\",\"icons/IconStar-js\":\"d1d714d\",\"icons/IconStarRising-js\":\"976c403\",\"icons/IconStarStroke-js\":\"40f9fef\",\"icons/IconSticker-js\":\"66e8cb5\",\"icons/IconStop-js\":\"630868f\",\"icons/IconStopCircle-js\":\"bb7b91b\",\"icons/IconStrikethrough-js\":\"db9c591\",\"icons/IconSuperlikes-js\":\"5bd9cf0\",\"icons/IconSuperlikesStroke-js\":\"fb162ef\",\"icons/IconTextSize-js\":\"fcdb94b\",\"icons/IconTextSizeDecrease-js\":\"dc7fab6\",\"icons/IconTextSizeIncrease-js\":\"8c14d4a\",\"icons/IconThreadEnd-js\":\"0147f6f\",\"icons/IconThumbsDown-js\":\"8395b1f\",\"icons/IconThumbsUp-js\":\"6b9c0e8\",\"icons/IconTicket-js\":\"ab550ea\",\"icons/IconTicketStroke-js\":\"51d301f\",\"icons/IconTimelineStroke-js\":\"f906096\",\"icons/IconToolbox-js\":\"a32a3c8\",\"icons/IconToolboxStroke-js\":\"a8610d9\",\"icons/IconTransparencyOff-js\":\"21c27b2\",\"icons/IconTransparencyOn-js\":\"ebf4d90\",\"icons/IconTrashcan-js\":\"834fed4\",\"icons/IconTrashcanStroke-js\":\"5b7986f\",\"icons/IconTwitterBlue-js\":\"1800280\",\"icons/IconTwitterBlueExtended-js\":\"59f1bdb\",\"icons/IconTwitterBlueFillWhite-js\":\"d97385b\",\"icons/IconTwitterBlueStroke-js\":\"0f22ca1\",\"icons/IconTwitterCoinGray-js\":\"52b68f4\",\"icons/IconUndo-js\":\"bc8ed01\",\"icons/IconUnlock-js\":\"f5351a5\",\"icons/IconVerifiedStroke-js\":\"50d3efd\",\"icons/IconVideoCollapse-js\":\"f73d0b7\",\"icons/IconVideoExpand-js\":\"a11a7fd\",\"icons/IconVisit-js\":\"d9ef595\",\"icons/IconVoice-js\":\"8e32623\",\"icons/IconWrench-js\":\"30e94e9\",\"icons/IconWrenchStroke-js\":\"6094250\",\"icons/IconWriteStroke-js\":\"e1673ef\",\"icons/IconYelpNoMargin-js\":\"a801a2e\",\"icons/IconYelpRating00NoMargin-js\":\"962dd2a\",\"icons/IconYelpRating10NoMargin-js\":\"486d351\",\"icons/IconYelpRating15NoMargin-js\":\"65e8bf5\",\"icons/IconYelpRating20NoMargin-js\":\"8184337\",\"icons/IconYelpRating25NoMargin-js\":\"2f3fe85\",\"icons/IconYelpRating30NoMargin-js\":\"cda0f3e\",\"icons/IconYelpRating35NoMargin-js\":\"1e2d844\",\"icons/IconYelpRating40NoMargin-js\":\"d195d40\",\"icons/IconYelpRating45NoMargin-js\":\"1dd87f5\",\"icons/IconYelpRating50NoMargin-js\":\"c54f6b2\",\"ondemand.ProfileSidebar\":\"192c213\",\"ondemand.CarouselScroller\":\"70a71bd\",\"ondemand.LeaveThisConversation\":\"509e8bc\",\"ondemand.CommunityTweetPinning\":\"8bdeef9\"}[e]+\"a.js\";},s.g=function(){if(\"object\"==(typeof globalThis===\"undefined\"?\"undefined\":_typeof(globalThis)))return globalThis;try{return this||new Function(\"return this\")();}catch(e){if(\"object\"==(typeof window===\"undefined\"?\"undefined\":_typeof(window)))return window;}}(),s.o=function(e,n){return Object.prototype.hasOwnProperty.call(e,n);},d={},a=\"@twitter/responsive-web:\",s.l=function(e,n,o,i){if(d[e])d[e].push(n);else{var r,l;if(void 0!==o)for(var c=document.getElementsByTagName(\"script\"),t=0;t<c.length;t++){var u=c[t];if(u.getAttribute(\"src\")==e||u.getAttribute(\"data-webpack\")==a+o){r=u;break;}}r||(l=!0,(r=document.createElement(\"script\")).charset=\"utf-8\",r.timeout=120,s.nc&&r.setAttribute(\"nonce\",s.nc),r.setAttribute(\"data-webpack\",a+o),r.src=e,0!==r.src.indexOf(window.location.origin+\"/\")&&(r.crossOrigin=\"anonymous\")),d[e]=[n];var b=function b(n,o){r.onerror=r.onload=null,clearTimeout(f);var a=d[e];if(delete d[e],r.parentNode&&r.parentNode.removeChild(r),a&&a.forEach(function(e){return e(o);}),n)return n(o);},f=setTimeout(b.bind(null,void 0,{type:\"timeout\",target:r}),12e4);r.onerror=b.bind(null,r.onerror),r.onload=b.bind(null,r.onload),l&&document.head.appendChild(r);}},s.r=function(e){\"undefined\"!=typeof Symbol&&Symbol.toStringTag&&Object.defineProperty(e,Symbol.toStringTag,{value:\"Module\"}),Object.defineProperty(e,\"__esModule\",{value:!0});},s.nmd=function(e){return e.paths=[],e.children||(e.children=[]),e;},s.p=\"https://abs.twimg.com/responsive-web/client-web-legacy/\",function(){var e={runtime:0};s.f.j=function(n,o){var d=s.o(e,n)?e[n]:void 0;if(0!==d)if(d)o.push(d[2]);else if(\"runtime\"!=n){var a=new Promise(function(o,a){return d=e[n]=[o,a];});o.push(d[2]=a);var i=s.p+s.u(n),r=new Error();s.l(i,function(o){if(s.o(e,n)&&(0!==(d=e[n])&&(e[n]=void 0),d)){var a=o&&(\"load\"===o.type?\"missing\":o.type),i=o&&o.target&&o.target.src;r.message=\"Loading chunk \"+n+\" failed.\\n(\"+a+\": \"+i+\")\",r.name=\"ChunkLoadError\",r.type=a,r.request=i,d[1](r);}},\"chunk-\"+n,n);}else e[n]=0;},s.O.j=function(n){return 0===e[n];};var n=function n(_n,o){var d,a,_o=_slicedToArray(o,3),i=_o[0],r=_o[1],l=_o[2],c=0;if(i.some(function(n){return 0!==e[n];})){for(d in r)s.o(r,d)&&(s.m[d]=r[d]);if(l)var t=l(s);}for(_n&&_n(o);c<i.length;c++)a=i[c],s.o(e,a)&&e[a]&&e[a][0](),e[a]=0;return s.O(t);},o=self.webpackChunk_twitter_responsive_web=self.webpackChunk_twitter_responsive_web||[];o.forEach(n.bind(null,0)),o.push=n.bind(null,o.push.bind(o));}();})(),window.__SCRIPTS_LOADED__.runtime=!0;\n",
       "\n",
       "</script><script charset=\"utf-8\" nonce=\"MTBlMjZlZjMtM2ZjMi00OTllLWJjOTctZWRhMGY1YTc3NWMw\" type=\"text/javascript\">performance && performance.mark && performance.mark('scripts-blocking-start')</script><script charset=\"utf-8\" crossorigin=\"anonymous\" nonce=\"MTBlMjZlZjMtM2ZjMi00OTllLWJjOTctZWRhMGY1YTc3NWMw\" src=\"https://abs.twimg.com/responsive-web/client-web-legacy/polyfills.5493c32a.js\" type=\"text/javascript\"></script><script charset=\"utf-8\" crossorigin=\"anonymous\" nonce=\"MTBlMjZlZjMtM2ZjMi00OTllLWJjOTctZWRhMGY1YTc3NWMw\" src=\"https://abs.twimg.com/responsive-web/client-web-legacy/vendor.bc4db04a.js\" type=\"text/javascript\"></script><script charset=\"utf-8\" crossorigin=\"anonymous\" nonce=\"MTBlMjZlZjMtM2ZjMi00OTllLWJjOTctZWRhMGY1YTc3NWMw\" src=\"https://abs.twimg.com/responsive-web/client-web-legacy/i18n/en.a261f6ea.js\" type=\"text/javascript\"></script><script charset=\"utf-8\" crossorigin=\"anonymous\" nonce=\"MTBlMjZlZjMtM2ZjMi00OTllLWJjOTctZWRhMGY1YTc3NWMw\" src=\"https://abs.twimg.com/responsive-web/client-web-legacy/main.87fcda4a.js\" type=\"text/javascript\"></script><script charset=\"utf-8\" nonce=\"MTBlMjZlZjMtM2ZjMi00OTllLWJjOTctZWRhMGY1YTc3NWMw\" type=\"text/javascript\">performance && performance.measure && performance.measure('scripts-blocking', 'scripts-blocking-start')</script><script nonce=\"MTBlMjZlZjMtM2ZjMi00OTllLWJjOTctZWRhMGY1YTc3NWMw\">(function () {\n",
       "  if (!window.__SCRIPTS_LOADED__['main']) {\n",
       "    document.getElementById('ScriptLoadFailure').style.display = 'block';\n",
       "    var criticalScripts = [\"polyfills\",\"vendor\",\"main\"];\n",
       "    for (var i = 0; i < criticalScripts.length; i++) {\n",
       "      var criticalScript = criticalScripts[i];\n",
       "      if (!window.__SCRIPTS_LOADED__[criticalScript]) {\n",
       "        document.getElementsByName('failedScript')[0].value = criticalScript;\n",
       "        break;\n",
       "      }\n",
       "    }\n",
       "  }\n",
       "})();</script></body></html>"
      ]
     },
     "execution_count": 267,
     "metadata": {},
     "output_type": "execute_result"
    }
   ],
   "source": [
    "#your code\n",
    "sopa.find_all('div')\n",
    "\n",
    "sopa"
   ]
  },
  {
   "cell_type": "markdown",
   "metadata": {},
   "source": [
    "#### Number of followers of a given twitter account"
   ]
  },
  {
   "cell_type": "markdown",
   "metadata": {},
   "source": [
    "You will need to include a ***try/except block*** in case account/s name not found. \n",
    "<br>***Hint:*** the program should count the followers for any provided account"
   ]
  },
  {
   "cell_type": "markdown",
   "metadata": {},
   "source": [
    "##### IT IS NOT POSSIBLE ANYMORE THANKS TO OUR DEAR ELON"
   ]
  },
  {
   "cell_type": "code",
   "execution_count": 280,
   "metadata": {},
   "outputs": [],
   "source": [
    "# This is the url you will scrape in this exercise \n",
    "# You will need to add the account credentials to this url\n",
    "url = 'https://twitter.com/'\n",
    "\n",
    "html = req.get(url).text\n",
    "\n",
    "sopa = bs(html, 'html.parser')"
   ]
  },
  {
   "cell_type": "code",
   "execution_count": null,
   "metadata": {},
   "outputs": [],
   "source": [
    "#your code"
   ]
  },
  {
   "cell_type": "markdown",
   "metadata": {},
   "source": [
    "#### List all language names and number of related articles in the order they appear in wikipedia.org"
   ]
  },
  {
   "cell_type": "code",
   "execution_count": 354,
   "metadata": {},
   "outputs": [],
   "source": [
    "# This is the url you will scrape in this exercise\n",
    "url = 'https://www.wikipedia.org/'\n",
    "\n",
    "html = req.get(url).text\n",
    "\n",
    "sopa = bs(html, 'html.parser')"
   ]
  },
  {
   "cell_type": "code",
   "execution_count": 450,
   "metadata": {},
   "outputs": [
    {
     "data": {
      "text/plain": [
       "[<div class=\"central-featured-lang lang1\" dir=\"ltr\" lang=\"en\">\n",
       " <a class=\"link-box\" data-slogan=\"The Free Encyclopedia\" href=\"//en.wikipedia.org/\" id=\"js-link-box-en\" title=\"English â Wikipedia â The Free Encyclopedia\">\n",
       " <strong>English</strong>\n",
       " <small><bdi dir=\"ltr\">6 715 000+</bdi> <span>articles</span></small>\n",
       " </a>\n",
       " </div>,\n",
       " <div class=\"central-featured-lang lang2\" dir=\"ltr\" lang=\"ja\">\n",
       " <a class=\"link-box\" data-slogan=\"ããªã¼ç¾ç§äºå\n",
       " ¸\" href=\"//ja.wikipedia.org/\" id=\"js-link-box-ja\" title=\"Nihongo â ã¦ã£ã­ããã£ã¢ â ããªã¼ç¾ç§äºå\n",
       " ¸\">\n",
       " <strong>æ¥æ¬èª</strong>\n",
       " <small><bdi dir=\"ltr\">1 387 000+</bdi> <span>è¨äº</span></small>\n",
       " </a>\n",
       " </div>,\n",
       " <div class=\"central-featured-lang lang3\" dir=\"ltr\" lang=\"es\">\n",
       " <a class=\"link-box\" data-slogan=\"La enciclopedia libre\" href=\"//es.wikipedia.org/\" id=\"js-link-box-es\" title=\"EspaÃ±ol â Wikipedia â La enciclopedia libre\">\n",
       " <strong>EspaÃ±ol</strong>\n",
       " <small><bdi dir=\"ltr\">1 892 000+</bdi> <span>artÃ­culos</span></small>\n",
       " </a>\n",
       " </div>,\n",
       " <div class=\"central-featured-lang lang4\" dir=\"ltr\" lang=\"ru\">\n",
       " <a class=\"link-box\" data-slogan=\"Ð¡Ð²Ð¾Ð±Ð¾Ð´Ð½Ð°Ñ ÑÐ½ÑÐ¸ÐºÐ»Ð¾Ð¿ÐµÐ´Ð¸Ñ\" href=\"//ru.wikipedia.org/\" id=\"js-link-box-ru\" title=\"Russkiy â ÐÐ¸ÐºÐ¸Ð¿ÐµÐ´Ð¸Ñ â Ð¡Ð²Ð¾Ð±Ð¾Ð´Ð½Ð°Ñ ÑÐ½ÑÐ¸ÐºÐ»Ð¾Ð¿ÐµÐ´Ð¸Ñ\">\n",
       " <strong>Ð ÑÑÑÐºÐ¸Ð¹</strong>\n",
       " <small><bdi dir=\"ltr\">1 938 000+</bdi> <span>ÑÑÐ°ÑÐµÐ¹</span></small>\n",
       " </a>\n",
       " </div>,\n",
       " <div class=\"central-featured-lang lang5\" dir=\"ltr\" lang=\"de\">\n",
       " <a class=\"link-box\" data-slogan=\"Die freie EnzyklopÃ¤die\" href=\"//de.wikipedia.org/\" id=\"js-link-box-de\" title=\"Deutsch â Wikipedia â Die freie EnzyklopÃ¤die\">\n",
       " <strong>Deutsch</strong>\n",
       " <small><bdi dir=\"ltr\">2 836 000+</bdi> <span>Artikel</span></small>\n",
       " </a>\n",
       " </div>,\n",
       " <div class=\"central-featured-lang lang6\" dir=\"ltr\" lang=\"fr\">\n",
       " <a class=\"link-box\" data-slogan=\"LâencyclopÃ©die libre\" href=\"//fr.wikipedia.org/\" id=\"js-link-box-fr\" title=\"franÃ§ais â WikipÃ©dia â LâencyclopÃ©die libre\">\n",
       " <strong>FranÃ§ais</strong>\n",
       " <small><bdi dir=\"ltr\">2 553 000+</bdi> <span>articles</span></small>\n",
       " </a>\n",
       " </div>,\n",
       " <div class=\"central-featured-lang lang7\" dir=\"ltr\" lang=\"it\">\n",
       " <a class=\"link-box\" data-slogan=\"L'enciclopedia libera\" href=\"//it.wikipedia.org/\" id=\"js-link-box-it\" title=\"Italiano â Wikipedia â L'enciclopedia libera\">\n",
       " <strong>Italiano</strong>\n",
       " <small><bdi dir=\"ltr\">1 826 000+</bdi> <span>voci</span></small>\n",
       " </a>\n",
       " </div>,\n",
       " <div class=\"central-featured-lang lang8\" dir=\"ltr\" lang=\"zh\">\n",
       " <a class=\"link-box jscnconv\" data-slogan=\"èªç±çç¾ç§å\n",
       " ¨ä¹¦ / èªç±çç¾ç§å\n",
       " ¨æ¸\" data-title-hans=\"ZhÅngwÃ©n â ç»´åºç¾ç§ â èªç±çç¾ç§å\n",
       " ¨ä¹¦\" data-title-hant=\"ZhÅngwÃ©n â ç¶­åºç¾ç§ â èªç±çç¾ç§å\n",
       " ¨æ¸\" href=\"//zh.wikipedia.org/\" id=\"js-link-box-zh\" title=\"ZhÅngwÃ©n â ç»´åºç¾ç§ / ç¶­åºç¾ç§ â èªç±çç¾ç§å\n",
       " ¨ä¹¦ / èªç±çç¾ç§å\n",
       " ¨æ¸\">\n",
       " <strong>ä¸­æ</strong>\n",
       " <small><bdi dir=\"ltr\">1 377 000+</bdi> <span class=\"jscnconv\" data-hans=\"æ¡ç®\" data-hant=\"æ¢ç®\">æ¡ç® / æ¢ç®</span></small>\n",
       " </a>\n",
       " </div>,\n",
       " <div class=\"central-featured-lang lang9\" dir=\"ltr\" lang=\"pt\">\n",
       " <a class=\"link-box\" data-slogan=\"A enciclopÃ©dia livre\" href=\"//pt.wikipedia.org/\" id=\"js-link-box-pt\" title=\"PortuguÃªs â WikipÃ©dia â A enciclopÃ©dia livre\">\n",
       " <strong>PortuguÃªs</strong>\n",
       " <small><bdi dir=\"ltr\">1 109 000+</bdi> <span>artigos</span></small>\n",
       " </a>\n",
       " </div>,\n",
       " <div class=\"central-featured-lang lang10\" dir=\"rtl\" lang=\"ar\">\n",
       " <a class=\"link-box\" data-slogan=\"Ø§ÙÙ\n",
       " ÙØ³ÙØ¹Ø© Ø§ÙØ­Ø±Ø©\" href=\"//ar.wikipedia.org/\" id=\"js-link-box-ar\" title=\"Al-Ê¿ArabÄ«yah â ÙÙÙÙØ¨ÙØ¯ÙØ§ â Ø§ÙÙ\n",
       " ÙØ³ÙØ¹Ø© Ø§ÙØ­Ø±Ø©\">\n",
       " <strong><bdi dir=\"rtl\">Ø§ÙØ¹Ø±Ø¨ÙØ©</bdi></strong>\n",
       " <small><bdi dir=\"ltr\">1 217 000+</bdi> <span>Ù\n",
       " ÙØ§ÙØ©</span></small>\n",
       " </a>\n",
       " </div>,\n",
       " None,\n",
       " None,\n",
       " None,\n",
       " None,\n",
       " None,\n",
       " None,\n",
       " None,\n",
       " None,\n",
       " None,\n",
       " None,\n",
       " None,\n",
       " None,\n",
       " None,\n",
       " None,\n",
       " None,\n",
       " None,\n",
       " None,\n",
       " None,\n",
       " None,\n",
       " None,\n",
       " None,\n",
       " None,\n",
       " None,\n",
       " None,\n",
       " None,\n",
       " None,\n",
       " None,\n",
       " None,\n",
       " None,\n",
       " None,\n",
       " None]"
      ]
     },
     "execution_count": 450,
     "metadata": {},
     "output_type": "execute_result"
    }
   ],
   "source": [
    "central = sopa.find('div', class_='central-featured')\n",
    "\n",
    "languages = [central.find('div', class_=f'central-featured-lang lang{i+1}') for i in  range(len(central))]\n",
    "\n",
    "languages\n"
   ]
  },
  {
   "cell_type": "code",
   "execution_count": 518,
   "metadata": {},
   "outputs": [
    {
     "data": {
      "text/plain": [
       "{'English': '6715000+ articles',\n",
       " '日本語': '1387000+ 記事',\n",
       " 'Español': '1892000+ artículos',\n",
       " 'Русский': '1938000+ статей',\n",
       " 'Deutsch': '2836000+ Artikel',\n",
       " 'Français': '2553000+ articles',\n",
       " 'Italiano': '1826000+ voci',\n",
       " '中文': '1377000+ 条目 / 條目',\n",
       " 'Português': '1109000+ artigos',\n",
       " 'العربية': '1217000+ مقالة'}"
      ]
     },
     "execution_count": 518,
     "metadata": {},
     "output_type": "execute_result"
    }
   ],
   "source": [
    "dict_languages ={}\n",
    "\n",
    "for e in range(len(languages)):\n",
    "\n",
    "    try:\n",
    "\n",
    "        language= languages[e].find('strong').text.encode('latin1').decode(\"utf-8\", \"strict\")\n",
    "        articles= languages[e].find('small').text.encode('latin1').decode(\"utf-8\", \"ignore\")\n",
    "        dict_languages[language] = articles\n",
    "\n",
    "    except:\n",
    "        pass\n",
    "\n",
    "\n",
    "dict_languages"
   ]
  },
  {
   "cell_type": "markdown",
   "metadata": {},
   "source": [
    "#### A list with the different kind of datasets available in data.gov.uk "
   ]
  },
  {
   "cell_type": "code",
   "execution_count": 478,
   "metadata": {},
   "outputs": [],
   "source": [
    "# This is the url you will scrape in this exercise\n",
    "url = 'https://data.gov.uk/'\n",
    "\n",
    "html = req.get(url).text\n",
    "\n",
    "sopa = bs(html, 'html.parser')"
   ]
  },
  {
   "cell_type": "code",
   "execution_count": 515,
   "metadata": {},
   "outputs": [
    {
     "data": {
      "text/plain": [
       "['Business and economy',\n",
       " 'Crime and justice',\n",
       " 'Defence',\n",
       " 'Education',\n",
       " 'Environment',\n",
       " 'Government',\n",
       " 'Government spending',\n",
       " 'Health',\n",
       " 'Mapping',\n",
       " 'Society',\n",
       " 'Towns and cities',\n",
       " 'Transport',\n",
       " 'Digital service performance',\n",
       " 'Government reference data']"
      ]
     },
     "execution_count": 515,
     "metadata": {},
     "output_type": "execute_result"
    }
   ],
   "source": [
    "#your code \n",
    "data_uk= sopa.findAll('h3')#, class_='govuk-grid-column-full')\n",
    "\n",
    "themes = []\n",
    "\n",
    "for i in range(len(data_uk)):\n",
    "    \n",
    "    themes.append(data_uk[i].text)\n",
    "\n",
    "\n",
    "themes"
   ]
  },
  {
   "cell_type": "markdown",
   "metadata": {},
   "source": [
    "#### Top 10 languages by number of native speakers stored in a Pandas Dataframe"
   ]
  },
  {
   "cell_type": "code",
   "execution_count": 519,
   "metadata": {},
   "outputs": [],
   "source": [
    "# This is the url you will scrape in this exercise\n",
    "url = 'https://en.wikipedia.org/wiki/List_of_languages_by_number_of_native_speakers'\n",
    "\n",
    "html = req.get(url).text\n",
    "\n",
    "sopa = bs(html, 'html.parser')"
   ]
  },
  {
   "cell_type": "code",
   "execution_count": 597,
   "metadata": {},
   "outputs": [
    {
     "data": {
      "text/plain": [
       "'English'"
      ]
     },
     "execution_count": 597,
     "metadata": {},
     "output_type": "execute_result"
    }
   ],
   "source": [
    "#your code\n",
    "tabla= sopa.find('table', class_= 'wikitable sortable static-row-numbers')\n",
    "\n",
    "titulos= [tabla.findAll('th')[e].text.strip() for e in range(len(tabla.findAll('th') ))]\n",
    "\n",
    "filas= [tabla.findAll('td')[e].text.strip() for e in range(40)]\n"
   ]
  },
  {
   "cell_type": "code",
   "execution_count": 632,
   "metadata": {},
   "outputs": [],
   "source": [
    "data=[]\n",
    "j=0\n",
    "\n",
    "try:\n",
    "    for x in range(10):\n",
    "        temp=[]\n",
    "\n",
    "        for y in range(4):\n",
    "\n",
    "            temp.append(tabla.findAll('td')[j].text.strip())\n",
    "            j+=1\n",
    "\n",
    "        data.append(temp)\n",
    "\n",
    "\n",
    "except:\n",
    "    pass\n"
   ]
  },
  {
   "cell_type": "code",
   "execution_count": 634,
   "metadata": {},
   "outputs": [
    {
     "data": {
      "text/html": [
       "<div>\n",
       "<style scoped>\n",
       "    .dataframe tbody tr th:only-of-type {\n",
       "        vertical-align: middle;\n",
       "    }\n",
       "\n",
       "    .dataframe tbody tr th {\n",
       "        vertical-align: top;\n",
       "    }\n",
       "\n",
       "    .dataframe thead th {\n",
       "        text-align: right;\n",
       "    }\n",
       "</style>\n",
       "<table border=\"1\" class=\"dataframe\">\n",
       "  <thead>\n",
       "    <tr style=\"text-align: right;\">\n",
       "      <th></th>\n",
       "      <th>Language</th>\n",
       "      <th>Native speakers(millions)</th>\n",
       "      <th>Language family</th>\n",
       "      <th>Branch</th>\n",
       "    </tr>\n",
       "  </thead>\n",
       "  <tbody>\n",
       "    <tr>\n",
       "      <th>0</th>\n",
       "      <td>Mandarin Chinese(incl. Standard Chinese, but e...</td>\n",
       "      <td>939</td>\n",
       "      <td>Sino-Tibetan</td>\n",
       "      <td>Sinitic</td>\n",
       "    </tr>\n",
       "    <tr>\n",
       "      <th>1</th>\n",
       "      <td>Spanish</td>\n",
       "      <td>485</td>\n",
       "      <td>Indo-European</td>\n",
       "      <td>Romance</td>\n",
       "    </tr>\n",
       "    <tr>\n",
       "      <th>2</th>\n",
       "      <td>English</td>\n",
       "      <td>380</td>\n",
       "      <td>Indo-European</td>\n",
       "      <td>Germanic</td>\n",
       "    </tr>\n",
       "    <tr>\n",
       "      <th>3</th>\n",
       "      <td>Hindi(excl. Urdu, and other languages)</td>\n",
       "      <td>345</td>\n",
       "      <td>Indo-European</td>\n",
       "      <td>Indo-Aryan</td>\n",
       "    </tr>\n",
       "    <tr>\n",
       "      <th>4</th>\n",
       "      <td>Portuguese</td>\n",
       "      <td>236</td>\n",
       "      <td>Indo-European</td>\n",
       "      <td>Romance</td>\n",
       "    </tr>\n",
       "    <tr>\n",
       "      <th>5</th>\n",
       "      <td>Bengali</td>\n",
       "      <td>234</td>\n",
       "      <td>Indo-European</td>\n",
       "      <td>Indo-Aryan</td>\n",
       "    </tr>\n",
       "    <tr>\n",
       "      <th>6</th>\n",
       "      <td>Russian</td>\n",
       "      <td>147</td>\n",
       "      <td>Indo-European</td>\n",
       "      <td>Balto-Slavic</td>\n",
       "    </tr>\n",
       "    <tr>\n",
       "      <th>7</th>\n",
       "      <td>Japanese</td>\n",
       "      <td>123</td>\n",
       "      <td>Japonic</td>\n",
       "      <td>Japanese</td>\n",
       "    </tr>\n",
       "    <tr>\n",
       "      <th>8</th>\n",
       "      <td>Yue Chinese(incl. Cantonese)</td>\n",
       "      <td>86.1</td>\n",
       "      <td>Sino-Tibetan</td>\n",
       "      <td>Sinitic</td>\n",
       "    </tr>\n",
       "    <tr>\n",
       "      <th>9</th>\n",
       "      <td>Vietnamese</td>\n",
       "      <td>85.0</td>\n",
       "      <td>Austroasiatic</td>\n",
       "      <td>Vietic</td>\n",
       "    </tr>\n",
       "  </tbody>\n",
       "</table>\n",
       "</div>"
      ],
      "text/plain": [
       "                                            Language  \\\n",
       "0  Mandarin Chinese(incl. Standard Chinese, but e...   \n",
       "1                                            Spanish   \n",
       "2                                            English   \n",
       "3             Hindi(excl. Urdu, and other languages)   \n",
       "4                                         Portuguese   \n",
       "5                                            Bengali   \n",
       "6                                            Russian   \n",
       "7                                           Japanese   \n",
       "8                       Yue Chinese(incl. Cantonese)   \n",
       "9                                         Vietnamese   \n",
       "\n",
       "  Native speakers(millions) Language family        Branch  \n",
       "0                       939    Sino-Tibetan       Sinitic  \n",
       "1                       485   Indo-European       Romance  \n",
       "2                       380   Indo-European      Germanic  \n",
       "3                       345   Indo-European    Indo-Aryan  \n",
       "4                       236   Indo-European       Romance  \n",
       "5                       234   Indo-European    Indo-Aryan  \n",
       "6                       147   Indo-European  Balto-Slavic  \n",
       "7                       123         Japonic      Japanese  \n",
       "8                      86.1    Sino-Tibetan       Sinitic  \n",
       "9                      85.0   Austroasiatic        Vietic  "
      ]
     },
     "execution_count": 634,
     "metadata": {},
     "output_type": "execute_result"
    }
   ],
   "source": [
    "df= pd.DataFrame(data, columns=[tabla.findAll('th')[e].text.strip() for e in range(len(tabla.findAll('th') ))])\n",
    "\n",
    "df"
   ]
  },
  {
   "cell_type": "markdown",
   "metadata": {},
   "source": [
    "### BONUS QUESTIONS"
   ]
  },
  {
   "cell_type": "markdown",
   "metadata": {},
   "source": [
    "#### Scrape a certain number of tweets of a given Twitter account."
   ]
  },
  {
   "cell_type": "markdown",
   "metadata": {},
   "source": [
    "##### Cannot be scrapped"
   ]
  },
  {
   "cell_type": "code",
   "execution_count": null,
   "metadata": {},
   "outputs": [],
   "source": [
    "# This is the url you will scrape in this exercise \n",
    "# You will need to add the account credentials to this url\n",
    "url = 'https://twitter.com/'"
   ]
  },
  {
   "cell_type": "code",
   "execution_count": null,
   "metadata": {},
   "outputs": [],
   "source": [
    "# your code"
   ]
  },
  {
   "cell_type": "markdown",
   "metadata": {},
   "source": [
    "#### IMDB's Top 250 data (movie name, Initial release, director name and stars) as a pandas dataframe"
   ]
  },
  {
   "cell_type": "markdown",
   "metadata": {},
   "source": [
    "##### It doesn't work, also next one"
   ]
  },
  {
   "cell_type": "code",
   "execution_count": 635,
   "metadata": {},
   "outputs": [],
   "source": [
    "# This is the url you will scrape in this exercise \n",
    "url = 'https://www.imdb.com/chart/top'"
   ]
  },
  {
   "cell_type": "code",
   "execution_count": null,
   "metadata": {},
   "outputs": [],
   "source": [
    "# your code"
   ]
  },
  {
   "cell_type": "markdown",
   "metadata": {},
   "source": [
    "#### Movie name, year and a brief summary of the top 10 random movies (IMDB) as a pandas dataframe."
   ]
  },
  {
   "cell_type": "code",
   "execution_count": null,
   "metadata": {},
   "outputs": [],
   "source": [
    "#This is the url you will scrape in this exercise\n",
    "url = 'http://www.imdb.com/chart/top'"
   ]
  },
  {
   "cell_type": "code",
   "execution_count": null,
   "metadata": {},
   "outputs": [],
   "source": [
    "#your code"
   ]
  },
  {
   "cell_type": "markdown",
   "metadata": {},
   "source": [
    "#### Find the live weather report (temperature, wind speed, description and weather) of a given city."
   ]
  },
  {
   "cell_type": "code",
   "execution_count": null,
   "metadata": {},
   "outputs": [],
   "source": [
    "#https://openweathermap.org/current\n",
    "city = city=input('Enter the city:')\n",
    "url = 'http://api.openweathermap.org/data/2.5/weather?'+'q='+city+'&APPID=b35975e18dc93725acb092f7272cc6b8&units=metric'"
   ]
  },
  {
   "cell_type": "code",
   "execution_count": null,
   "metadata": {},
   "outputs": [],
   "source": [
    "# your code"
   ]
  },
  {
   "cell_type": "markdown",
   "metadata": {},
   "source": [
    "#### Book name,price and stock availability as a pandas dataframe."
   ]
  },
  {
   "cell_type": "code",
   "execution_count": null,
   "metadata": {},
   "outputs": [],
   "source": [
    "# This is the url you will scrape in this exercise. \n",
    "# It is a fictional bookstore created to be scraped. \n",
    "url = 'http://books.toscrape.com/'"
   ]
  },
  {
   "cell_type": "code",
   "execution_count": null,
   "metadata": {},
   "outputs": [],
   "source": [
    "#your code"
   ]
  }
 ],
 "metadata": {
  "kernelspec": {
   "display_name": "Python 3",
   "language": "python",
   "name": "python3"
  },
  "language_info": {
   "codemirror_mode": {
    "name": "ipython",
    "version": 3
   },
   "file_extension": ".py",
   "mimetype": "text/x-python",
   "name": "python",
   "nbconvert_exporter": "python",
   "pygments_lexer": "ipython3",
   "version": "3.10.13"
  }
 },
 "nbformat": 4,
 "nbformat_minor": 2
}
